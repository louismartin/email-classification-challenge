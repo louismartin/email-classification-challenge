{
 "cells": [
  {
   "cell_type": "code",
   "execution_count": 1,
   "metadata": {
    "collapsed": false,
    "deletable": true,
    "editable": true
   },
   "outputs": [],
   "source": [
    "%matplotlib inline\n",
    "import matplotlib.pyplot as plt\n",
    "from nltk.stem.lancaster import LancasterStemmer\n",
    "import numpy as np\n",
    "import pandas as pd\n",
    "from sklearn.ensemble import RandomForestRegressor\n",
    "from sklearn.feature_extraction.text import CountVectorizer, TfidfVectorizer\n",
    "from tqdm import tqdm_notebook\n",
    "import xgboost as xgb\n",
    "\n",
    "from tools.data_cleansing import clean\n",
    "from tools.data_exploration import print_email_by_id, emails_sent_distribution, emails_received_distribution,\\\n",
    "body_length_distribution, number_of_recipients_distribution\n",
    "from tools.data_handling import enrich_emails, load_email_senders, unique_recipients, address_book, load_emails\n",
    "from tools.features import split_tokenizer, TwidfVectorizer, TeamVectorizer, FastCountVectorizer\n",
    "from tools.sender_pipeline import SenderModel\n",
    "from tools.submission import save_submission\n",
    "from tools.staff_graph import compute_summary_graph, construct_graph, compute_teams, assign_team"
   ]
  },
  {
   "cell_type": "markdown",
   "metadata": {
    "deletable": true,
    "editable": true
   },
   "source": [
    "# Data loading and first look"
   ]
  },
  {
   "cell_type": "code",
   "execution_count": 2,
   "metadata": {
    "collapsed": false,
    "deletable": true,
    "editable": true
   },
   "outputs": [
    {
     "name": "stdout",
     "output_type": "stream",
     "text": [
      "Reading dataframe from data/enrich_emails.csv\n"
     ]
    }
   ],
   "source": [
    "df_emails = enrich_emails()"
   ]
  },
  {
   "cell_type": "code",
   "execution_count": 17,
   "metadata": {
    "collapsed": false,
    "deletable": true,
    "editable": true,
    "scrolled": false
   },
   "outputs": [
    {
     "name": "stdout",
     "output_type": "stream",
     "text": [
      "From: fletcher.j.sturm@enron.com\n",
      "To: tamara.black@enron.com\n",
      "On: 2001-01-24 10:10:00\n",
      "Body:\n",
      "    how about 3:15 or 3:30?fletch\n"
     ]
    }
   ],
   "source": [
    "print_email_by_id(df_emails, 265949)"
   ]
  },
  {
   "cell_type": "code",
   "execution_count": 4,
   "metadata": {
    "collapsed": true,
    "deletable": true,
    "editable": true
   },
   "outputs": [],
   "source": [
    "df_email_senders = load_email_senders()"
   ]
  },
  {
   "cell_type": "markdown",
   "metadata": {
    "deletable": true,
    "editable": true
   },
   "source": [
    "# Data exploration"
   ]
  },
  {
   "cell_type": "code",
   "execution_count": null,
   "metadata": {
    "collapsed": false,
    "deletable": true,
    "editable": true
   },
   "outputs": [],
   "source": [
    "emails_sent_distribution(df_email_senders, max_value=300)"
   ]
  },
  {
   "cell_type": "code",
   "execution_count": null,
   "metadata": {
    "collapsed": false,
    "deletable": true,
    "editable": true
   },
   "outputs": [],
   "source": [
    "emails_received_distribution(df_emails, max_value=200)"
   ]
  },
  {
   "cell_type": "code",
   "execution_count": null,
   "metadata": {
    "collapsed": false,
    "deletable": true,
    "editable": true
   },
   "outputs": [],
   "source": [
    "body_length_distribution(df_emails, max_value=10000)"
   ]
  },
  {
   "cell_type": "code",
   "execution_count": null,
   "metadata": {
    "collapsed": false,
    "deletable": true,
    "editable": true
   },
   "outputs": [],
   "source": [
    "number_of_recipients_distribution(df_emails, bins=20, max_value=100)"
   ]
  },
  {
   "cell_type": "code",
   "execution_count": null,
   "metadata": {
    "collapsed": false,
    "deletable": true,
    "editable": true
   },
   "outputs": [],
   "source": [
    "unique_rec = unique_recipients(df_emails)\n",
    "print(\"Number of unique recipients: {}\".format(len(unique_rec)))"
   ]
  },
  {
   "cell_type": "code",
   "execution_count": null,
   "metadata": {
    "collapsed": false
   },
   "outputs": [],
   "source": [
    "df_emails[df_emails[\"sender\"] == email]"
   ]
  },
  {
   "cell_type": "markdown",
   "metadata": {
    "deletable": true,
    "editable": true
   },
   "source": [
    "# Testing TeamVectorizer"
   ]
  },
  {
   "cell_type": "code",
   "execution_count": null,
   "metadata": {
    "collapsed": true
   },
   "outputs": [],
   "source": [
    "team_vectorizer = TeamVectorizer()"
   ]
  },
  {
   "cell_type": "code",
   "execution_count": null,
   "metadata": {
    "collapsed": false
   },
   "outputs": [],
   "source": [
    "team_vectorizer.fit(df_emails)"
   ]
  },
  {
   "cell_type": "code",
   "execution_count": null,
   "metadata": {
    "collapsed": false
   },
   "outputs": [],
   "source": [
    "team_vectorizer.n_features"
   ]
  },
  {
   "cell_type": "code",
   "execution_count": null,
   "metadata": {
    "collapsed": false,
    "scrolled": true
   },
   "outputs": [],
   "source": [
    "a = team_vectorizer.transform([\"steven.january@enron.com\", \"terry.kowalke@enron.com\", \"lynn.blair@enron.com\"])"
   ]
  },
  {
   "cell_type": "code",
   "execution_count": null,
   "metadata": {
    "collapsed": false
   },
   "outputs": [],
   "source": [
    "b = team_vectorizer.transform([\"rick.dietz@enron.com\", \"raetta.zadow@enron.com\", \"larry.berger@enron.com\"])"
   ]
  },
  {
   "cell_type": "markdown",
   "metadata": {
    "deletable": true,
    "editable": true
   },
   "source": [
    "# Data cleansing"
   ]
  },
  {
   "cell_type": "markdown",
   "metadata": {
    "deletable": true,
    "editable": true
   },
   "source": [
    "## Cleansing function"
   ]
  },
  {
   "cell_type": "code",
   "execution_count": 5,
   "metadata": {
    "collapsed": true,
    "deletable": true,
    "editable": true
   },
   "outputs": [],
   "source": [
    "def clean_df(df_emails, df_senders):\n",
    "    df_emails[\"clean_body\"] = \"\"\n",
    "    for index, row in tqdm_notebook(df_senders.iterrows(), desc=\"Senders cleaning\", total=df_senders.shape[0]):\n",
    "        mids = list(map(int, row[\"mids\"].split()))\n",
    "        # data loading and separation\n",
    "        df_interest = df_emails.ix[mids]\n",
    "        # data cleansing\n",
    "        unique_rec_train = unique_recipients(df_interest)\n",
    "        add_book = address_book(unique_rec_train)\n",
    "        df_emails.loc[mids, \"clean_body\"] = df_interest[\"body\"].apply(lambda x: clean(x, add_book))\n",
    "    df_emails[\"clean_body\"] = df_emails[\"clean_body\"].fillna(\"\")"
   ]
  },
  {
   "cell_type": "code",
   "execution_count": 6,
   "metadata": {
    "collapsed": false,
    "deletable": true,
    "editable": true
   },
   "outputs": [
    {
     "name": "stderr",
     "output_type": "stream",
     "text": [
      "Widget Javascript not detected.  It may not be installed properly. Did you enable the widgetsnbextension? If not, then run \"jupyter nbextension enable --py --sys-prefix widgetsnbextension\"\n"
     ]
    },
    {
     "name": "stdout",
     "output_type": "stream",
     "text": [
      "\n"
     ]
    }
   ],
   "source": [
    "clean_df(df_emails, df_email_senders)"
   ]
  },
  {
   "cell_type": "code",
   "execution_count": 7,
   "metadata": {
    "collapsed": false,
    "deletable": true,
    "editable": true,
    "scrolled": true
   },
   "outputs": [
    {
     "data": {
      "text/html": [
       "<div>\n",
       "<table border=\"1\" class=\"dataframe\">\n",
       "  <thead>\n",
       "    <tr style=\"text-align: right;\">\n",
       "      <th></th>\n",
       "      <th>date</th>\n",
       "      <th>body</th>\n",
       "      <th>recipients</th>\n",
       "      <th>sender</th>\n",
       "      <th>clean_body</th>\n",
       "    </tr>\n",
       "    <tr>\n",
       "      <th>mid</th>\n",
       "      <th></th>\n",
       "      <th></th>\n",
       "      <th></th>\n",
       "      <th></th>\n",
       "      <th></th>\n",
       "    </tr>\n",
       "  </thead>\n",
       "  <tbody>\n",
       "    <tr>\n",
       "      <th>132</th>\n",
       "      <td>2000-08-27 23:11:00</td>\n",
       "      <td>Check this out.  I think that we need to be si...</td>\n",
       "      <td>robert.badeer@enron.com greg.wolfe@enron.com l...</td>\n",
       "      <td>tim.belden@enron.com</td>\n",
       "      <td>check think nee sign</td>\n",
       "    </tr>\n",
       "    <tr>\n",
       "      <th>466</th>\n",
       "      <td>2000-08-14 23:23:00</td>\n",
       "      <td>Please see the attached.  Christian, could you...</td>\n",
       "      <td>robert.badeer@enron.com christian.yoder@enron.com</td>\n",
       "      <td>tim.belden@enron.com</td>\n",
       "      <td>pleas see attach christian could coordin writ let</td>\n",
       "    </tr>\n",
       "    <tr>\n",
       "      <th>510</th>\n",
       "      <td>2000-07-31 23:32:00</td>\n",
       "      <td>i would categorize things in the following man...</td>\n",
       "      <td>robert.badeer@enron.com jeff.dasovich@enron.co...</td>\n",
       "      <td>tim.belden@enron.com</td>\n",
       "      <td>would categ thing follow man day ahead market ...</td>\n",
       "    </tr>\n",
       "    <tr>\n",
       "      <th>514</th>\n",
       "      <td>2000-08-08 02:51:00</td>\n",
       "      <td>put this into the congestion redesign file if ...</td>\n",
       "      <td>robert.badeer@enron.com</td>\n",
       "      <td>tim.belden@enron.com</td>\n",
       "      <td>put congest redesign fil alread forward tim be...</td>\n",
       "    </tr>\n",
       "    <tr>\n",
       "      <th>1019</th>\n",
       "      <td>2001-07-31 08:27:11</td>\n",
       "      <td>Kevin, as promised, attached is the informatio...</td>\n",
       "      <td>kevin.hyatt@enron.com</td>\n",
       "      <td>larry.f.campbell@enron.com</td>\n",
       "      <td>kevin prom attach inform found david roensch e...</td>\n",
       "    </tr>\n",
       "    <tr>\n",
       "      <th>1083</th>\n",
       "      <td>2001-02-22 04:40:33</td>\n",
       "      <td>---------------------- Forwarded by Darrell Sc...</td>\n",
       "      <td>kevin.hyatt@enron.com ronald.matthews@enron.co...</td>\n",
       "      <td>darrell.schoolcraft@enron.com</td>\n",
       "      <td>forward darrell schoolcraft et enron ben asant...</td>\n",
       "    </tr>\n",
       "    <tr>\n",
       "      <th>2947</th>\n",
       "      <td>2001-03-01 12:24:00</td>\n",
       "      <td>Does anyone have any issues or ideas on how EE...</td>\n",
       "      <td>paul.kaufman@enron.com alan.comnes@enron.com r...</td>\n",
       "      <td>james.d.steffes@enron.com</td>\n",
       "      <td>anyon issu idea ee best work ap jim</td>\n",
       "    </tr>\n",
       "    <tr>\n",
       "      <th>2973</th>\n",
       "      <td>2001-03-06 22:38:00</td>\n",
       "      <td>Sue, Alan, Mary --Can the three of you determi...</td>\n",
       "      <td>susan.mara@enron.com alan.comnes@enron.com ste...</td>\n",
       "      <td>james.d.steffes@enron.com</td>\n",
       "      <td>sue alan mary three determin best cov report e...</td>\n",
       "    </tr>\n",
       "    <tr>\n",
       "      <th>2984</th>\n",
       "      <td>2001-03-07 22:47:00</td>\n",
       "      <td>FYI.  QFs are beginning to stop operating due ...</td>\n",
       "      <td>susan.mara@enron.com rlichtenstein@marathon-co...</td>\n",
       "      <td>james.d.steffes@enron.com</td>\n",
       "      <td>fyi qfs begin stop op due non pay addit enron ...</td>\n",
       "    </tr>\n",
       "    <tr>\n",
       "      <th>3019</th>\n",
       "      <td>2001-03-14 00:23:00</td>\n",
       "      <td>FYI.Jim----- Forwarded by James D Steffes/NA/E...</td>\n",
       "      <td>susan.mara@enron.com steve.walton@enron.com jo...</td>\n",
       "      <td>james.d.steffes@enron.com</td>\n",
       "      <td>fyi jim forward james steffes na enron ronald ...</td>\n",
       "    </tr>\n",
       "    <tr>\n",
       "      <th>3022</th>\n",
       "      <td>2001-03-14 02:45:00</td>\n",
       "      <td>gngr713-853-7751----- Forwarded by Ginger Dern...</td>\n",
       "      <td>susan.mara@enron.com carolyn.cooney@enron.com ...</td>\n",
       "      <td>ginger.dernehl@enron.com</td>\n",
       "      <td>gngr forward ginger dernehl na enron kathleen ...</td>\n",
       "    </tr>\n",
       "    <tr>\n",
       "      <th>3030</th>\n",
       "      <td>2001-03-14 23:11:00</td>\n",
       "      <td>Joe, Christi, &amp; Mary --Do you think that it ma...</td>\n",
       "      <td>richard.shapiro@enron.com joe.hartsoe@enron.co...</td>\n",
       "      <td>james.d.steffes@enron.com</td>\n",
       "      <td>joe christi mary think mak sens four us sit re...</td>\n",
       "    </tr>\n",
       "    <tr>\n",
       "      <th>3039</th>\n",
       "      <td>2001-03-15 02:29:00</td>\n",
       "      <td>gngr713-853-7751----- Forwarded by Ginger Dern...</td>\n",
       "      <td>susan.mara@enron.com carolyn.cooney@enron.com ...</td>\n",
       "      <td>ginger.dernehl@enron.com</td>\n",
       "      <td>gngr forward ginger dernehl na enron robert fr...</td>\n",
       "    </tr>\n",
       "    <tr>\n",
       "      <th>3042</th>\n",
       "      <td>2001-03-15 03:21:00</td>\n",
       "      <td>gngr713-853-7751----- Forwarded by Ginger Dern...</td>\n",
       "      <td>susan.mara@enron.com carolyn.cooney@enron.com ...</td>\n",
       "      <td>ginger.dernehl@enron.com</td>\n",
       "      <td>gngr forward ginger dernehl na enron margaret ...</td>\n",
       "    </tr>\n",
       "    <tr>\n",
       "      <th>3051</th>\n",
       "      <td>2001-03-15 03:35:00</td>\n",
       "      <td>Christian:Could we meet for 15-30 minutes to g...</td>\n",
       "      <td>steve.hall@enron.com christian.yoder@enron.com...</td>\n",
       "      <td>alan.comnes@enron.com</td>\n",
       "      <td>christian could meet minut go cas list sect af...</td>\n",
       "    </tr>\n",
       "    <tr>\n",
       "      <th>3053</th>\n",
       "      <td>2001-03-15 04:54:00</td>\n",
       "      <td>Note that this information is background; i.e....</td>\n",
       "      <td>mark.fillinger@enron.com chris.foster@enron.co...</td>\n",
       "      <td>alan.comnes@enron.com</td>\n",
       "      <td>not inform background e attribut alan c forwar...</td>\n",
       "    </tr>\n",
       "    <tr>\n",
       "      <th>3062</th>\n",
       "      <td>2001-03-15 07:59:00</td>\n",
       "      <td>----- Forwarded by James D Steffes/NA/Enron on...</td>\n",
       "      <td>paul.kaufman@enron.com alan.comnes@enron.com s...</td>\n",
       "      <td>james.d.steffes@enron.com</td>\n",
       "      <td>forward james steffes na enron pm linda robert...</td>\n",
       "    </tr>\n",
       "    <tr>\n",
       "      <th>3065</th>\n",
       "      <td>2001-03-15 07:06:00</td>\n",
       "      <td>Jim, Ron:We re leaning toward plain-vanilla (1...</td>\n",
       "      <td>james.d.steffes@enron.com susan.mara@enron.com...</td>\n",
       "      <td>alan.comnes@enron.com</td>\n",
       "      <td>jim ron lean toward plain vanill commerc attor...</td>\n",
       "    </tr>\n",
       "    <tr>\n",
       "      <th>3071</th>\n",
       "      <td>2001-03-15 23:10:00</td>\n",
       "      <td>I think that this makes sense.  I d appreciate...</td>\n",
       "      <td>joe.hartsoe@enron.com alan.comnes@enron.com ma...</td>\n",
       "      <td>james.d.steffes@enron.com</td>\n",
       "      <td>think mak sens apprecy thought jim</td>\n",
       "    </tr>\n",
       "    <tr>\n",
       "      <th>3097</th>\n",
       "      <td>2001-03-16 23:54:00</td>\n",
       "      <td>Four attachments---------------------- Forward...</td>\n",
       "      <td>paul.kaufman@enron.com mary.hain@enron.com sma...</td>\n",
       "      <td>alan.comnes@enron.com</td>\n",
       "      <td>four attach forward alan comnes pdx ect newsda...</td>\n",
       "    </tr>\n",
       "  </tbody>\n",
       "</table>\n",
       "</div>"
      ],
      "text/plain": [
       "                     date                                               body  \\\n",
       "mid                                                                            \n",
       "132   2000-08-27 23:11:00  Check this out.  I think that we need to be si...   \n",
       "466   2000-08-14 23:23:00  Please see the attached.  Christian, could you...   \n",
       "510   2000-07-31 23:32:00  i would categorize things in the following man...   \n",
       "514   2000-08-08 02:51:00  put this into the congestion redesign file if ...   \n",
       "1019  2001-07-31 08:27:11  Kevin, as promised, attached is the informatio...   \n",
       "1083  2001-02-22 04:40:33  ---------------------- Forwarded by Darrell Sc...   \n",
       "2947  2001-03-01 12:24:00  Does anyone have any issues or ideas on how EE...   \n",
       "2973  2001-03-06 22:38:00  Sue, Alan, Mary --Can the three of you determi...   \n",
       "2984  2001-03-07 22:47:00  FYI.  QFs are beginning to stop operating due ...   \n",
       "3019  2001-03-14 00:23:00  FYI.Jim----- Forwarded by James D Steffes/NA/E...   \n",
       "3022  2001-03-14 02:45:00  gngr713-853-7751----- Forwarded by Ginger Dern...   \n",
       "3030  2001-03-14 23:11:00  Joe, Christi, & Mary --Do you think that it ma...   \n",
       "3039  2001-03-15 02:29:00  gngr713-853-7751----- Forwarded by Ginger Dern...   \n",
       "3042  2001-03-15 03:21:00  gngr713-853-7751----- Forwarded by Ginger Dern...   \n",
       "3051  2001-03-15 03:35:00  Christian:Could we meet for 15-30 minutes to g...   \n",
       "3053  2001-03-15 04:54:00  Note that this information is background; i.e....   \n",
       "3062  2001-03-15 07:59:00  ----- Forwarded by James D Steffes/NA/Enron on...   \n",
       "3065  2001-03-15 07:06:00  Jim, Ron:We re leaning toward plain-vanilla (1...   \n",
       "3071  2001-03-15 23:10:00  I think that this makes sense.  I d appreciate...   \n",
       "3097  2001-03-16 23:54:00  Four attachments---------------------- Forward...   \n",
       "\n",
       "                                             recipients  \\\n",
       "mid                                                       \n",
       "132   robert.badeer@enron.com greg.wolfe@enron.com l...   \n",
       "466   robert.badeer@enron.com christian.yoder@enron.com   \n",
       "510   robert.badeer@enron.com jeff.dasovich@enron.co...   \n",
       "514                             robert.badeer@enron.com   \n",
       "1019                              kevin.hyatt@enron.com   \n",
       "1083  kevin.hyatt@enron.com ronald.matthews@enron.co...   \n",
       "2947  paul.kaufman@enron.com alan.comnes@enron.com r...   \n",
       "2973  susan.mara@enron.com alan.comnes@enron.com ste...   \n",
       "2984  susan.mara@enron.com rlichtenstein@marathon-co...   \n",
       "3019  susan.mara@enron.com steve.walton@enron.com jo...   \n",
       "3022  susan.mara@enron.com carolyn.cooney@enron.com ...   \n",
       "3030  richard.shapiro@enron.com joe.hartsoe@enron.co...   \n",
       "3039  susan.mara@enron.com carolyn.cooney@enron.com ...   \n",
       "3042  susan.mara@enron.com carolyn.cooney@enron.com ...   \n",
       "3051  steve.hall@enron.com christian.yoder@enron.com...   \n",
       "3053  mark.fillinger@enron.com chris.foster@enron.co...   \n",
       "3062  paul.kaufman@enron.com alan.comnes@enron.com s...   \n",
       "3065  james.d.steffes@enron.com susan.mara@enron.com...   \n",
       "3071  joe.hartsoe@enron.com alan.comnes@enron.com ma...   \n",
       "3097  paul.kaufman@enron.com mary.hain@enron.com sma...   \n",
       "\n",
       "                             sender  \\\n",
       "mid                                   \n",
       "132            tim.belden@enron.com   \n",
       "466            tim.belden@enron.com   \n",
       "510            tim.belden@enron.com   \n",
       "514            tim.belden@enron.com   \n",
       "1019     larry.f.campbell@enron.com   \n",
       "1083  darrell.schoolcraft@enron.com   \n",
       "2947      james.d.steffes@enron.com   \n",
       "2973      james.d.steffes@enron.com   \n",
       "2984      james.d.steffes@enron.com   \n",
       "3019      james.d.steffes@enron.com   \n",
       "3022       ginger.dernehl@enron.com   \n",
       "3030      james.d.steffes@enron.com   \n",
       "3039       ginger.dernehl@enron.com   \n",
       "3042       ginger.dernehl@enron.com   \n",
       "3051          alan.comnes@enron.com   \n",
       "3053          alan.comnes@enron.com   \n",
       "3062      james.d.steffes@enron.com   \n",
       "3065          alan.comnes@enron.com   \n",
       "3071      james.d.steffes@enron.com   \n",
       "3097          alan.comnes@enron.com   \n",
       "\n",
       "                                             clean_body  \n",
       "mid                                                      \n",
       "132                                check think nee sign  \n",
       "466   pleas see attach christian could coordin writ let  \n",
       "510   would categ thing follow man day ahead market ...  \n",
       "514   put congest redesign fil alread forward tim be...  \n",
       "1019  kevin prom attach inform found david roensch e...  \n",
       "1083  forward darrell schoolcraft et enron ben asant...  \n",
       "2947                anyon issu idea ee best work ap jim  \n",
       "2973  sue alan mary three determin best cov report e...  \n",
       "2984  fyi qfs begin stop op due non pay addit enron ...  \n",
       "3019  fyi jim forward james steffes na enron ronald ...  \n",
       "3022  gngr forward ginger dernehl na enron kathleen ...  \n",
       "3030  joe christi mary think mak sens four us sit re...  \n",
       "3039  gngr forward ginger dernehl na enron robert fr...  \n",
       "3042  gngr forward ginger dernehl na enron margaret ...  \n",
       "3051  christian could meet minut go cas list sect af...  \n",
       "3053  not inform background e attribut alan c forwar...  \n",
       "3062  forward james steffes na enron pm linda robert...  \n",
       "3065  jim ron lean toward plain vanill commerc attor...  \n",
       "3071                 think mak sens apprecy thought jim  \n",
       "3097  four attach forward alan comnes pdx ect newsda...  "
      ]
     },
     "execution_count": 7,
     "metadata": {},
     "output_type": "execute_result"
    }
   ],
   "source": [
    "df_emails[df_emails[\"body\"].str.contains(\"Forwarded by\")].head(20)"
   ]
  },
  {
   "cell_type": "markdown",
   "metadata": {
    "deletable": true,
    "editable": true
   },
   "source": [
    "# Training"
   ]
  },
  {
   "cell_type": "code",
   "execution_count": null,
   "metadata": {
    "collapsed": false,
    "deletable": true,
    "editable": true
   },
   "outputs": [],
   "source": [
    "df_small_senders = df_email_senders.sample(frac=0.3, random_state=0)"
   ]
  },
  {
   "cell_type": "markdown",
   "metadata": {
    "deletable": true,
    "editable": true
   },
   "source": [
    "## Current Model"
   ]
  },
  {
   "cell_type": "code",
   "execution_count": null,
   "metadata": {
    "collapsed": true,
    "deletable": true,
    "editable": true
   },
   "outputs": [],
   "source": [
    "def model(df_interest, n_mails):\n",
    "    # Input TF-IDF vectorizer\n",
    "    input_bow = FastCountVectorizer()\n",
    "    # Random Forest Regressor\n",
    "    rf = RandomForestRegressor(\n",
    "        n_estimators=190,\n",
    "        max_depth=75,\n",
    "        n_jobs=-1,\n",
    "        min_samples_leaf=max(1,int(0.0002*n_mails)),\n",
    "        max_features=\"sqrt\",\n",
    "        random_state=0)\n",
    "    # Output vectorizer\n",
    "    unique_rec = unique_recipients(df_interest)\n",
    "    output_bow = CountVectorizer(\n",
    "        tokenizer=split_tokenizer,\n",
    "        vocabulary=unique_rec)\n",
    "    # Sender Model\n",
    "    sender_model = SenderModel(\n",
    "        df_emails=df_interest,\n",
    "        classifier = rf,\n",
    "        input_vectorizer = input_bow,\n",
    "        output_vectorizer = output_bow\n",
    "    )\n",
    "    return sender_model"
   ]
  },
  {
   "cell_type": "markdown",
   "metadata": {
    "deletable": true,
    "editable": true
   },
   "source": [
    "## On one particular sender"
   ]
  },
  {
   "cell_type": "code",
   "execution_count": null,
   "metadata": {
    "collapsed": false,
    "deletable": true,
    "editable": true
   },
   "outputs": [],
   "source": [
    "row = df_email_senders.iloc[0]\n",
    "mids = list(map(int, row[\"mids\"].split()))\n",
    "df_interest = df_emails.ix[mids]\n",
    "n_mails = len(mids)\n",
    "sender_model = model(df_interest, n_mails)\n",
    "prec = sender_model.evaluate(random_state=0)\n",
    "print(prec)"
   ]
  },
  {
   "cell_type": "markdown",
   "metadata": {
    "deletable": true,
    "editable": true
   },
   "source": [
    "## Evaluation"
   ]
  },
  {
   "cell_type": "code",
   "execution_count": null,
   "metadata": {
    "collapsed": false,
    "deletable": true,
    "editable": true
   },
   "outputs": [],
   "source": [
    "df_precision = pd.DataFrame(columns=[\"sender\", \"n_mails\", \"precision\"])"
   ]
  },
  {
   "cell_type": "code",
   "execution_count": null,
   "metadata": {
    "collapsed": false,
    "deletable": true,
    "editable": true
   },
   "outputs": [],
   "source": [
    "for index, row in tqdm_notebook(df_email_senders.iterrows(), desc=\"Senders evaluation\", total=df_email_senders.shape[0]):\n",
    "    # Row unpacking\n",
    "    sender = row[\"sender\"]\n",
    "    mids = list(map(int, row[\"mids\"].split()))\n",
    "    df_interest = df_emails.ix[mids]\n",
    "    n_mails = len(mids)\n",
    "    # Model building\n",
    "    sender_model = model(df_interest, n_mails)\n",
    "    # Precision computation\n",
    "    prec = sender_model.evaluate(random_state=0)\n",
    "    df_precision.loc[index] = [sender, n_mails, prec]"
   ]
  },
  {
   "cell_type": "code",
   "execution_count": null,
   "metadata": {
    "collapsed": false,
    "deletable": true,
    "editable": true,
    "scrolled": true
   },
   "outputs": [],
   "source": [
    "prec"
   ]
  },
  {
   "cell_type": "code",
   "execution_count": null,
   "metadata": {
    "collapsed": false,
    "deletable": true,
    "editable": true
   },
   "outputs": [],
   "source": [
    "(df_precision[\"precision\"]*df_precision[\"n_mails\"]).sum()/(df_precision[\"n_mails\"].sum())"
   ]
  },
  {
   "cell_type": "markdown",
   "metadata": {},
   "source": [
    "## Testing function"
   ]
  },
  {
   "cell_type": "code",
   "execution_count": 46,
   "metadata": {
    "collapsed": false
   },
   "outputs": [],
   "source": [
    "def add_team_info(sender, predicted_recipients, teams, n_clusters):\n",
    "        ''' Reorder the ten email predicted with defined from heuristic\n",
    "        Arguments:\n",
    "            - sender (str): email from the sender\n",
    "            - predicted_recipients (np.array): Top predicted emails (strings)\n",
    "                                   shape = n_samples, top\n",
    "            - teams: dict of teams for all the email adresses\n",
    "            - n_clusters: number of clusters in the Louvain assignment\n",
    "        Output:\n",
    "            - new_prediction (np.array): team updated prediction.\n",
    "        '''\n",
    "        sender_team = teams[sender]\n",
    "        recipients_teams = np.zeros((predicted_recipients.shape[0],predicted_recipients.shape[1]),dtype = 'int64')\n",
    "        new_prediction = np.zeros_like(predicted_recipients)\n",
    "        for raw in range(predicted_recipients.shape[0]):\n",
    "            current_rank = 0\n",
    "            in_new_pred = np.zeros(predicted_recipients.shape[1])\n",
    "            for email_index in range(predicted_recipients.shape[1]):\n",
    "                if predicted_recipients[raw, email_index] in teams.keys():\n",
    "                    recipients_teams[raw, email_index] = teams[\n",
    "                        predicted_recipients[raw, email_index]]\n",
    "                else:\n",
    "                    recipients_teams[raw, email_index] = 0\n",
    "                # people in the same team than sender are First\n",
    "                if recipients_teams[raw, email_index] == sender_team:\n",
    "                    new_prediction[raw, current_rank] = predicted_recipients[\n",
    "                        raw, email_index]\n",
    "                    current_rank += 1\n",
    "                    in_new_pred[email_index] = 1\n",
    "            counts = np.bincount(recipients_teams[raw,:])\n",
    "            max_team = np.argmax(counts)\n",
    "            # put all people from max_team second\n",
    "            if max_team != 0:\n",
    "                for email_index in range(predicted_recipients.shape[1]):\n",
    "                    if recipients_teams[raw, email_index] == max_team:\n",
    "                        new_prediction[raw, current_rank] =\\\n",
    "                                predicted_recipients[raw, email_index]\n",
    "                        current_rank += 1\n",
    "                        in_new_pred[email_index] = 1\n",
    "            for email_index in range(predicted_recipients.shape[1]):\n",
    "                if in_new_pred[email_index] == 0:\n",
    "                    new_prediction[raw, current_rank] = predicted_recipients[\n",
    "                        raw, email_index]\n",
    "                    current_rank += 1\n",
    "                    in_new_pred[email_index] = 1\n",
    "                    \n",
    "\n",
    "            # sanity_check\n",
    "            if np.sum(in_new_pred) != predicted_recipients.shape[1]:\n",
    "                #print(np.sum(in_new_pred))\n",
    "                print(\"warning: not all emails where mapped\")\n",
    "        return new_prediction"
   ]
  },
  {
   "cell_type": "code",
   "execution_count": 19,
   "metadata": {
    "collapsed": false
   },
   "outputs": [
    {
     "data": {
      "text/plain": [
       "<tools.features.TeamVectorizer at 0x10d29e1d0>"
      ]
     },
     "execution_count": 19,
     "metadata": {},
     "output_type": "execute_result"
    }
   ],
   "source": [
    "team_vectorizer = TeamVectorizer()\n",
    "team_vectorizer.fit(df_emails)"
   ]
  },
  {
   "cell_type": "code",
   "execution_count": 27,
   "metadata": {
    "collapsed": false
   },
   "outputs": [],
   "source": [
    "predicted_recipients = np.array([[\"steven.january@enron.com\", \"terry.kowalke@enron.com\", \"lynn.blair@enron.com\", \"tamara.black@enron.com\"],[\"rick.dietz@enron.com\", \"raetta.zadow@enron.com\", \"larry.berger@enron.com\",\"tamara.black@enron.com\"]])"
   ]
  },
  {
   "cell_type": "code",
   "execution_count": 28,
   "metadata": {
    "collapsed": false
   },
   "outputs": [
    {
     "data": {
      "text/plain": [
       "(2, 4)"
      ]
     },
     "execution_count": 28,
     "metadata": {},
     "output_type": "execute_result"
    }
   ],
   "source": [
    "predicted_recipients.shape"
   ]
  },
  {
   "cell_type": "code",
   "execution_count": 47,
   "metadata": {
    "collapsed": false,
    "scrolled": true
   },
   "outputs": [],
   "source": [
    "new_pred = add_team_info(\"fletcher.j.sturm@enron.com\",\n",
    "              predicted_recipients = predicted_recipients,\n",
    "              teams = team_vectorizer.teams,\n",
    "              n_clusters = team_vectorizer.n_features)"
   ]
  },
  {
   "cell_type": "code",
   "execution_count": 48,
   "metadata": {
    "collapsed": false
   },
   "outputs": [
    {
     "data": {
      "text/plain": [
       "array([['tamara.black@enron.com', 'steven.january@enron.com',\n",
       "        'lynn.blair@enron.com', 'terry.kowalke@enron.com'],\n",
       "       ['tamara.black@enron.com', 'rick.dietz@enron.com',\n",
       "        'raetta.zadow@enron.com', 'larry.berger@enron.com']], \n",
       "      dtype='<U24')"
      ]
     },
     "execution_count": 48,
     "metadata": {},
     "output_type": "execute_result"
    }
   ],
   "source": [
    "new_pred"
   ]
  },
  {
   "cell_type": "markdown",
   "metadata": {
    "collapsed": true,
    "deletable": true,
    "editable": true
   },
   "source": [
    "# Submission"
   ]
  },
  {
   "cell_type": "markdown",
   "metadata": {
    "deletable": true,
    "editable": true
   },
   "source": [
    "## Actual model training"
   ]
  },
  {
   "cell_type": "code",
   "execution_count": null,
   "metadata": {
    "collapsed": false,
    "deletable": true,
    "editable": true,
    "scrolled": false
   },
   "outputs": [],
   "source": [
    "sender_models = dict()\n",
    "for index, row in tqdm_notebook(df_email_senders.iterrows(), desc=\"Senders Training (submision)\", total=df_email_senders.shape[0]):\n",
    "    # Row unpacking\n",
    "    sender = row[\"sender\"]\n",
    "    mids = list(map(int, row[\"mids\"].split()))\n",
    "    df_interest = df_emails.ix[mids]\n",
    "    n_mails = len(mids)\n",
    "    # Model building\n",
    "    sender_model = model(df_interest, n_mails)\n",
    "    # Training\n",
    "    sender_model.train()\n",
    "    # Saving\n",
    "    sender_models[sender] = sender_model"
   ]
  },
  {
   "cell_type": "markdown",
   "metadata": {
    "deletable": true,
    "editable": true
   },
   "source": [
    "## Data loading"
   ]
  },
  {
   "cell_type": "code",
   "execution_count": null,
   "metadata": {
    "collapsed": false,
    "deletable": true,
    "editable": true
   },
   "outputs": [],
   "source": [
    "df_submission_senders = load_email_senders(set_type=\"test\")\n",
    "df_submission = load_emails(set_type=\"test\")\n",
    "df_submission[\"recipients\"] = \"\""
   ]
  },
  {
   "cell_type": "markdown",
   "metadata": {
    "deletable": true,
    "editable": true
   },
   "source": [
    "## Data cleansing"
   ]
  },
  {
   "cell_type": "code",
   "execution_count": null,
   "metadata": {
    "collapsed": false,
    "deletable": true,
    "editable": true
   },
   "outputs": [],
   "source": [
    "clean_df(df_submission, df_submission_senders)"
   ]
  },
  {
   "cell_type": "markdown",
   "metadata": {
    "deletable": true,
    "editable": true
   },
   "source": [
    "## Prediction"
   ]
  },
  {
   "cell_type": "code",
   "execution_count": null,
   "metadata": {
    "collapsed": false,
    "deletable": true,
    "editable": true
   },
   "outputs": [],
   "source": [
    "for index, row in tqdm_notebook(df_submission_senders.iterrows(), desc=\"Senders predictions\", total=df_submission_senders.shape[0]):\n",
    "    sender = row[\"sender\"]\n",
    "    mids = map(int, row[\"mids\"].split())\n",
    "    # Model loading\n",
    "    sender_model = sender_models[sender]\n",
    "    # Prediction\n",
    "    sender_model.predict(mids, df_submission)"
   ]
  },
  {
   "cell_type": "markdown",
   "metadata": {
    "deletable": true,
    "editable": true
   },
   "source": [
    "# Fine tuning"
   ]
  },
  {
   "cell_type": "code",
   "execution_count": null,
   "metadata": {
    "collapsed": true,
    "deletable": true,
    "editable": true
   },
   "outputs": [],
   "source": [
    "from tools.fine_tuning import expected_precision"
   ]
  },
  {
   "cell_type": "code",
   "execution_count": null,
   "metadata": {
    "collapsed": false,
    "deletable": true,
    "editable": true
   },
   "outputs": [],
   "source": [
    "depths = [2, 5, 10, 15, 20, 30, 50, 100, 300]\n",
    "n = len(depths)\n",
    "p = np.zeros(n)"
   ]
  },
  {
   "cell_type": "code",
   "execution_count": null,
   "metadata": {
    "collapsed": false,
    "deletable": true,
    "editable": true
   },
   "outputs": [],
   "source": [
    "for i, depth in enumerate(depths):\n",
    "    p[i] = expected_precision(min_sample_prop=0.0002,\n",
    "                             n_estimators=15,\n",
    "                             max_depth=100)"
   ]
  },
  {
   "cell_type": "code",
   "execution_count": null,
   "metadata": {
    "collapsed": false,
    "deletable": true,
    "editable": true
   },
   "outputs": [],
   "source": [
    "n_trials = 10\n",
    "pr = np.zeros(n_trials)\n",
    "for i in range(n_trials):\n",
    "    pr[i] += expected_precision(min_sample_prop=0.04,\n",
    "                             n_estimators=15,\n",
    "                             max_depth=30)\n",
    "print(pr)"
   ]
  },
  {
   "cell_type": "code",
   "execution_count": null,
   "metadata": {
    "collapsed": false,
    "deletable": true,
    "editable": true
   },
   "outputs": [],
   "source": [
    "pr.mean()"
   ]
  },
  {
   "cell_type": "code",
   "execution_count": null,
   "metadata": {
    "collapsed": false,
    "deletable": true,
    "editable": true
   },
   "outputs": [],
   "source": [
    "plt.plot(depths, p)\n",
    "plt.xlabel(\"Number of trees\")\n",
    "plt.ylabel(\"Precision\")"
   ]
  },
  {
   "cell_type": "markdown",
   "metadata": {
    "deletable": true,
    "editable": true
   },
   "source": [
    "## Formatting"
   ]
  },
  {
   "cell_type": "code",
   "execution_count": null,
   "metadata": {
    "collapsed": false,
    "deletable": true,
    "editable": true
   },
   "outputs": [],
   "source": [
    "save_submission(df_submission,\n",
    "               algo=\"RF single sender regressor tw idf\",\n",
    "               member=\"Zac\")"
   ]
  },
  {
   "cell_type": "code",
   "execution_count": null,
   "metadata": {
    "collapsed": false,
    "deletable": true,
    "editable": true
   },
   "outputs": [],
   "source": [
    "df_submission"
   ]
  },
  {
   "cell_type": "code",
   "execution_count": null,
   "metadata": {
    "collapsed": true,
    "deletable": true,
    "editable": true
   },
   "outputs": [],
   "source": []
  }
 ],
 "metadata": {
  "kernelspec": {
   "display_name": "Python 3",
   "language": "python",
   "name": "python3"
  },
  "language_info": {
   "codemirror_mode": {
    "name": "ipython",
    "version": 3
   },
   "file_extension": ".py",
   "mimetype": "text/x-python",
   "name": "python",
   "nbconvert_exporter": "python",
   "pygments_lexer": "ipython3",
   "version": "3.5.2"
  },
  "widgets": {
   "state": {
    "1f68f512334f40cfbe9e72afde3a6d38": {
     "views": [
      {
       "cell_index": 35
      }
     ]
    },
    "290d27daf49e48e09fb7f933d373dbba": {
     "views": [
      {
       "cell_index": 24
      }
     ]
    },
    "8316917a14d040f08b4f7a88e53a0918": {
     "views": [
      {
       "cell_index": 29
      }
     ]
    },
    "8fd618a895c74d658b899a3cb7d75309": {
     "views": [
      {
       "cell_index": 33
      }
     ]
    },
    "9ec7bb7890ab45abbd211b9c58178522": {
     "views": [
      {
       "cell_index": 14
      }
     ]
    }
   },
   "version": "1.2.0"
  }
 },
 "nbformat": 4,
 "nbformat_minor": 2
}
