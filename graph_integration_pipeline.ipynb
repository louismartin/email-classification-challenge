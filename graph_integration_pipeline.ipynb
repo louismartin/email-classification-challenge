{
 "cells": [
  {
   "cell_type": "code",
   "execution_count": 2,
   "metadata": {
    "collapsed": false,
    "deletable": true,
    "editable": true
   },
   "outputs": [],
   "source": [
    "%matplotlib inline\n",
    "import matplotlib.pyplot as plt\n",
    "from nltk.stem.lancaster import LancasterStemmer\n",
    "import numpy as np\n",
    "import pandas as pd\n",
    "from sklearn.ensemble import RandomForestRegressor\n",
    "from sklearn.feature_extraction.text import CountVectorizer, TfidfVectorizer\n",
    "from tqdm import tqdm_notebook\n",
    "import xgboost as xgb\n",
    "\n",
    "from tools.data_cleansing import clean\n",
    "from tools.data_exploration import print_email_by_id, emails_sent_distribution, emails_received_distribution,\\\n",
    "body_length_distribution, number_of_recipients_distribution\n",
    "from tools.data_handling import enrich_emails, load_email_senders, unique_recipients, address_book, load_emails\n",
    "from tools.features import split_tokenizer, TwidfVectorizer, TeamVectorizer\n",
    "from tools.sender_pipeline import SenderModel\n",
    "from tools.submission import save_submission\n",
    "from tools.staff_graph import compute_summary_graph, construct_graph, compute_teams, assign_team"
   ]
  },
  {
   "cell_type": "markdown",
   "metadata": {
    "deletable": true,
    "editable": true
   },
   "source": [
    "# Data loading and first look"
   ]
  },
  {
   "cell_type": "code",
   "execution_count": 3,
   "metadata": {
    "collapsed": false,
    "deletable": true,
    "editable": true
   },
   "outputs": [
    {
     "name": "stdout",
     "output_type": "stream",
     "text": [
      "Reading dataframe from data/enrich_emails.csv\n"
     ]
    }
   ],
   "source": [
    "df_emails = enrich_emails()"
   ]
  },
  {
   "cell_type": "code",
   "execution_count": 16,
   "metadata": {
    "collapsed": false,
    "deletable": true,
    "editable": true,
    "scrolled": false
   },
   "outputs": [
    {
     "name": "stdout",
     "output_type": "stream",
     "text": [
      "From: lynn.blair@enron.com\n",
      "To: steven.january@enron.com terry.kowalke@enron.com\n",
      "On: 2001-07-27 17:09:14\n",
      "Body:\n",
      "    \tFYI.  Thanks. Lynn -----Original Message-----From: \tBetancourt, Ramona   Sent:\tFriday, July 27, 2001 4:42 PMTo:\tRatliff, Dale; Watson, Kimberly; Frazier, Perry; Schoolcraft, Darrell; Licciardo, Jeanne; Holmes, Bradley; Sawyer, Lisa; Kuehl, Toby; Blair, Lynn; Donoho, Lindy; Draemer, Mary Subject:\tRE: Jeanne, Dale Ratliff is out of the office on vacation all next week & I wanted to help follow up on this item. I think for TW the posting it occurs after the cycle is complete. Rich  or Toby can  verify that for us. One thing that is different on TW, is our processis to confirm before we allocate. The allocation is the last process we do which produces our final or completed schedule volumes for each cycle.This is different than NNG which allocates then confirms. Also in you reference below that you need to know the schedule for posting Unsubscribed.  I want to make sure that this is correct or is it the operational available? I think the operational posting is what is scheduled after each cycle. Please let me know.Thanks Ramona -----Original Message-----From: \tRatliff, Dale  Sent:\tFriday, July 27, 2001 11:36 AMTo:\tWatson, Kimberly; Frazier, Perry; Schoolcraft, Darrell; Licciardo, Jeanne; Holmes, Bradley; Sawyer, Lisa; Kuehl, Toby; Blair, Lynn; Donoho, Lindy; Betancourt, Ramona ; Draemer, Mary Subject:\tFW: Jeanne,Unless there is any other comment we should post after the confirmations are complete,  even if the noms are late.I will be out of the office the week of 7/30 so please send your comments or question to Bradley Holmes or Ramona Betancourt.Thanks Dale Ratliff    \t\t -----Original Message-----From: \tLicciardo, Jeanne  Sent:\tThursday, July 26, 2001 1:28 PMTo:\tRatliff, Dale; Kuehl, TobyCc:\tDunnaway, TinaSubject:\tDale,I need to know what is the schedule for the posting of the Unsubscribed. These are the times the cycles run. Do we run when these are complete? Should we post based on the confirmation time? Do we follow these times even if Noms is late?Thanks,Jeanne Evening Cycle: Runs at approximately 6:00 -  6:30 p.m and confirmations run at approximately 9:00p.m.Intraday 1: Runs at approximately 10:00 - 10:30a.m. confirmations run at approximately 1:00p.m.Intraday 2:  Runs at approximately 5:00 - 5:30 p.m. confirmations run at approximately 8:00p.m.Timely:  Runs at approximately 11:30 a.m  - 12:05 p.m. confirmations run at approximately 3:30p.m.\n"
     ]
    }
   ],
   "source": [
    "print_email_by_id(df_emails, 41308)"
   ]
  },
  {
   "cell_type": "code",
   "execution_count": 5,
   "metadata": {
    "collapsed": true,
    "deletable": true,
    "editable": true
   },
   "outputs": [],
   "source": [
    "df_email_senders = load_email_senders()"
   ]
  },
  {
   "cell_type": "markdown",
   "metadata": {
    "deletable": true,
    "editable": true
   },
   "source": [
    "# Data exploration"
   ]
  },
  {
   "cell_type": "code",
   "execution_count": null,
   "metadata": {
    "collapsed": false,
    "deletable": true,
    "editable": true
   },
   "outputs": [],
   "source": [
    "emails_sent_distribution(df_email_senders, max_value=300)"
   ]
  },
  {
   "cell_type": "code",
   "execution_count": null,
   "metadata": {
    "collapsed": false,
    "deletable": true,
    "editable": true
   },
   "outputs": [],
   "source": [
    "emails_received_distribution(df_emails, max_value=200)"
   ]
  },
  {
   "cell_type": "code",
   "execution_count": null,
   "metadata": {
    "collapsed": false,
    "deletable": true,
    "editable": true
   },
   "outputs": [],
   "source": [
    "body_length_distribution(df_emails, max_value=10000)"
   ]
  },
  {
   "cell_type": "code",
   "execution_count": null,
   "metadata": {
    "collapsed": false,
    "deletable": true,
    "editable": true
   },
   "outputs": [],
   "source": [
    "number_of_recipients_distribution(df_emails, bins=20, max_value=100)"
   ]
  },
  {
   "cell_type": "code",
   "execution_count": null,
   "metadata": {
    "collapsed": false,
    "deletable": true,
    "editable": true
   },
   "outputs": [],
   "source": [
    "unique_rec = unique_recipients(df_emails)\n",
    "print(\"Number of unique recipients: {}\".format(len(unique_rec)))"
   ]
  },
  {
   "cell_type": "markdown",
   "metadata": {
    "deletable": true,
    "editable": true
   },
   "source": [
    "# Testing TeamVectorizer"
   ]
  },
  {
   "cell_type": "code",
   "execution_count": 6,
   "metadata": {
    "collapsed": true
   },
   "outputs": [],
   "source": [
    "team_vectorizer = TeamVectorizer()"
   ]
  },
  {
   "cell_type": "code",
   "execution_count": 7,
   "metadata": {
    "collapsed": false
   },
   "outputs": [
    {
     "data": {
      "text/plain": [
       "<tools.features.TeamVectorizer at 0x10e094898>"
      ]
     },
     "execution_count": 7,
     "metadata": {},
     "output_type": "execute_result"
    }
   ],
   "source": [
    "team_vectorizer.fit(df_emails)"
   ]
  },
  {
   "cell_type": "code",
   "execution_count": 8,
   "metadata": {
    "collapsed": false
   },
   "outputs": [
    {
     "data": {
      "text/plain": [
       "10"
      ]
     },
     "execution_count": 8,
     "metadata": {},
     "output_type": "execute_result"
    }
   ],
   "source": [
    "team_vectorizer.n_features"
   ]
  },
  {
   "cell_type": "code",
   "execution_count": 21,
   "metadata": {
    "collapsed": false,
    "scrolled": true
   },
   "outputs": [],
   "source": [
    "a = team_vectorizer.transform([\"steven.january@enron.com\", \"terry.kowalke@enron.com\", \"lynn.blair@enron.com\"])"
   ]
  },
  {
   "cell_type": "code",
   "execution_count": 26,
   "metadata": {
    "collapsed": false
   },
   "outputs": [],
   "source": [
    "b = team_vectorizer.transform([\"rick.dietz@enron.com\", \"raetta.zadow@enron.com\", \"larry.berger@enron.com\"])"
   ]
  },
  {
   "cell_type": "markdown",
   "metadata": {
    "deletable": true,
    "editable": true
   },
   "source": [
    "# Data cleansing"
   ]
  },
  {
   "cell_type": "markdown",
   "metadata": {
    "deletable": true,
    "editable": true
   },
   "source": [
    "## Cleansing function"
   ]
  },
  {
   "cell_type": "code",
   "execution_count": null,
   "metadata": {
    "collapsed": true,
    "deletable": true,
    "editable": true
   },
   "outputs": [],
   "source": [
    "def clean_df(df_emails, df_senders):\n",
    "    df_emails[\"clean_body\"] = \"\"\n",
    "    for index, row in tqdm_notebook(df_senders.iterrows(), desc=\"Senders cleaning\", total=df_senders.shape[0]):\n",
    "        mids = list(map(int, row[\"mids\"].split()))\n",
    "        # data loading and separation\n",
    "        df_interest = df_emails.ix[mids]\n",
    "        # data cleansing\n",
    "        unique_rec_train = unique_recipients(df_interest)\n",
    "        add_book = address_book(unique_rec_train)\n",
    "        df_emails.loc[mids, \"clean_body\"] = df_interest[\"body\"].apply(lambda x: clean(x, add_book))\n",
    "    df_emails[\"clean_body\"] = df_emails[\"clean_body\"].fillna(\"\")"
   ]
  },
  {
   "cell_type": "code",
   "execution_count": null,
   "metadata": {
    "collapsed": false,
    "deletable": true,
    "editable": true
   },
   "outputs": [],
   "source": [
    "clean_df(df_emails, df_email_senders)"
   ]
  },
  {
   "cell_type": "code",
   "execution_count": null,
   "metadata": {
    "collapsed": false,
    "deletable": true,
    "editable": true,
    "scrolled": true
   },
   "outputs": [],
   "source": [
    "df_emails[df_emails[\"body\"].str.contains(\"Forwarded by\")].head(20)"
   ]
  },
  {
   "cell_type": "markdown",
   "metadata": {
    "deletable": true,
    "editable": true
   },
   "source": [
    "# Training"
   ]
  },
  {
   "cell_type": "code",
   "execution_count": null,
   "metadata": {
    "collapsed": false,
    "deletable": true,
    "editable": true
   },
   "outputs": [],
   "source": [
    "df_small_senders = df_email_senders.sample(frac=0.3, random_state=0)"
   ]
  },
  {
   "cell_type": "markdown",
   "metadata": {
    "deletable": true,
    "editable": true
   },
   "source": [
    "## Current Model"
   ]
  },
  {
   "cell_type": "code",
   "execution_count": null,
   "metadata": {
    "collapsed": true,
    "deletable": true,
    "editable": true
   },
   "outputs": [],
   "source": [
    "def model(df_interest, n_mails):\n",
    "    # Input TF-IDF vectorizer\n",
    "    input_bow = TfidfVectorizer(norm=\"l2\")\n",
    "    # Random Forest Regressor\n",
    "    rf = RandomForestRegressor(\n",
    "        n_estimators=100,\n",
    "        max_depth=30,\n",
    "        n_jobs=-1,\n",
    "        min_samples_leaf=max(1,int(0.0002*n_mails)),\n",
    "        max_features=\"sqrt\",\n",
    "        random_state=0)\n",
    "    # Output vectorizer\n",
    "    unique_rec = unique_recipients(df_interest)\n",
    "    output_bow = CountVectorizer(\n",
    "        tokenizer=split_tokenizer,\n",
    "        vocabulary=unique_rec)\n",
    "    # Sender Model\n",
    "    sender_model = SenderModel(\n",
    "        df_emails=df_interest,\n",
    "        classifier = rf,\n",
    "        input_vectorizer = input_bow,\n",
    "        output_vectorizer = output_bow\n",
    "    )\n",
    "    return sender_model"
   ]
  },
  {
   "cell_type": "markdown",
   "metadata": {
    "deletable": true,
    "editable": true
   },
   "source": [
    "## On one particular sender"
   ]
  },
  {
   "cell_type": "code",
   "execution_count": null,
   "metadata": {
    "collapsed": false,
    "deletable": true,
    "editable": true
   },
   "outputs": [],
   "source": [
    "row = df_email_senders.iloc[0]\n",
    "mids = list(map(int, row[\"mids\"].split()))\n",
    "df_interest = df_emails.ix[mids]\n",
    "n_mails = len(mids)\n",
    "sender_model = model(df_interest, n_mails)\n",
    "prec = sender_model.evaluate(random_state=0)\n",
    "print(prec)"
   ]
  },
  {
   "cell_type": "markdown",
   "metadata": {
    "deletable": true,
    "editable": true
   },
   "source": [
    "## Evaluation"
   ]
  },
  {
   "cell_type": "code",
   "execution_count": null,
   "metadata": {
    "collapsed": false,
    "deletable": true,
    "editable": true
   },
   "outputs": [],
   "source": [
    "df_precision = pd.DataFrame(columns=[\"sender\", \"n_mails\", \"precision\"])"
   ]
  },
  {
   "cell_type": "code",
   "execution_count": null,
   "metadata": {
    "collapsed": false,
    "deletable": true,
    "editable": true
   },
   "outputs": [],
   "source": [
    "for index, row in tqdm_notebook(df_email_senders.iterrows(), desc=\"Senders evaluation\", total=df_email_senders.shape[0]):\n",
    "    # Row unpacking\n",
    "    sender = row[\"sender\"]\n",
    "    mids = list(map(int, row[\"mids\"].split()))\n",
    "    df_interest = df_emails.ix[mids]\n",
    "    n_mails = len(mids)\n",
    "    # Model building\n",
    "    sender_model = model(df_interest, n_mails)\n",
    "    # Precision computation\n",
    "    prec = sender_model.evaluate(random_state=0)\n",
    "    df_precision.loc[index] = [sender, n_mails, prec]"
   ]
  },
  {
   "cell_type": "code",
   "execution_count": null,
   "metadata": {
    "collapsed": false,
    "deletable": true,
    "editable": true,
    "scrolled": true
   },
   "outputs": [],
   "source": [
    "df_precision"
   ]
  },
  {
   "cell_type": "code",
   "execution_count": null,
   "metadata": {
    "collapsed": false,
    "deletable": true,
    "editable": true
   },
   "outputs": [],
   "source": [
    "(df_precision[\"precision\"]*df_precision[\"n_mails\"]).sum()/(df_precision[\"n_mails\"].sum())"
   ]
  },
  {
   "cell_type": "markdown",
   "metadata": {
    "collapsed": true,
    "deletable": true,
    "editable": true
   },
   "source": [
    "# Submission"
   ]
  },
  {
   "cell_type": "markdown",
   "metadata": {
    "deletable": true,
    "editable": true
   },
   "source": [
    "## Actual model training"
   ]
  },
  {
   "cell_type": "code",
   "execution_count": null,
   "metadata": {
    "collapsed": false,
    "deletable": true,
    "editable": true,
    "scrolled": false
   },
   "outputs": [],
   "source": [
    "sender_models = dict()\n",
    "for index, row in tqdm_notebook(df_email_senders.iterrows(), desc=\"Senders Training (submision)\", total=df_email_senders.shape[0]):\n",
    "    # Row unpacking\n",
    "    sender = row[\"sender\"]\n",
    "    mids = list(map(int, row[\"mids\"].split()))\n",
    "    df_interest = df_emails.ix[mids]\n",
    "    n_mails = len(mids)\n",
    "    # Model building\n",
    "    sender_model = model(df_interest, n_mails)\n",
    "    # Training\n",
    "    sender_model.train()\n",
    "    # Saving\n",
    "    sender_models[sender] = sender_model"
   ]
  },
  {
   "cell_type": "markdown",
   "metadata": {
    "deletable": true,
    "editable": true
   },
   "source": [
    "## Data loading"
   ]
  },
  {
   "cell_type": "code",
   "execution_count": null,
   "metadata": {
    "collapsed": false,
    "deletable": true,
    "editable": true
   },
   "outputs": [],
   "source": [
    "df_submission_senders = load_email_senders(set_type=\"test\")\n",
    "df_submission = load_emails(set_type=\"test\")\n",
    "df_submission[\"recipients\"] = \"\""
   ]
  },
  {
   "cell_type": "markdown",
   "metadata": {
    "deletable": true,
    "editable": true
   },
   "source": [
    "## Data cleansing"
   ]
  },
  {
   "cell_type": "code",
   "execution_count": null,
   "metadata": {
    "collapsed": false,
    "deletable": true,
    "editable": true
   },
   "outputs": [],
   "source": [
    "clean_df(df_submission, df_submission_senders)"
   ]
  },
  {
   "cell_type": "markdown",
   "metadata": {
    "deletable": true,
    "editable": true
   },
   "source": [
    "## Prediction"
   ]
  },
  {
   "cell_type": "code",
   "execution_count": null,
   "metadata": {
    "collapsed": false,
    "deletable": true,
    "editable": true
   },
   "outputs": [],
   "source": [
    "for index, row in tqdm_notebook(df_submission_senders.iterrows(), desc=\"Senders predictions\", total=df_submission_senders.shape[0]):\n",
    "    sender = row[\"sender\"]\n",
    "    mids = map(int, row[\"mids\"].split())\n",
    "    # Model loading\n",
    "    sender_model = sender_models[sender]\n",
    "    # Prediction\n",
    "    sender_model.predict(mids, df_submission)"
   ]
  },
  {
   "cell_type": "markdown",
   "metadata": {
    "deletable": true,
    "editable": true
   },
   "source": [
    "# Fine tuning"
   ]
  },
  {
   "cell_type": "code",
   "execution_count": null,
   "metadata": {
    "collapsed": true,
    "deletable": true,
    "editable": true
   },
   "outputs": [],
   "source": [
    "from tools.fine_tuning import expected_precision"
   ]
  },
  {
   "cell_type": "code",
   "execution_count": null,
   "metadata": {
    "collapsed": false,
    "deletable": true,
    "editable": true
   },
   "outputs": [],
   "source": [
    "depths = [2, 5, 10, 15, 20, 30, 50, 100, 300]\n",
    "n = len(depths)\n",
    "p = np.zeros(n)"
   ]
  },
  {
   "cell_type": "code",
   "execution_count": null,
   "metadata": {
    "collapsed": false,
    "deletable": true,
    "editable": true
   },
   "outputs": [],
   "source": [
    "for i, depth in enumerate(depths):\n",
    "    p[i] = expected_precision(min_sample_prop=0.0002,\n",
    "                             n_estimators=15,\n",
    "                             max_depth=100)"
   ]
  },
  {
   "cell_type": "code",
   "execution_count": null,
   "metadata": {
    "collapsed": false,
    "deletable": true,
    "editable": true
   },
   "outputs": [],
   "source": [
    "n_trials = 10\n",
    "pr = np.zeros(n_trials)\n",
    "for i in range(n_trials):\n",
    "    pr[i] += expected_precision(min_sample_prop=0.04,\n",
    "                             n_estimators=15,\n",
    "                             max_depth=30)\n",
    "print(pr)"
   ]
  },
  {
   "cell_type": "code",
   "execution_count": null,
   "metadata": {
    "collapsed": false,
    "deletable": true,
    "editable": true
   },
   "outputs": [],
   "source": [
    "pr.mean()"
   ]
  },
  {
   "cell_type": "code",
   "execution_count": null,
   "metadata": {
    "collapsed": false,
    "deletable": true,
    "editable": true
   },
   "outputs": [],
   "source": [
    "plt.plot(depths, p)\n",
    "plt.xlabel(\"Number of trees\")\n",
    "plt.ylabel(\"Precision\")"
   ]
  },
  {
   "cell_type": "markdown",
   "metadata": {
    "deletable": true,
    "editable": true
   },
   "source": [
    "## Formatting"
   ]
  },
  {
   "cell_type": "code",
   "execution_count": null,
   "metadata": {
    "collapsed": false,
    "deletable": true,
    "editable": true
   },
   "outputs": [],
   "source": [
    "save_submission(df_submission,\n",
    "               algo=\"RF single sender regressor tw idf\",\n",
    "               member=\"Zac\")"
   ]
  },
  {
   "cell_type": "code",
   "execution_count": null,
   "metadata": {
    "collapsed": false,
    "deletable": true,
    "editable": true
   },
   "outputs": [],
   "source": [
    "df_submission"
   ]
  },
  {
   "cell_type": "code",
   "execution_count": null,
   "metadata": {
    "collapsed": true,
    "deletable": true,
    "editable": true
   },
   "outputs": [],
   "source": []
  }
 ],
 "metadata": {
  "kernelspec": {
   "display_name": "Python 3",
   "language": "python",
   "name": "python3"
  },
  "language_info": {
   "codemirror_mode": {
    "name": "ipython",
    "version": 3
   },
   "file_extension": ".py",
   "mimetype": "text/x-python",
   "name": "python",
   "nbconvert_exporter": "python",
   "pygments_lexer": "ipython3",
   "version": "3.5.2"
  },
  "widgets": {
   "state": {
    "1f68f512334f40cfbe9e72afde3a6d38": {
     "views": [
      {
       "cell_index": 35
      }
     ]
    },
    "290d27daf49e48e09fb7f933d373dbba": {
     "views": [
      {
       "cell_index": 24
      }
     ]
    },
    "8316917a14d040f08b4f7a88e53a0918": {
     "views": [
      {
       "cell_index": 29
      }
     ]
    },
    "8fd618a895c74d658b899a3cb7d75309": {
     "views": [
      {
       "cell_index": 33
      }
     ]
    },
    "9ec7bb7890ab45abbd211b9c58178522": {
     "views": [
      {
       "cell_index": 14
      }
     ]
    }
   },
   "version": "1.2.0"
  }
 },
 "nbformat": 4,
 "nbformat_minor": 2
}
