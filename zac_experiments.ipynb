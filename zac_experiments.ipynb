{
 "cells": [
  {
   "cell_type": "code",
   "execution_count": null,
   "metadata": {
    "collapsed": false,
    "deletable": true,
    "editable": true
   },
   "outputs": [],
   "source": [
    "%matplotlib inline\n",
    "import matplotlib.pyplot as plt\n",
    "from nltk.stem.lancaster import LancasterStemmer\n",
    "import numpy as np\n",
    "import pandas as pd\n",
    "from sklearn.ensemble import RandomForestRegressor\n",
    "from sklearn.feature_extraction.text import CountVectorizer, TfidfVectorizer\n",
    "\n",
    "from tools.data_cleansing import clean\n",
    "from tools.data_exploration import print_email_by_id, emails_sent_distribution, emails_received_distribution,\\\n",
    "body_length_distribution, number_of_recipients_distribution\n",
    "from tools.data_handling import enrich_emails, load_email_senders, unique_recipients, address_book, load_emails\n",
    "from tools.evaluation import precision\n",
    "from tools.features import split_tokenizer\n",
    "from tools.sender_pipeline import SenderModel\n",
    "from tools.submission import save_submission"
   ]
  },
  {
   "cell_type": "markdown",
   "metadata": {
    "deletable": true,
    "editable": true
   },
   "source": [
    "# Data loading and first look"
   ]
  },
  {
   "cell_type": "code",
   "execution_count": null,
   "metadata": {
    "collapsed": false,
    "deletable": true,
    "editable": true
   },
   "outputs": [],
   "source": [
    "df_emails = enrich_emails()"
   ]
  },
  {
   "cell_type": "code",
   "execution_count": null,
   "metadata": {
    "collapsed": false,
    "deletable": true,
    "editable": true,
    "scrolled": false
   },
   "outputs": [],
   "source": [
    "print_email_by_id(df_emails, 41311)"
   ]
  },
  {
   "cell_type": "markdown",
   "metadata": {
    "deletable": true,
    "editable": true
   },
   "source": [
    "# Data exploration"
   ]
  },
  {
   "cell_type": "code",
   "execution_count": null,
   "metadata": {
    "collapsed": true,
    "deletable": true,
    "editable": true
   },
   "outputs": [],
   "source": [
    "df_email_senders = load_email_senders()"
   ]
  },
  {
   "cell_type": "code",
   "execution_count": null,
   "metadata": {
    "collapsed": false,
    "deletable": true,
    "editable": true
   },
   "outputs": [],
   "source": [
    "emails_sent_distribution(df_email_senders, max_value=300)"
   ]
  },
  {
   "cell_type": "code",
   "execution_count": null,
   "metadata": {
    "collapsed": false,
    "deletable": true,
    "editable": true
   },
   "outputs": [],
   "source": [
    "emails_received_distribution(df_emails, max_value=200)"
   ]
  },
  {
   "cell_type": "code",
   "execution_count": null,
   "metadata": {
    "collapsed": false,
    "deletable": true,
    "editable": true
   },
   "outputs": [],
   "source": [
    "body_length_distribution(df_emails, max_value=10000)"
   ]
  },
  {
   "cell_type": "code",
   "execution_count": null,
   "metadata": {
    "collapsed": false,
    "deletable": true,
    "editable": true
   },
   "outputs": [],
   "source": [
    "number_of_recipients_distribution(df_emails, bins=20, max_value=100)"
   ]
  },
  {
   "cell_type": "code",
   "execution_count": null,
   "metadata": {
    "collapsed": false,
    "deletable": true,
    "editable": true
   },
   "outputs": [],
   "source": [
    "unique_rec = unique_recipients(df_emails)\n",
    "print(\"Number of unique recipients: {}\".format(len(unique_rec)))"
   ]
  },
  {
   "cell_type": "markdown",
   "metadata": {},
   "source": [
    "# Data cleansing"
   ]
  },
  {
   "cell_type": "markdown",
   "metadata": {},
   "source": [
    "## Cleansing function"
   ]
  },
  {
   "cell_type": "code",
   "execution_count": null,
   "metadata": {
    "collapsed": true
   },
   "outputs": [],
   "source": [
    "def clean_df(df_emails, df_senders):\n",
    "    df_emails[\"clean body\"] = \"\"\n",
    "    for index, row in df_email_senders.iterrows():\n",
    "        mids = list(map(int, row[\"mids\"].split()))\n",
    "        # data loading and separation\n",
    "        df_interest = df_emails.ix[mids]\n",
    "        # data cleansing\n",
    "        unique_rec_train = unique_recipients(df_interest)\n",
    "        add_book = address_book(unique_rec_train)\n",
    "        df_emails.loc[mids, \"clean body\"] = df_interest[\"body\"].apply(lambda x: clean(x, add_book))\n",
    "    df_emails[\"clean body\"] = df_emails[\"clean body\"].fillna(\"\")"
   ]
  },
  {
   "cell_type": "code",
   "execution_count": null,
   "metadata": {
    "collapsed": false
   },
   "outputs": [],
   "source": [
    "clean_df(df_emails, df_email_senders)"
   ]
  },
  {
   "cell_type": "code",
   "execution_count": null,
   "metadata": {
    "collapsed": false
   },
   "outputs": [],
   "source": [
    "df_emails.head()"
   ]
  },
  {
   "cell_type": "markdown",
   "metadata": {
    "deletable": true,
    "editable": true
   },
   "source": [
    "# Training"
   ]
  },
  {
   "cell_type": "code",
   "execution_count": null,
   "metadata": {
    "collapsed": true,
    "deletable": true,
    "editable": true
   },
   "outputs": [],
   "source": [
    "df_small_senders = df_email_senders.sample(frac=0.3)"
   ]
  },
  {
   "cell_type": "markdown",
   "metadata": {},
   "source": [
    "## Current Model"
   ]
  },
  {
   "cell_type": "code",
   "execution_count": null,
   "metadata": {
    "collapsed": true
   },
   "outputs": [],
   "source": [
    "def model(df_interest, n_mails):\n",
    "    # Input TF-IDF vectorizer\n",
    "    input_bow = TfidfVectorizer(norm=\"l2\")\n",
    "    # Random Forest Regressor\n",
    "    rf = RandomForestRegressor(\n",
    "        n_estimators=15,\n",
    "        max_depth=30,\n",
    "        n_jobs=-1,\n",
    "        min_samples_leaf=max(1,int(0.0002*n_mails)))\n",
    "    # Output vectorizer\n",
    "    unique_rec = unique_recipients(df_interest)\n",
    "    output_bow = CountVectorizer(\n",
    "        tokenizer=split_tokenizer,\n",
    "        vocabulary=unique_rec)\n",
    "    # Sender Model\n",
    "    sender_model = SenderModel(\n",
    "        df_emails=df_interest,\n",
    "        classifier = rf,\n",
    "        input_vectorizer = input_bow,\n",
    "        output_vectorizer = output_bow\n",
    "    )\n",
    "    return sender_model"
   ]
  },
  {
   "cell_type": "markdown",
   "metadata": {},
   "source": [
    "## On one particular sender"
   ]
  },
  {
   "cell_type": "code",
   "execution_count": null,
   "metadata": {
    "collapsed": false
   },
   "outputs": [],
   "source": [
    "row = df_email_senders.iloc[0]\n",
    "mids = list(map(int, row[\"mids\"].split()))\n",
    "df_interest = df_emails.ix[mids]\n",
    "n_mails = len(mids)\n",
    "sender_model = model(df_interest, n_mails)\n",
    "prec = sender_model.evaluate()\n",
    "print(prec)"
   ]
  },
  {
   "cell_type": "markdown",
   "metadata": {
    "deletable": true,
    "editable": true
   },
   "source": [
    "## Evaluation"
   ]
  },
  {
   "cell_type": "code",
   "execution_count": null,
   "metadata": {
    "collapsed": false,
    "deletable": true,
    "editable": true
   },
   "outputs": [],
   "source": [
    "df_precision = pd.DataFrame(columns=[\"sender\", \"n_mails\", \"precision\"])"
   ]
  },
  {
   "cell_type": "code",
   "execution_count": null,
   "metadata": {
    "collapsed": false,
    "deletable": true,
    "editable": true
   },
   "outputs": [],
   "source": [
    "for index, row in df_small_senders.iterrows():\n",
    "    # Row unpacking\n",
    "    sender = row[\"sender\"]\n",
    "    mids = list(map(int, row[\"mids\"].split()))\n",
    "    df_interest = df_emails.ix[mids]\n",
    "    n_mails = len(mids)\n",
    "    # Model building\n",
    "    sender_model = model(df_interest, n_mails)\n",
    "    # Precision computation\n",
    "    prec = sender_model.evaluate()\n",
    "    df_precision.loc[index] = [sender, n_mails, prec]"
   ]
  },
  {
   "cell_type": "code",
   "execution_count": null,
   "metadata": {
    "collapsed": false,
    "deletable": true,
    "editable": true
   },
   "outputs": [],
   "source": [
    "df_precision"
   ]
  },
  {
   "cell_type": "code",
   "execution_count": null,
   "metadata": {
    "collapsed": false,
    "deletable": true,
    "editable": true
   },
   "outputs": [],
   "source": [
    "df_precision[\"precision\"].mean()"
   ]
  },
  {
   "cell_type": "markdown",
   "metadata": {
    "collapsed": true,
    "deletable": true,
    "editable": true
   },
   "source": [
    "# Submission"
   ]
  },
  {
   "cell_type": "markdown",
   "metadata": {
    "deletable": true,
    "editable": true
   },
   "source": [
    "## Actual model training"
   ]
  },
  {
   "cell_type": "code",
   "execution_count": null,
   "metadata": {
    "collapsed": false,
    "deletable": true,
    "editable": true,
    "scrolled": false
   },
   "outputs": [],
   "source": [
    "sender_models = dict()\n",
    "for index, row in df_email_senders.iterrows():\n",
    "    # Row unpacking\n",
    "    sender = row[\"sender\"]\n",
    "    mids = list(map(int, row[\"mids\"].split()))\n",
    "    df_interest = df_emails.ix[mids]\n",
    "    n_mails = len(mids)\n",
    "    # Model building\n",
    "    sender_model = model(df_interest, n_mails)\n",
    "    # Training\n",
    "    sender_model.train()\n",
    "    # Saving\n",
    "    sender_models[sender] = sender_model"
   ]
  },
  {
   "cell_type": "markdown",
   "metadata": {
    "deletable": true,
    "editable": true
   },
   "source": [
    "## Data loading"
   ]
  },
  {
   "cell_type": "code",
   "execution_count": null,
   "metadata": {
    "collapsed": false,
    "deletable": true,
    "editable": true
   },
   "outputs": [],
   "source": [
    "df_submission_senders = load_email_senders(set_type=\"test\")\n",
    "df_submission = load_emails(set_type=\"test\")\n",
    "df_submission[\"recipients\"] = \"\""
   ]
  },
  {
   "cell_type": "markdown",
   "metadata": {},
   "source": [
    "## Data cleansing"
   ]
  },
  {
   "cell_type": "code",
   "execution_count": null,
   "metadata": {
    "collapsed": false,
    "deletable": true,
    "editable": true
   },
   "outputs": [],
   "source": [
    "clean_df(df_submission, df_submission_senders)"
   ]
  },
  {
   "cell_type": "markdown",
   "metadata": {},
   "source": [
    "## Prediction"
   ]
  },
  {
   "cell_type": "code",
   "execution_count": null,
   "metadata": {
    "collapsed": false,
    "deletable": true,
    "editable": true
   },
   "outputs": [],
   "source": [
    "for index, row in df_submission_senders.iterrows():\n",
    "    sender = row[\"sender\"]\n",
    "    mids = map(int, row[\"mids\"].split())\n",
    "    # Model loading\n",
    "    sender_model = sender_models[sender]\n",
    "    # Prediction\n",
    "    sender_model.predict(mids, df_submission)"
   ]
  },
  {
   "cell_type": "markdown",
   "metadata": {
    "deletable": true,
    "editable": true
   },
   "source": [
    "# Fine tuning"
   ]
  },
  {
   "cell_type": "code",
   "execution_count": null,
   "metadata": {
    "collapsed": true,
    "deletable": true,
    "editable": true
   },
   "outputs": [],
   "source": [
    "from tools.fine_tuning import expected_precision"
   ]
  },
  {
   "cell_type": "code",
   "execution_count": null,
   "metadata": {
    "collapsed": false,
    "deletable": true,
    "editable": true
   },
   "outputs": [],
   "source": [
    "depths = [2, 5, 10, 15, 20, 30, 50, 100, 300]\n",
    "n = len(depths)\n",
    "p = np.zeros(n)"
   ]
  },
  {
   "cell_type": "code",
   "execution_count": null,
   "metadata": {
    "collapsed": false,
    "deletable": true,
    "editable": true
   },
   "outputs": [],
   "source": [
    "for i, depth in enumerate(depths):\n",
    "    p[i] = expected_precision(min_sample_prop=0.0002,\n",
    "                             n_estimators=15,\n",
    "                             max_depth=100)"
   ]
  },
  {
   "cell_type": "code",
   "execution_count": null,
   "metadata": {
    "collapsed": false,
    "deletable": true,
    "editable": true
   },
   "outputs": [],
   "source": [
    "n_trials = 10\n",
    "pr = np.zeros(n_trials)\n",
    "for i in range(n_trials):\n",
    "    pr[i] += expected_precision(min_sample_prop=0.04,\n",
    "                             n_estimators=15,\n",
    "                             max_depth=30)\n",
    "print(pr)"
   ]
  },
  {
   "cell_type": "code",
   "execution_count": null,
   "metadata": {
    "collapsed": false,
    "deletable": true,
    "editable": true
   },
   "outputs": [],
   "source": [
    "pr.mean()"
   ]
  },
  {
   "cell_type": "code",
   "execution_count": null,
   "metadata": {
    "collapsed": false,
    "deletable": true,
    "editable": true
   },
   "outputs": [],
   "source": [
    "plt.plot(depths, p)\n",
    "plt.xlabel(\"Number of trees\")\n",
    "plt.ylabel(\"Precision\")"
   ]
  },
  {
   "cell_type": "markdown",
   "metadata": {
    "deletable": true,
    "editable": true
   },
   "source": [
    "## Formatting"
   ]
  },
  {
   "cell_type": "code",
   "execution_count": null,
   "metadata": {
    "collapsed": false,
    "deletable": true,
    "editable": true
   },
   "outputs": [],
   "source": [
    "save_submission(df_submission,\n",
    "               algo=\"RF single sender regressor tf idf\",\n",
    "               member=\"Zac\")"
   ]
  },
  {
   "cell_type": "code",
   "execution_count": null,
   "metadata": {
    "collapsed": false,
    "deletable": true,
    "editable": true
   },
   "outputs": [],
   "source": []
  }
 ],
 "metadata": {
  "kernelspec": {
   "display_name": "Python 3",
   "language": "python",
   "name": "python3"
  },
  "language_info": {
   "codemirror_mode": {
    "name": "ipython",
    "version": 3
   },
   "file_extension": ".py",
   "mimetype": "text/x-python",
   "name": "python",
   "nbconvert_exporter": "python",
   "pygments_lexer": "ipython3",
   "version": "3.5.2"
  }
 },
 "nbformat": 4,
 "nbformat_minor": 2
}
