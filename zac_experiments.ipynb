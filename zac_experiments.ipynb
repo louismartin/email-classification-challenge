{
 "cells": [
  {
   "cell_type": "code",
   "execution_count": 1,
   "metadata": {
    "collapsed": false,
    "deletable": true,
    "editable": true
   },
   "outputs": [],
   "source": [
    "%matplotlib inline\n",
    "from collections import Counter\n",
    "import math\n",
    "\n",
    "import matplotlib.pyplot as plt\n",
    "from nltk.stem.lancaster import LancasterStemmer\n",
    "import numpy as np\n",
    "import pandas as pd\n",
    "from sklearn.ensemble import RandomForestRegressor\n",
    "from sklearn.feature_extraction.text import CountVectorizer, TfidfVectorizer\n",
    "from sklearn.linear_model import LogisticRegression\n",
    "from tqdm import tqdm_notebook\n",
    "\n",
    "from tools.data_cleansing import clean\n",
    "from tools.data_exploration import print_email_by_id, emails_sent_distribution, emails_received_distribution,\\\n",
    "body_length_distribution, number_of_recipients_distribution\n",
    "from tools.data_handling import enrich_emails, load_email_senders, unique_recipients, address_book, load_emails\n",
    "from tools.features import split_tokenizer, TwidfVectorizer, GoWVectorizer\n",
    "from tools.sender_pipeline import SenderModel\n",
    "from tools.submission import save_submission"
   ]
  },
  {
   "cell_type": "markdown",
   "metadata": {
    "deletable": true,
    "editable": true
   },
   "source": [
    "# Data loading and first look"
   ]
  },
  {
   "cell_type": "code",
   "execution_count": 2,
   "metadata": {
    "collapsed": false,
    "deletable": true,
    "editable": true
   },
   "outputs": [
    {
     "name": "stdout",
     "output_type": "stream",
     "text": [
      "Reading dataframe from data/enrich_emails.csv\n"
     ]
    }
   ],
   "source": [
    "df_emails = enrich_emails()"
   ]
  },
  {
   "cell_type": "code",
   "execution_count": null,
   "metadata": {
    "collapsed": false,
    "deletable": true,
    "editable": true,
    "scrolled": false
   },
   "outputs": [],
   "source": [
    "print_email_by_id(df_emails, 41311)"
   ]
  },
  {
   "cell_type": "code",
   "execution_count": 3,
   "metadata": {
    "collapsed": true,
    "deletable": true,
    "editable": true
   },
   "outputs": [],
   "source": [
    "df_email_senders = load_email_senders()"
   ]
  },
  {
   "cell_type": "markdown",
   "metadata": {
    "deletable": true,
    "editable": true
   },
   "source": [
    "# Data exploration"
   ]
  },
  {
   "cell_type": "code",
   "execution_count": null,
   "metadata": {
    "collapsed": false,
    "deletable": true,
    "editable": true
   },
   "outputs": [],
   "source": [
    "emails_sent_distribution(df_email_senders, max_value=300)"
   ]
  },
  {
   "cell_type": "code",
   "execution_count": null,
   "metadata": {
    "collapsed": false,
    "deletable": true,
    "editable": true
   },
   "outputs": [],
   "source": [
    "emails_received_distribution(df_emails, max_value=200)"
   ]
  },
  {
   "cell_type": "code",
   "execution_count": null,
   "metadata": {
    "collapsed": false,
    "deletable": true,
    "editable": true
   },
   "outputs": [],
   "source": [
    "body_length_distribution(df_emails, max_value=10000)"
   ]
  },
  {
   "cell_type": "code",
   "execution_count": null,
   "metadata": {
    "collapsed": false,
    "deletable": true,
    "editable": true
   },
   "outputs": [],
   "source": [
    "number_of_recipients_distribution(df_emails, bins=20, max_value=100)"
   ]
  },
  {
   "cell_type": "code",
   "execution_count": null,
   "metadata": {
    "collapsed": false,
    "deletable": true,
    "editable": true
   },
   "outputs": [],
   "source": [
    "unique_rec = unique_recipients(df_emails)\n",
    "print(\"Number of unique recipients: {}\".format(len(unique_rec)))"
   ]
  },
  {
   "cell_type": "markdown",
   "metadata": {
    "deletable": true,
    "editable": true
   },
   "source": [
    "# Data cleansing"
   ]
  },
  {
   "cell_type": "markdown",
   "metadata": {
    "deletable": true,
    "editable": true
   },
   "source": [
    "## Cleansing function"
   ]
  },
  {
   "cell_type": "code",
   "execution_count": 4,
   "metadata": {
    "collapsed": true,
    "deletable": true,
    "editable": true
   },
   "outputs": [],
   "source": [
    "important_stopwords = {\n",
    "    \"he\", \"his\", \"him\", \"himself\", \"she\", \"her\", \"hers\", \"herself\"\n",
    "}\n",
    "additional_stopwords = {\n",
    "    \"fyi\", \"x\", \"filename\", \"forwarded\", \"forward\", \"original\", \"message\", \"sent\"\n",
    "}\n",
    "def clean_df(df_emails, df_senders):\n",
    "    df_emails[\"clean_body\"] = \"\"\n",
    "    for index, row in tqdm_notebook(df_senders.iterrows(), desc=\"Senders cleaning\", total=df_senders.shape[0]):\n",
    "        mids = list(map(int, row[\"mids\"].split()))\n",
    "        # data loading and separation\n",
    "        df_interest = df_emails.ix[mids]\n",
    "        # data cleansing\n",
    "        unique_rec_train = unique_recipients(df_interest)\n",
    "        add_book = address_book(unique_rec_train)\n",
    "        df_emails.loc[mids, \"clean_body\"] = df_interest[\"body\"].apply(\n",
    "            lambda x: clean(\n",
    "                x, add_book, important_stopwords=important_stopwords, additional_stopwords=additional_stopwords))\n",
    "    df_emails[\"clean_body\"] = df_emails[\"clean_body\"].fillna(\"\")"
   ]
  },
  {
   "cell_type": "code",
   "execution_count": 5,
   "metadata": {
    "collapsed": false,
    "deletable": true,
    "editable": true
   },
   "outputs": [
    {
     "name": "stdout",
     "output_type": "stream",
     "text": [
      "\n"
     ]
    }
   ],
   "source": [
    "clean_df(df_emails, df_email_senders)"
   ]
  },
  {
   "cell_type": "markdown",
   "metadata": {
    "deletable": true,
    "editable": true
   },
   "source": [
    "# Training"
   ]
  },
  {
   "cell_type": "markdown",
   "metadata": {
    "deletable": true,
    "editable": true
   },
   "source": [
    "## Received numbers"
   ]
  },
  {
   "cell_type": "code",
   "execution_count": 6,
   "metadata": {
    "collapsed": false,
    "deletable": true,
    "editable": true
   },
   "outputs": [],
   "source": [
    "all_recipients = df_emails[\"recipients\"].str.cat(sep=\" \").split()\n",
    "recipients_count = Counter(all_recipients)"
   ]
  },
  {
   "cell_type": "markdown",
   "metadata": {
    "deletable": true,
    "editable": true
   },
   "source": [
    "## Current Model"
   ]
  },
  {
   "cell_type": "code",
   "execution_count": 35,
   "metadata": {
    "collapsed": false,
    "deletable": true,
    "editable": true
   },
   "outputs": [],
   "source": [
    "def model(df_interest, n_mails):\n",
    "    # Input TF-IDF vectorizer\n",
    "    input_bow = CountVectorizer(max_features=n_mails)\n",
    "    # Random Forest Regressor\n",
    "    rf = RandomForestRegressor(\n",
    "        n_estimators=min(n_mails // 10, 100),\n",
    "        max_depth=100,\n",
    "        n_jobs=-1,\n",
    "        max_features=\"sqrt\",\n",
    "        random_state=0)\n",
    "    # Random Forest Regressor for reranking\n",
    "    lr_rerank = LogisticRegression(\n",
    "        C=1,\n",
    "        class_weight=\"balanced\",\n",
    "        n_jobs=-1,\n",
    "        random_state=0\n",
    "    )    \n",
    "    # Output vectorizer\n",
    "    unique_rec = unique_recipients(df_interest)\n",
    "    output_bow = CountVectorizer(\n",
    "        tokenizer=split_tokenizer,\n",
    "        vocabulary=unique_rec)\n",
    "    # Sender Model\n",
    "    sender_model = SenderModel(\n",
    "        df_emails=df_interest,\n",
    "        classifier = rf,\n",
    "        reranking_classifier=lr_rerank,\n",
    "        input_vectorizer = input_bow,\n",
    "        output_vectorizer = output_bow,\n",
    "        n_received=recipients_count\n",
    "    )\n",
    "    return sender_model"
   ]
  },
  {
   "cell_type": "markdown",
   "metadata": {
    "deletable": true,
    "editable": true
   },
   "source": [
    "## On one particular sender"
   ]
  },
  {
   "cell_type": "code",
   "execution_count": 36,
   "metadata": {
    "collapsed": false,
    "deletable": true,
    "editable": true
   },
   "outputs": [
    {
     "name": "stdout",
     "output_type": "stream",
     "text": [
      "0.599868287741\n"
     ]
    }
   ],
   "source": [
    "row = df_email_senders.iloc[0]\n",
    "mids = list(map(int, row[\"mids\"].split()))\n",
    "df_interest = df_emails.ix[mids]\n",
    "n_mails = len(mids)\n",
    "sender_model = model(df_interest, n_mails)\n",
    "prec = sender_model.evaluate(reranking=True)\n",
    "print(prec)"
   ]
  },
  {
   "cell_type": "markdown",
   "metadata": {
    "deletable": true,
    "editable": true
   },
   "source": [
    "## Evaluation"
   ]
  },
  {
   "cell_type": "code",
   "execution_count": 37,
   "metadata": {
    "collapsed": false,
    "deletable": true,
    "editable": true
   },
   "outputs": [],
   "source": [
    "df_small_senders = df_email_senders.sample(frac=0.3, random_state=0)"
   ]
  },
  {
   "cell_type": "code",
   "execution_count": 38,
   "metadata": {
    "collapsed": false,
    "deletable": true,
    "editable": true
   },
   "outputs": [],
   "source": [
    "df_precision = pd.DataFrame(columns=[\"sender\", \"n_mails\", \"precision\"])"
   ]
  },
  {
   "cell_type": "code",
   "execution_count": null,
   "metadata": {
    "collapsed": false,
    "deletable": true,
    "editable": true
   },
   "outputs": [],
   "source": [
    "for index, row in tqdm_notebook(df_small_senders.iterrows(), desc=\"Senders evaluation\", total=df_small_senders.shape[0]):\n",
    "    # Row unpacking\n",
    "    sender = row[\"sender\"]\n",
    "    mids = list(map(int, row[\"mids\"].split()))\n",
    "    df_interest = df_emails.ix[mids]\n",
    "    n_mails = len(mids)\n",
    "    # Model building\n",
    "    sender_model = model(df_interest, n_mails)\n",
    "    # Precision computation\n",
    "    prec = sender_model.evaluate(reranking=False)\n",
    "    df_precision.loc[index] = [sender, n_mails, prec]"
   ]
  },
  {
   "cell_type": "code",
   "execution_count": null,
   "metadata": {
    "collapsed": false,
    "deletable": true,
    "editable": true
   },
   "outputs": [],
   "source": [
    "(df_precision[\"precision\"]*df_precision[\"n_mails\"]).sum()/(df_precision[\"n_mails\"].sum())"
   ]
  },
  {
   "cell_type": "code",
   "execution_count": null,
   "metadata": {
    "collapsed": true,
    "deletable": true,
    "editable": true
   },
   "outputs": [],
   "source": [
    "df_precision"
   ]
  },
  {
   "cell_type": "markdown",
   "metadata": {
    "collapsed": true,
    "deletable": true,
    "editable": true
   },
   "source": [
    "# Submission"
   ]
  },
  {
   "cell_type": "markdown",
   "metadata": {
    "deletable": true,
    "editable": true
   },
   "source": [
    "## Actual model training"
   ]
  },
  {
   "cell_type": "code",
   "execution_count": null,
   "metadata": {
    "collapsed": false,
    "deletable": true,
    "editable": true,
    "scrolled": false
   },
   "outputs": [],
   "source": [
    "sender_models = dict()\n",
    "for index, row in tqdm_notebook(df_email_senders.iterrows(), desc=\"Senders Training (submision)\", total=df_email_senders.shape[0]):\n",
    "    # Row unpacking\n",
    "    sender = row[\"sender\"]\n",
    "    mids = list(map(int, row[\"mids\"].split()))\n",
    "    df_interest = df_emails.ix[mids]\n",
    "    n_mails = len(mids)\n",
    "    # Model building\n",
    "    sender_model = model(df_interest, n_mails)\n",
    "    # Training\n",
    "    sender_model.train()\n",
    "    # Saving\n",
    "    sender_models[sender] = sender_model"
   ]
  },
  {
   "cell_type": "markdown",
   "metadata": {
    "deletable": true,
    "editable": true
   },
   "source": [
    "## Data loading"
   ]
  },
  {
   "cell_type": "code",
   "execution_count": null,
   "metadata": {
    "collapsed": false,
    "deletable": true,
    "editable": true
   },
   "outputs": [],
   "source": [
    "df_submission_senders = load_email_senders(set_type=\"test\")\n",
    "df_submission = load_emails(set_type=\"test\")\n",
    "df_submission[\"recipients\"] = \"\""
   ]
  },
  {
   "cell_type": "markdown",
   "metadata": {
    "deletable": true,
    "editable": true
   },
   "source": [
    "## Data cleansing"
   ]
  },
  {
   "cell_type": "code",
   "execution_count": null,
   "metadata": {
    "collapsed": false,
    "deletable": true,
    "editable": true
   },
   "outputs": [],
   "source": [
    "clean_df(df_submission, df_submission_senders)"
   ]
  },
  {
   "cell_type": "markdown",
   "metadata": {
    "deletable": true,
    "editable": true
   },
   "source": [
    "## Prediction"
   ]
  },
  {
   "cell_type": "code",
   "execution_count": null,
   "metadata": {
    "collapsed": false,
    "deletable": true,
    "editable": true
   },
   "outputs": [],
   "source": [
    "for index, row in tqdm_notebook(df_submission_senders.iterrows(), desc=\"Senders predictions\", total=df_submission_senders.shape[0]):\n",
    "    # Row unpacking\n",
    "    sender = row[\"sender\"]\n",
    "    mids_train = list(map(int, df_email_senders[df_email_senders[\"sender\"]==sender][\"mids\"].iloc[0].split()))\n",
    "    df_interest = df_emails.ix[mids_train]\n",
    "    n_mails = len(mids_train)\n",
    "    # Model building\n",
    "    sender_model = model(df_interest, n_mails)\n",
    "    # Training\n",
    "    sender_model.train()\n",
    "    # Prediction\n",
    "    mids_sub = list(map(int, row[\"mids\"].split()))\n",
    "    sender_model.predict(mids_sub, df_submission)"
   ]
  },
  {
   "cell_type": "markdown",
   "metadata": {
    "deletable": true,
    "editable": true
   },
   "source": [
    "## Formatting"
   ]
  },
  {
   "cell_type": "code",
   "execution_count": null,
   "metadata": {
    "collapsed": false,
    "deletable": true,
    "editable": true
   },
   "outputs": [],
   "source": [
    "save_submission(df_submission,\n",
    "               algo=\"RF single sender regressor bow reranked\",\n",
    "               member=\"Zac\")"
   ]
  },
  {
   "cell_type": "code",
   "execution_count": null,
   "metadata": {
    "collapsed": false,
    "deletable": true,
    "editable": true
   },
   "outputs": [],
   "source": [
    "df_submission"
   ]
  }
 ],
 "metadata": {
  "kernelspec": {
   "display_name": "Python 3",
   "language": "python",
   "name": "python3"
  },
  "language_info": {
   "codemirror_mode": {
    "name": "ipython",
    "version": 3
   },
   "file_extension": ".py",
   "mimetype": "text/x-python",
   "name": "python",
   "nbconvert_exporter": "python",
   "pygments_lexer": "ipython3",
   "version": "3.5.2"
  },
  "widgets": {
   "state": {
    "73308841061d4e07b029be604e019da3": {
     "views": [
      {
       "cell_index": 14
      }
     ]
    },
    "833ffb7058a34c14a4cefb11e8cb9bdf": {
     "views": [
      {
       "cell_index": 25
      }
     ]
    }
   },
   "version": "1.2.0"
  }
 },
 "nbformat": 4,
 "nbformat_minor": 2
}
