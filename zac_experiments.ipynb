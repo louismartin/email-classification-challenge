{
 "cells": [
  {
   "cell_type": "code",
   "execution_count": 42,
   "metadata": {
    "collapsed": false,
    "deletable": true,
    "editable": true
   },
   "outputs": [],
   "source": [
    "%matplotlib inline\n",
    "import matplotlib.pyplot as plt\n",
    "from nltk.stem.lancaster import LancasterStemmer\n",
    "import numpy as np\n",
    "import pandas as pd\n",
    "from sklearn.ensemble import RandomForestRegressor\n",
    "from sklearn.feature_extraction.text import CountVectorizer, TfidfVectorizer\n",
    "from tqdm import tqdm_notebook\n",
    "\n",
    "from tools.data_cleansing import clean\n",
    "from tools.data_exploration import print_email_by_id, emails_sent_distribution, emails_received_distribution,\\\n",
    "body_length_distribution, number_of_recipients_distribution\n",
    "from tools.data_handling import enrich_emails, load_email_senders, unique_recipients, address_book, load_emails\n",
    "from tools.features import split_tokenizer, TwidfVectorizer, GoWVectorizer\n",
    "from tools.sender_pipeline import SenderModel\n",
    "from tools.submission import save_submission"
   ]
  },
  {
   "cell_type": "markdown",
   "metadata": {
    "deletable": true,
    "editable": true
   },
   "source": [
    "# Data loading and first look"
   ]
  },
  {
   "cell_type": "code",
   "execution_count": 2,
   "metadata": {
    "collapsed": false,
    "deletable": true,
    "editable": true
   },
   "outputs": [
    {
     "name": "stdout",
     "output_type": "stream",
     "text": [
      "Reading dataframe from data/enrich_emails.csv\n"
     ]
    }
   ],
   "source": [
    "df_emails = enrich_emails()"
   ]
  },
  {
   "cell_type": "code",
   "execution_count": 3,
   "metadata": {
    "collapsed": false,
    "deletable": true,
    "editable": true,
    "scrolled": false
   },
   "outputs": [
    {
     "name": "stdout",
     "output_type": "stream",
     "text": [
      "From: lynn.blair@enron.com\n",
      "To: john.buchanan@enron.com lynn.blair@enron.com\n",
      "On: 2001-07-26 08:02:34\n",
      "Body:\n",
      "    \t\tJohn, would you please work with Brad Holmes and Jerry Medeles to capture all of\tthe system enhancements we have made on NNG since last years meeting.\tThanks. Lynn\n"
     ]
    }
   ],
   "source": [
    "print_email_by_id(df_emails, 41311)"
   ]
  },
  {
   "cell_type": "code",
   "execution_count": 4,
   "metadata": {
    "collapsed": true,
    "deletable": true,
    "editable": true
   },
   "outputs": [],
   "source": [
    "df_email_senders = load_email_senders()"
   ]
  },
  {
   "cell_type": "markdown",
   "metadata": {
    "deletable": true,
    "editable": true
   },
   "source": [
    "# Data exploration"
   ]
  },
  {
   "cell_type": "code",
   "execution_count": null,
   "metadata": {
    "collapsed": false,
    "deletable": true,
    "editable": true
   },
   "outputs": [],
   "source": [
    "emails_sent_distribution(df_email_senders, max_value=300)"
   ]
  },
  {
   "cell_type": "code",
   "execution_count": null,
   "metadata": {
    "collapsed": false,
    "deletable": true,
    "editable": true
   },
   "outputs": [],
   "source": [
    "emails_received_distribution(df_emails, max_value=200)"
   ]
  },
  {
   "cell_type": "code",
   "execution_count": null,
   "metadata": {
    "collapsed": false,
    "deletable": true,
    "editable": true
   },
   "outputs": [],
   "source": [
    "body_length_distribution(df_emails, max_value=10000)"
   ]
  },
  {
   "cell_type": "code",
   "execution_count": null,
   "metadata": {
    "collapsed": false,
    "deletable": true,
    "editable": true
   },
   "outputs": [],
   "source": [
    "number_of_recipients_distribution(df_emails, bins=20, max_value=100)"
   ]
  },
  {
   "cell_type": "code",
   "execution_count": null,
   "metadata": {
    "collapsed": false,
    "deletable": true,
    "editable": true
   },
   "outputs": [],
   "source": [
    "unique_rec = unique_recipients(df_emails)\n",
    "print(\"Number of unique recipients: {}\".format(len(unique_rec)))"
   ]
  },
  {
   "cell_type": "markdown",
   "metadata": {
    "deletable": true,
    "editable": true
   },
   "source": [
    "# Data cleansing"
   ]
  },
  {
   "cell_type": "markdown",
   "metadata": {
    "deletable": true,
    "editable": true
   },
   "source": [
    "## Cleansing function"
   ]
  },
  {
   "cell_type": "code",
   "execution_count": 5,
   "metadata": {
    "collapsed": true,
    "deletable": true,
    "editable": true
   },
   "outputs": [],
   "source": [
    "def clean_df(df_emails, df_senders):\n",
    "    df_emails[\"clean_body\"] = \"\"\n",
    "    for index, row in tqdm_notebook(df_senders.iterrows(), desc=\"Senders cleaning\", total=df_senders.shape[0]):\n",
    "        mids = list(map(int, row[\"mids\"].split()))\n",
    "        # data loading and separation\n",
    "        df_interest = df_emails.ix[mids]\n",
    "        # data cleansing\n",
    "        unique_rec_train = unique_recipients(df_interest)\n",
    "        add_book = address_book(unique_rec_train)\n",
    "        df_emails.loc[mids, \"clean_body\"] = df_interest[\"body\"].apply(lambda x: clean(x, add_book))\n",
    "    df_emails[\"clean_body\"] = df_emails[\"clean_body\"].fillna(\"\")"
   ]
  },
  {
   "cell_type": "code",
   "execution_count": 6,
   "metadata": {
    "collapsed": false,
    "deletable": true,
    "editable": true
   },
   "outputs": [
    {
     "name": "stdout",
     "output_type": "stream",
     "text": [
      "\n"
     ]
    }
   ],
   "source": [
    "clean_df(df_emails, df_email_senders)"
   ]
  },
  {
   "cell_type": "markdown",
   "metadata": {
    "deletable": true,
    "editable": true
   },
   "source": [
    "# Training"
   ]
  },
  {
   "cell_type": "code",
   "execution_count": 8,
   "metadata": {
    "collapsed": false,
    "deletable": true,
    "editable": true
   },
   "outputs": [],
   "source": [
    "df_small_senders = df_email_senders.sample(frac=0.3, random_state=0)"
   ]
  },
  {
   "cell_type": "markdown",
   "metadata": {
    "deletable": true,
    "editable": true
   },
   "source": [
    "## Current Model"
   ]
  },
  {
   "cell_type": "code",
   "execution_count": 93,
   "metadata": {
    "collapsed": true,
    "deletable": true,
    "editable": true
   },
   "outputs": [],
   "source": [
    "def model(df_interest, n_mails):\n",
    "    # Input TF-IDF vectorizer\n",
    "    input_bow = CountVectorizer()\n",
    "    # Random Forest Regressor\n",
    "    rf = RandomForestRegressor(\n",
    "        n_estimators=200,\n",
    "        max_depth=75,\n",
    "        n_jobs=-1,\n",
    "        min_samples_leaf=max(1,int(0.0002*n_mails)),\n",
    "        max_features=\"sqrt\",\n",
    "        random_state=0)\n",
    "    # Output vectorizer\n",
    "    unique_rec = unique_recipients(df_interest)\n",
    "    output_bow = CountVectorizer(\n",
    "        tokenizer=split_tokenizer,\n",
    "        vocabulary=unique_rec)\n",
    "    # Sender Model\n",
    "    sender_model = SenderModel(\n",
    "        df_emails=df_interest,\n",
    "        classifier = rf,\n",
    "        input_vectorizer = input_bow,\n",
    "        output_vectorizer = output_bow\n",
    "    )\n",
    "    return sender_model"
   ]
  },
  {
   "cell_type": "markdown",
   "metadata": {
    "deletable": true,
    "editable": true
   },
   "source": [
    "## On one particular sender"
   ]
  },
  {
   "cell_type": "code",
   "execution_count": 94,
   "metadata": {
    "collapsed": false,
    "deletable": true,
    "editable": true
   },
   "outputs": [
    {
     "name": "stdout",
     "output_type": "stream",
     "text": [
      "0.635842620736\n"
     ]
    }
   ],
   "source": [
    "row = df_email_senders.iloc[0]\n",
    "mids = list(map(int, row[\"mids\"].split()))\n",
    "df_interest = df_emails.ix[mids]\n",
    "n_mails = len(mids)\n",
    "sender_model = model(df_interest, n_mails)\n",
    "prec = sender_model.evaluate(random_state=0)\n",
    "print(prec)"
   ]
  },
  {
   "cell_type": "markdown",
   "metadata": {
    "deletable": true,
    "editable": true
   },
   "source": [
    "## Evaluation"
   ]
  },
  {
   "cell_type": "code",
   "execution_count": 95,
   "metadata": {
    "collapsed": false,
    "deletable": true,
    "editable": true
   },
   "outputs": [],
   "source": [
    "df_precision = pd.DataFrame(columns=[\"sender\", \"n_mails\", \"precision\"])"
   ]
  },
  {
   "cell_type": "code",
   "execution_count": 96,
   "metadata": {
    "collapsed": false,
    "deletable": true,
    "editable": true
   },
   "outputs": [
    {
     "name": "stderr",
     "output_type": "stream",
     "text": [
      "/home/zaccharie/workspace/ALTEGRAD/email-classification-challenge/tools/sender_pipeline.py:43: DataConversionWarning: A column-vector y was passed when a 1d array was expected. Please change the shape of y to (n_samples,), for example using ravel().\n",
      "  self.classifier.fit(X_train, Y_train.toarray())\n",
      "/home/zaccharie/workspace/ALTEGRAD/email-classification-challenge/tools/sender_pipeline.py:43: DataConversionWarning: A column-vector y was passed when a 1d array was expected. Please change the shape of y to (n_samples,), for example using ravel().\n",
      "  self.classifier.fit(X_train, Y_train.toarray())\n",
      "/home/zaccharie/workspace/ALTEGRAD/email-classification-challenge/tools/sender_pipeline.py:43: DataConversionWarning: A column-vector y was passed when a 1d array was expected. Please change the shape of y to (n_samples,), for example using ravel().\n",
      "  self.classifier.fit(X_train, Y_train.toarray())\n"
     ]
    },
    {
     "name": "stdout",
     "output_type": "stream",
     "text": [
      "\n"
     ]
    }
   ],
   "source": [
    "for index, row in tqdm_notebook(df_email_senders.iterrows(), desc=\"Senders evaluation\", total=df_email_senders.shape[0]):\n",
    "    # Row unpacking\n",
    "    sender = row[\"sender\"]\n",
    "    mids = list(map(int, row[\"mids\"].split()))\n",
    "    df_interest = df_emails.ix[mids]\n",
    "    n_mails = len(mids)\n",
    "    # Model building\n",
    "    sender_model = model(df_interest, n_mails)\n",
    "    # Precision computation\n",
    "    prec = sender_model.evaluate(random_state=0)\n",
    "    df_precision.loc[index] = [sender, n_mails, prec]"
   ]
  },
  {
   "cell_type": "code",
   "execution_count": 97,
   "metadata": {
    "collapsed": false,
    "deletable": true,
    "editable": true
   },
   "outputs": [
    {
     "data": {
      "text/plain": [
       "0.51448870141092262"
      ]
     },
     "execution_count": 97,
     "metadata": {},
     "output_type": "execute_result"
    }
   ],
   "source": [
    "(df_precision[\"precision\"]*df_precision[\"n_mails\"]).sum()/(df_precision[\"n_mails\"].sum())"
   ]
  },
  {
   "cell_type": "markdown",
   "metadata": {
    "collapsed": true,
    "deletable": true,
    "editable": true
   },
   "source": [
    "# Submission"
   ]
  },
  {
   "cell_type": "markdown",
   "metadata": {
    "deletable": true,
    "editable": true
   },
   "source": [
    "## Actual model training"
   ]
  },
  {
   "cell_type": "code",
   "execution_count": 15,
   "metadata": {
    "collapsed": false,
    "deletable": true,
    "editable": true,
    "scrolled": false
   },
   "outputs": [
    {
     "name": "stderr",
     "output_type": "stream",
     "text": [
      "/home/zaccharie/workspace/ALTEGRAD/email-classification-challenge/tools/sender_pipeline.py:43: DataConversionWarning: A column-vector y was passed when a 1d array was expected. Please change the shape of y to (n_samples,), for example using ravel().\n",
      "  self.classifier.fit(X_train, Y_train.toarray())\n",
      "/home/zaccharie/workspace/ALTEGRAD/email-classification-challenge/tools/sender_pipeline.py:43: DataConversionWarning: A column-vector y was passed when a 1d array was expected. Please change the shape of y to (n_samples,), for example using ravel().\n",
      "  self.classifier.fit(X_train, Y_train.toarray())\n",
      "/home/zaccharie/workspace/ALTEGRAD/email-classification-challenge/tools/sender_pipeline.py:43: DataConversionWarning: A column-vector y was passed when a 1d array was expected. Please change the shape of y to (n_samples,), for example using ravel().\n",
      "  self.classifier.fit(X_train, Y_train.toarray())\n"
     ]
    },
    {
     "name": "stdout",
     "output_type": "stream",
     "text": [
      "\n"
     ]
    }
   ],
   "source": [
    "sender_models = dict()\n",
    "for index, row in tqdm_notebook(df_email_senders.iterrows(), desc=\"Senders Training (submision)\", total=df_email_senders.shape[0]):\n",
    "    # Row unpacking\n",
    "    sender = row[\"sender\"]\n",
    "    mids = list(map(int, row[\"mids\"].split()))\n",
    "    df_interest = df_emails.ix[mids]\n",
    "    n_mails = len(mids)\n",
    "    # Model building\n",
    "    sender_model = model(df_interest, n_mails)\n",
    "    # Training\n",
    "    sender_model.train()\n",
    "    # Saving\n",
    "    sender_models[sender] = sender_model"
   ]
  },
  {
   "cell_type": "markdown",
   "metadata": {
    "deletable": true,
    "editable": true
   },
   "source": [
    "## Data loading"
   ]
  },
  {
   "cell_type": "code",
   "execution_count": 16,
   "metadata": {
    "collapsed": false,
    "deletable": true,
    "editable": true
   },
   "outputs": [],
   "source": [
    "df_submission_senders = load_email_senders(set_type=\"test\")\n",
    "df_submission = load_emails(set_type=\"test\")\n",
    "df_submission[\"recipients\"] = \"\""
   ]
  },
  {
   "cell_type": "markdown",
   "metadata": {
    "deletable": true,
    "editable": true
   },
   "source": [
    "## Data cleansing"
   ]
  },
  {
   "cell_type": "code",
   "execution_count": 17,
   "metadata": {
    "collapsed": false,
    "deletable": true,
    "editable": true
   },
   "outputs": [
    {
     "name": "stdout",
     "output_type": "stream",
     "text": [
      "\n"
     ]
    }
   ],
   "source": [
    "clean_df(df_submission, df_submission_senders)"
   ]
  },
  {
   "cell_type": "markdown",
   "metadata": {
    "deletable": true,
    "editable": true
   },
   "source": [
    "## Prediction"
   ]
  },
  {
   "cell_type": "code",
   "execution_count": 18,
   "metadata": {
    "collapsed": false,
    "deletable": true,
    "editable": true
   },
   "outputs": [
    {
     "name": "stdout",
     "output_type": "stream",
     "text": [
      "\n"
     ]
    }
   ],
   "source": [
    "for index, row in tqdm_notebook(df_submission_senders.iterrows(), desc=\"Senders predictions\", total=df_submission_senders.shape[0]):\n",
    "    sender = row[\"sender\"]\n",
    "    mids = map(int, row[\"mids\"].split())\n",
    "    # Model loading\n",
    "    sender_model = sender_models[sender]\n",
    "    # Prediction\n",
    "    sender_model.predict(mids, df_submission)"
   ]
  },
  {
   "cell_type": "markdown",
   "metadata": {
    "deletable": true,
    "editable": true
   },
   "source": [
    "# Fine tuning"
   ]
  },
  {
   "cell_type": "code",
   "execution_count": null,
   "metadata": {
    "collapsed": true,
    "deletable": true,
    "editable": true
   },
   "outputs": [],
   "source": [
    "from tools.fine_tuning import expected_precision"
   ]
  },
  {
   "cell_type": "code",
   "execution_count": null,
   "metadata": {
    "collapsed": false,
    "deletable": true,
    "editable": true
   },
   "outputs": [],
   "source": [
    "depths = [2, 5, 10, 15, 20, 30, 50, 100, 300]\n",
    "n = len(depths)\n",
    "p = np.zeros(n)"
   ]
  },
  {
   "cell_type": "code",
   "execution_count": null,
   "metadata": {
    "collapsed": false,
    "deletable": true,
    "editable": true
   },
   "outputs": [],
   "source": [
    "for i, depth in enumerate(depths):\n",
    "    p[i] = expected_precision(min_sample_prop=0.0002,\n",
    "                             n_estimators=15,\n",
    "                             max_depth=100)"
   ]
  },
  {
   "cell_type": "code",
   "execution_count": null,
   "metadata": {
    "collapsed": false,
    "deletable": true,
    "editable": true
   },
   "outputs": [],
   "source": [
    "n_trials = 10\n",
    "pr = np.zeros(n_trials)\n",
    "for i in range(n_trials):\n",
    "    pr[i] += expected_precision(min_sample_prop=0.04,\n",
    "                             n_estimators=15,\n",
    "                             max_depth=30)\n",
    "print(pr)"
   ]
  },
  {
   "cell_type": "code",
   "execution_count": null,
   "metadata": {
    "collapsed": false,
    "deletable": true,
    "editable": true
   },
   "outputs": [],
   "source": [
    "pr.mean()"
   ]
  },
  {
   "cell_type": "code",
   "execution_count": null,
   "metadata": {
    "collapsed": false,
    "deletable": true,
    "editable": true
   },
   "outputs": [],
   "source": [
    "plt.plot(depths, p)\n",
    "plt.xlabel(\"Number of trees\")\n",
    "plt.ylabel(\"Precision\")"
   ]
  },
  {
   "cell_type": "markdown",
   "metadata": {
    "deletable": true,
    "editable": true
   },
   "source": [
    "## Formatting"
   ]
  },
  {
   "cell_type": "code",
   "execution_count": 19,
   "metadata": {
    "collapsed": false,
    "deletable": true,
    "editable": true
   },
   "outputs": [
    {
     "data": {
      "text/plain": [
       "'RF single sender regressor tw idf_Zac_1489065686.1829622.csv'"
      ]
     },
     "execution_count": 19,
     "metadata": {},
     "output_type": "execute_result"
    }
   ],
   "source": [
    "save_submission(df_submission,\n",
    "               algo=\"RF single sender regressor tw idf\",\n",
    "               member=\"Zac\")"
   ]
  },
  {
   "cell_type": "code",
   "execution_count": 20,
   "metadata": {
    "collapsed": false,
    "deletable": true,
    "editable": true
   },
   "outputs": [
    {
     "data": {
      "text/html": [
       "<div>\n",
       "<table border=\"1\" class=\"dataframe\">\n",
       "  <thead>\n",
       "    <tr style=\"text-align: right;\">\n",
       "      <th></th>\n",
       "      <th>date</th>\n",
       "      <th>body</th>\n",
       "      <th>recipients</th>\n",
       "      <th>clean_body</th>\n",
       "    </tr>\n",
       "    <tr>\n",
       "      <th>mid</th>\n",
       "      <th></th>\n",
       "      <th></th>\n",
       "      <th></th>\n",
       "      <th></th>\n",
       "    </tr>\n",
       "  </thead>\n",
       "  <tbody>\n",
       "    <tr>\n",
       "      <th>1577</th>\n",
       "      <td>2001-11-19 06:59:51</td>\n",
       "      <td>Note:  Stocks of heating oil are very high for...</td>\n",
       "      <td>kevin.hyatt@enron.com lindy.donoho@enron.com m...</td>\n",
       "      <td>not stock heat oil high wint affect northeast ...</td>\n",
       "    </tr>\n",
       "    <tr>\n",
       "      <th>1750</th>\n",
       "      <td>2002-03-05 08:46:57</td>\n",
       "      <td>Kevin Hyatt and I are going for \"sghetti\" at S...</td>\n",
       "      <td>no.address@enron.com michelle.lokay@enron.com ...</td>\n",
       "      <td>kevin hyat going sghetti spaghett wareh today ...</td>\n",
       "    </tr>\n",
       "    <tr>\n",
       "      <th>1916</th>\n",
       "      <td>2002-02-13 14:17:39</td>\n",
       "      <td>This was forwarded to me and it is funny. - Wi...</td>\n",
       "      <td>no.address@enron.com michelle.lokay@enron.com ...</td>\n",
       "      <td>forward funny witc enron voic mail system htm</td>\n",
       "    </tr>\n",
       "    <tr>\n",
       "      <th>2094</th>\n",
       "      <td>2002-01-22 11:33:56</td>\n",
       "      <td>I will be in to and happy to assist too.  I ma...</td>\n",
       "      <td>no.address@enron.com louise.kitchen@enron.com ...</td>\n",
       "      <td>happy assist may gon febru th trip confirm yet</td>\n",
       "    </tr>\n",
       "    <tr>\n",
       "      <th>2205</th>\n",
       "      <td>2002-01-11 07:12:19</td>\n",
       "      <td>Thanks. I needed a morning chuckle.</td>\n",
       "      <td>no.address@enron.com danny.mccarty@enron.com t...</td>\n",
       "      <td>thank nee morn chuckl</td>\n",
       "    </tr>\n",
       "    <tr>\n",
       "      <th>2297</th>\n",
       "      <td>2002-01-11 14:37:19</td>\n",
       "      <td>Note:  Westpath Expansion plans filed at NEBTr...</td>\n",
       "      <td>kevin.hyatt@enron.com lorraine.lindberg@enron....</td>\n",
       "      <td>not westpa expand plan fil nebtranscanad plan ...</td>\n",
       "    </tr>\n",
       "    <tr>\n",
       "      <th>5300</th>\n",
       "      <td>2001-11-26 14:13:01</td>\n",
       "      <td>Here are Peggy s slides. -----Original Message...</td>\n",
       "      <td>peggy.fowler@enron.com aaron.brown@enron.com m...</td>\n",
       "      <td>peggy slid origin mess peggy fowl peggy fowl p...</td>\n",
       "    </tr>\n",
       "    <tr>\n",
       "      <th>5333</th>\n",
       "      <td>2001-11-19 13:44:18</td>\n",
       "      <td>Here s the information. -----Original Message-...</td>\n",
       "      <td>rod.hayslett@enron.com tracy.geaccone@enron.co...</td>\n",
       "      <td>inform origin mess tayl liz sent monday novemb...</td>\n",
       "    </tr>\n",
       "    <tr>\n",
       "      <th>6583</th>\n",
       "      <td>2002-01-18 05:00:48</td>\n",
       "      <td>I would like to know where and how this is goi...</td>\n",
       "      <td>rich.jolly@enron.com controllers.dl-ets@enron....</td>\n",
       "      <td>would lik know going affect us paramet kim kno...</td>\n",
       "    </tr>\n",
       "    <tr>\n",
       "      <th>7460</th>\n",
       "      <td>2001-11-12 16:43:31</td>\n",
       "      <td>Richard: Per Elliot s e-mail below, do you hav...</td>\n",
       "      <td>jeff.dasovich@enron.com richard.ring@enron.com...</td>\n",
       "      <td>richard per elliot e mail access list ex ee cu...</td>\n",
       "    </tr>\n",
       "    <tr>\n",
       "      <th>7491</th>\n",
       "      <td>2001-11-05 09:56:44</td>\n",
       "      <td>Note also that NARUC s annual conference is in...</td>\n",
       "      <td>jeff.dasovich@enron.com james.d.steffes@enron....</td>\n",
       "      <td>not also naruc an conf philadelph begin week n...</td>\n",
       "    </tr>\n",
       "    <tr>\n",
       "      <th>18171</th>\n",
       "      <td>2001-11-15 06:40:33</td>\n",
       "      <td>Brent is moving a gas line in his house this m...</td>\n",
       "      <td>tana.jones@enron.com sara.shackleton@enron.com...</td>\n",
       "      <td>brent mov gas lin hous morn soon</td>\n",
       "    </tr>\n",
       "    <tr>\n",
       "      <th>18173</th>\n",
       "      <td>2001-11-14 08:24:49</td>\n",
       "      <td>Good Morning!I just received a call from Chery...</td>\n",
       "      <td>cheryl.nelson@enron.com mary.cook@enron.com st...</td>\n",
       "      <td>good morn receiv cal cheryl abl get flight tra...</td>\n",
       "    </tr>\n",
       "    <tr>\n",
       "      <th>18363</th>\n",
       "      <td>2001-12-15 11:14:12</td>\n",
       "      <td>QE2</td>\n",
       "      <td>holly.keiser@enron.com sara.shackleton@enron.c...</td>\n",
       "      <td>qe</td>\n",
       "    </tr>\n",
       "    <tr>\n",
       "      <th>18847</th>\n",
       "      <td>2001-11-16 07:34:52</td>\n",
       "      <td>ATTORNEY CLIENT COMMUNICATIONATTORNEY WORK PRO...</td>\n",
       "      <td>tana.jones@enron.com taylor@enron.com bob.shul...</td>\n",
       "      <td>attorney cli communicationattorney work produc...</td>\n",
       "    </tr>\n",
       "    <tr>\n",
       "      <th>18851</th>\n",
       "      <td>2001-11-15 10:35:01</td>\n",
       "      <td>Rick Hammett has confirmed that there were no ...</td>\n",
       "      <td>james.d.steffes@enron.com james.derrick@enron....</td>\n",
       "      <td>rick hammet confirm respons email ask list sent</td>\n",
       "    </tr>\n",
       "    <tr>\n",
       "      <th>18854</th>\n",
       "      <td>2001-11-15 09:24:06</td>\n",
       "      <td>To All -Below is a lined version of the ICE co...</td>\n",
       "      <td>tana.jones@enron.com taylor@enron.com stephani...</td>\n",
       "      <td>lin vert ic contract mark reflect gen com subm...</td>\n",
       "    </tr>\n",
       "    <tr>\n",
       "      <th>18866</th>\n",
       "      <td>2001-11-14 12:24:02</td>\n",
       "      <td>Brent -FYIMark -----Original Message-----From:...</td>\n",
       "      <td>tana.jones@enron.com taylor@enron.com brent.he...</td>\n",
       "      <td>brent fyimark origin mess harrison sus sent tu...</td>\n",
       "    </tr>\n",
       "    <tr>\n",
       "      <th>18870</th>\n",
       "      <td>2001-11-12 13:15:06</td>\n",
       "      <td>Mark\\tAll work on the application for a power ...</td>\n",
       "      <td>elizabeth.sager@enron.com tana.jones@enron.com...</td>\n",
       "      <td>mark work apply pow market cert stop ask chang...</td>\n",
       "    </tr>\n",
       "    <tr>\n",
       "      <th>19218</th>\n",
       "      <td>2001-11-27 17:20:20</td>\n",
       "      <td>I think there is a real possibility here.  It ...</td>\n",
       "      <td>marie.heard@enron.com n..gray@enron.com sara.s...</td>\n",
       "      <td>think real poss would extrem challeng commerc ...</td>\n",
       "    </tr>\n",
       "    <tr>\n",
       "      <th>19220</th>\n",
       "      <td>2001-11-27 11:37:26</td>\n",
       "      <td>There have been some ongoing disputes with AEP...</td>\n",
       "      <td>holly.keiser@enron.com c..koehler@enron.com sa...</td>\n",
       "      <td>ongo disput aep think look coop ful check eliz...</td>\n",
       "    </tr>\n",
       "    <tr>\n",
       "      <th>19222</th>\n",
       "      <td>2001-11-27 07:36:15</td>\n",
       "      <td>Yet another idea:A flashlight that has a magne...</td>\n",
       "      <td>chris.long@enron.com holly.keiser@enron.com ca...</td>\n",
       "      <td>yet anoth ide flashlight magnet sid kind clamp...</td>\n",
       "    </tr>\n",
       "    <tr>\n",
       "      <th>19228</th>\n",
       "      <td>2001-11-20 15:55:17</td>\n",
       "      <td>No gifts, thank you -- just a social hour.</td>\n",
       "      <td>holly.keiser@enron.com sara.shackleton@enron.c...</td>\n",
       "      <td>gift thank soc hour</td>\n",
       "    </tr>\n",
       "    <tr>\n",
       "      <th>19237</th>\n",
       "      <td>2001-11-14 08:22:32</td>\n",
       "      <td>Sorry about that.  I have been a bit preoccupi...</td>\n",
       "      <td>sara.shackleton@enron.com holly.keiser@enron.c...</td>\n",
       "      <td>sorry bit preoccupy put car would rememb tak c...</td>\n",
       "    </tr>\n",
       "    <tr>\n",
       "      <th>19245</th>\n",
       "      <td>2001-11-09 10:02:50</td>\n",
       "      <td>Net Works is not a marketing affiliate.  We ca...</td>\n",
       "      <td>holly.keiser@enron.com sara.shackleton@enron.c...</td>\n",
       "      <td>net work market affy mak chang want us</td>\n",
       "    </tr>\n",
       "    <tr>\n",
       "      <th>19250</th>\n",
       "      <td>2001-11-09 07:10:46</td>\n",
       "      <td>Thanks for the offer.  At this moment, looks l...</td>\n",
       "      <td>holly.keiser@enron.com sara.shackleton@enron.c...</td>\n",
       "      <td>thank off mom look lik going mak much less ton...</td>\n",
       "    </tr>\n",
       "    <tr>\n",
       "      <th>19254</th>\n",
       "      <td>2001-11-08 11:55:18</td>\n",
       "      <td>Thanks David -- I appreciate that.  I m thinki...</td>\n",
       "      <td>holly.keiser@enron.com sara.shackleton@enron.c...</td>\n",
       "      <td>thank david apprecy think calm tak coupl day c...</td>\n",
       "    </tr>\n",
       "    <tr>\n",
       "      <th>19264</th>\n",
       "      <td>2001-11-06 11:56:22</td>\n",
       "      <td>You can confirm that it is not regulated and s...</td>\n",
       "      <td>holly.keiser@enron.com sara.shackleton@enron.c...</td>\n",
       "      <td>confirm reg send cop cert incorp deb korkma tan</td>\n",
       "    </tr>\n",
       "    <tr>\n",
       "      <th>19281</th>\n",
       "      <td>2001-11-05 07:57:11</td>\n",
       "      <td>-----Original Message-----From: \\tTaylor, Mar...</td>\n",
       "      <td>holly.keiser@enron.com chris.long@enron.com ca...</td>\n",
       "      <td>origin mess tayl mark e leg sent monday novemb...</td>\n",
       "    </tr>\n",
       "    <tr>\n",
       "      <th>19286</th>\n",
       "      <td>2001-11-02 11:44:43</td>\n",
       "      <td>-----Original Message-----From: \\tVan Hooser,...</td>\n",
       "      <td>marie.heard@enron.com holly.keiser@enron.com s...</td>\n",
       "      <td>origin mess van hoos stev sent friday novemb a...</td>\n",
       "    </tr>\n",
       "    <tr>\n",
       "      <th>...</th>\n",
       "      <td>...</td>\n",
       "      <td>...</td>\n",
       "      <td>...</td>\n",
       "      <td>...</td>\n",
       "    </tr>\n",
       "    <tr>\n",
       "      <th>394431</th>\n",
       "      <td>2001-11-29 13:58:51</td>\n",
       "      <td>The following expense report is ready for appr...</td>\n",
       "      <td>richard.shapiro@enron.com jeff.skilling@enron....</td>\n",
       "      <td>follow expens report ready approv employ nam m...</td>\n",
       "    </tr>\n",
       "    <tr>\n",
       "      <th>397831</th>\n",
       "      <td>2002-01-07 16:09:43</td>\n",
       "      <td>X-FileName: kam keiser 7-11-02.PSTHi Kam,Per y...</td>\n",
       "      <td>tana.jones@enron.com stacey.richardson@enron.c...</td>\n",
       "      <td>x filenam kam keis psthi kam per request book ...</td>\n",
       "    </tr>\n",
       "    <tr>\n",
       "      <th>397835</th>\n",
       "      <td>2002-01-08 09:08:00</td>\n",
       "      <td>X-FileName: kam keiser 7-11-02.PSTHi Kam,The a...</td>\n",
       "      <td>stacey.richardson@enron.com bernice.rodriguez@...</td>\n",
       "      <td>x filenam kam keis psthi kam addit book cre pe...</td>\n",
       "    </tr>\n",
       "    <tr>\n",
       "      <th>397887</th>\n",
       "      <td>2002-01-14 07:03:15</td>\n",
       "      <td>X-FileName: kam keiser 7-11-02.PSTIt looks lik...</td>\n",
       "      <td>sally.beck@enron.com patti.thompson@enron.com ...</td>\n",
       "      <td>x filenam kam keis pstit look lik quit gas boo...</td>\n",
       "    </tr>\n",
       "    <tr>\n",
       "      <th>397982</th>\n",
       "      <td>2002-01-24 08:00:39</td>\n",
       "      <td>X-FileName: kam keiser 7-11-02.PSTWhen: Thursd...</td>\n",
       "      <td>sally.beck@enron.com james.new@enron.com mike....</td>\n",
       "      <td>x filenam kam keis pstwhen thursday janu pm pm...</td>\n",
       "    </tr>\n",
       "    <tr>\n",
       "      <th>398080</th>\n",
       "      <td>2002-01-30 11:22:14</td>\n",
       "      <td>X-FileName: kam keiser 7-11-02.PSTLooks like w...</td>\n",
       "      <td>bruce.mills@enron.com sladana-anna.kulic@enron...</td>\n",
       "      <td>x filenam kam keis pstlooks lik also nee mod o...</td>\n",
       "    </tr>\n",
       "    <tr>\n",
       "      <th>398120</th>\n",
       "      <td>2002-01-31 13:59:35</td>\n",
       "      <td>X-FileName: kam keiser 7-11-02.PSTHere is an u...</td>\n",
       "      <td>sally.beck@enron.com mike.jordan@enron.com cas...</td>\n",
       "      <td>x filenam kam keis psthere upd vert templ easy...</td>\n",
       "    </tr>\n",
       "    <tr>\n",
       "      <th>398129</th>\n",
       "      <td>2002-02-01 09:49:18</td>\n",
       "      <td>X-FileName: kam keiser 7-11-02.PSTHere is the ...</td>\n",
       "      <td>sally.beck@enron.com stacey.w.white@enron.com ...</td>\n",
       "      <td>x filenam kam keis psthere stat form stil miss...</td>\n",
       "    </tr>\n",
       "    <tr>\n",
       "      <th>398136</th>\n",
       "      <td>2002-02-01 12:00:41</td>\n",
       "      <td>X-FileName: kam keiser 7-11-02.PSTPlease plan ...</td>\n",
       "      <td>sally.beck@enron.com no.address@enron.com blan...</td>\n",
       "      <td>x filenam kam keis pstplease plan attend best ...</td>\n",
       "    </tr>\n",
       "    <tr>\n",
       "      <th>398182</th>\n",
       "      <td>2002-02-05 15:03:00</td>\n",
       "      <td>X-FileName: kam keiser 7-11-02.PSTHere is the ...</td>\n",
       "      <td>sally.beck@enron.com stacey.w.white@enron.com ...</td>\n",
       "      <td>x filenam kam keis psthere stat form without i...</td>\n",
       "    </tr>\n",
       "    <tr>\n",
       "      <th>398254</th>\n",
       "      <td>2001-11-02 07:57:50</td>\n",
       "      <td>------------From:\\t\"Gina Pelham\" &lt;g.pelham@wor...</td>\n",
       "      <td>greg.whalley@enron.com kenneth.lay@enron.com s...</td>\n",
       "      <td>gin pelham g pelham worldnet at net enrons wed...</td>\n",
       "    </tr>\n",
       "    <tr>\n",
       "      <th>401709</th>\n",
       "      <td>2002-01-14 21:09:40</td>\n",
       "      <td>X-FileName: RTO West is working on a March 1, ...</td>\n",
       "      <td>jeff.dasovich@enron.com susan.mara@enron.com t...</td>\n",
       "      <td>x filenam rto west work march stag ferc fil re...</td>\n",
       "    </tr>\n",
       "    <tr>\n",
       "      <th>401854</th>\n",
       "      <td>2001-11-07 19:30:54</td>\n",
       "      <td>X-FileName: I would like to get it to someone ...</td>\n",
       "      <td>jeff.dasovich@enron.com tim.belden@enron.com s...</td>\n",
       "      <td>x filenam would lik get someon ferc thursday</td>\n",
       "    </tr>\n",
       "    <tr>\n",
       "      <th>401900</th>\n",
       "      <td>2001-12-13 15:15:07</td>\n",
       "      <td>X-FileName: I am told that ISO disbursed to pa...</td>\n",
       "      <td>jeff.dasovich@enron.com susan.mara@enron.com t...</td>\n",
       "      <td>x filenam told iso disburs particip cer mony r...</td>\n",
       "    </tr>\n",
       "    <tr>\n",
       "      <th>402047</th>\n",
       "      <td>2002-01-10 19:40:56</td>\n",
       "      <td>X-FileName: Hi Ryan,Julie filled me in on your...</td>\n",
       "      <td>portland.desk@enron.com desk.portland@enron.co...</td>\n",
       "      <td>x filenam hi ryan july fil quest regard bal sp...</td>\n",
       "    </tr>\n",
       "    <tr>\n",
       "      <th>402061</th>\n",
       "      <td>2002-02-06 14:51:43</td>\n",
       "      <td>X-FileName: IMPORTANT - THE IDS BELOW WILL BE ...</td>\n",
       "      <td>tana.jones@enron.com casey.evans@enron.com tom...</td>\n",
       "      <td>x filenam import id perm access productionyo p...</td>\n",
       "    </tr>\n",
       "    <tr>\n",
       "      <th>402135</th>\n",
       "      <td>2001-11-19 13:49:51</td>\n",
       "      <td>X-FileName: We currently have $21.4 million in...</td>\n",
       "      <td>jeff.richter@enron.com louise.kitchen@enron.co...</td>\n",
       "      <td>x filenam cur mil reserv pot northwest refund ...</td>\n",
       "    </tr>\n",
       "    <tr>\n",
       "      <th>402233</th>\n",
       "      <td>2001-11-08 19:13:45</td>\n",
       "      <td>X-FileName:  Dynegy-Enron Deal Faces Significa...</td>\n",
       "      <td>susan.mara@enron.com jeff.dasovich@enron.com t...</td>\n",
       "      <td>x filenam dynegy enron deal fac sign reg revie...</td>\n",
       "    </tr>\n",
       "    <tr>\n",
       "      <th>402288</th>\n",
       "      <td>2001-12-13 13:16:02</td>\n",
       "      <td>X-FileName: In addition to the summary below, ...</td>\n",
       "      <td>jeff.dasovich@enron.com susan.mara@enron.com t...</td>\n",
       "      <td>x filenam addit sum agend west wid cap cas age...</td>\n",
       "    </tr>\n",
       "    <tr>\n",
       "      <th>402317</th>\n",
       "      <td>2002-01-03 20:32:04</td>\n",
       "      <td>X-FileName: Funny, but it won t get picked up ...</td>\n",
       "      <td>jeff.dasovich@enron.com tim.belden@enron.com s...</td>\n",
       "      <td>x filenam funny get pick jay leno</td>\n",
       "    </tr>\n",
       "    <tr>\n",
       "      <th>402393</th>\n",
       "      <td>2002-02-05 20:52:05</td>\n",
       "      <td>X-FileName: The new meeting Louise Kitchen ref...</td>\n",
       "      <td>tammie.schoppe@enron.com lauren.urquhart@enron...</td>\n",
       "      <td>x filenam new meet lou kitch ref email com thu...</td>\n",
       "    </tr>\n",
       "    <tr>\n",
       "      <th>402417</th>\n",
       "      <td>2002-01-14 18:51:06</td>\n",
       "      <td>X-FileName: Attached is the Termination List f...</td>\n",
       "      <td>sara.shackleton@enron.com mary.cook@enron.com ...</td>\n",
       "      <td>x filenam attach termin list janu wel mast ter...</td>\n",
       "    </tr>\n",
       "    <tr>\n",
       "      <th>402419</th>\n",
       "      <td>2002-01-16 13:23:45</td>\n",
       "      <td>X-FileName: fyi from the bankruptcy attorney.-...</td>\n",
       "      <td>james.d.steffes@enron.com sarah.novosel@enron....</td>\n",
       "      <td>x filenam fyi bankruptcy attorney origin mess ...</td>\n",
       "    </tr>\n",
       "    <tr>\n",
       "      <th>402427</th>\n",
       "      <td>2002-01-18 18:40:17</td>\n",
       "      <td>X-FileName: Attached is the Daily Termination ...</td>\n",
       "      <td>sandforchuckie@aol.com twise@gasbiz.com sara.s...</td>\n",
       "      <td>x filenam attach dai termin list janu mast ter...</td>\n",
       "    </tr>\n",
       "    <tr>\n",
       "      <th>402848</th>\n",
       "      <td>2002-01-04 18:49:03</td>\n",
       "      <td>X-FileName: The following name overlays were c...</td>\n",
       "      <td>don.baughman@enron.com m..forney@enron.com gen...</td>\n",
       "      <td>x filenam follow nam overlay complet gcp today...</td>\n",
       "    </tr>\n",
       "    <tr>\n",
       "      <th>402855</th>\n",
       "      <td>2001-12-17 15:26:18</td>\n",
       "      <td>X-FileName: My old cell phone has been retired...</td>\n",
       "      <td>center.dl-portland@enron.com louise.kitchen@en...</td>\n",
       "      <td>x filenam old cel phon retir new numb</td>\n",
       "    </tr>\n",
       "    <tr>\n",
       "      <th>402856</th>\n",
       "      <td>2001-12-19 20:58:18</td>\n",
       "      <td>X-FileName: Confidential:  For Internal Distri...</td>\n",
       "      <td>jeff.richter@enron.com sean.crandall@enron.com...</td>\n",
       "      <td>x filenam confid intern distribut onlyth purpo...</td>\n",
       "    </tr>\n",
       "    <tr>\n",
       "      <th>402857</th>\n",
       "      <td>2001-12-28 17:03:22</td>\n",
       "      <td>X-FileName: Please plan on attending a meeting...</td>\n",
       "      <td>jeff.richter@enron.com holden.salisbury@enron....</td>\n",
       "      <td>x filenam pleas plan attend meet wednesday jan...</td>\n",
       "    </tr>\n",
       "    <tr>\n",
       "      <th>404890</th>\n",
       "      <td>2001-11-12 11:30:49</td>\n",
       "      <td>X-FileName: Chris Calger and I will be holding...</td>\n",
       "      <td>jeff.richter@enron.com tom.alonso@enron.com ma...</td>\n",
       "      <td>x filenam chris calg hold sery meet employ tod...</td>\n",
       "    </tr>\n",
       "    <tr>\n",
       "      <th>404929</th>\n",
       "      <td>2002-02-06 20:09:37</td>\n",
       "      <td>X-FileName:      There will be two presentatio...</td>\n",
       "      <td>bnimocks@zeusdevelopment.com connie.blackwood@...</td>\n",
       "      <td>x filenam two pres tomorrow ub com p cst held ...</td>\n",
       "    </tr>\n",
       "  </tbody>\n",
       "</table>\n",
       "<p>2362 rows × 4 columns</p>\n",
       "</div>"
      ],
      "text/plain": [
       "                       date  \\\n",
       "mid                           \n",
       "1577    2001-11-19 06:59:51   \n",
       "1750    2002-03-05 08:46:57   \n",
       "1916    2002-02-13 14:17:39   \n",
       "2094    2002-01-22 11:33:56   \n",
       "2205    2002-01-11 07:12:19   \n",
       "2297    2002-01-11 14:37:19   \n",
       "5300    2001-11-26 14:13:01   \n",
       "5333    2001-11-19 13:44:18   \n",
       "6583    2002-01-18 05:00:48   \n",
       "7460    2001-11-12 16:43:31   \n",
       "7491    2001-11-05 09:56:44   \n",
       "18171   2001-11-15 06:40:33   \n",
       "18173   2001-11-14 08:24:49   \n",
       "18363   2001-12-15 11:14:12   \n",
       "18847   2001-11-16 07:34:52   \n",
       "18851   2001-11-15 10:35:01   \n",
       "18854   2001-11-15 09:24:06   \n",
       "18866   2001-11-14 12:24:02   \n",
       "18870   2001-11-12 13:15:06   \n",
       "19218   2001-11-27 17:20:20   \n",
       "19220   2001-11-27 11:37:26   \n",
       "19222   2001-11-27 07:36:15   \n",
       "19228   2001-11-20 15:55:17   \n",
       "19237   2001-11-14 08:22:32   \n",
       "19245   2001-11-09 10:02:50   \n",
       "19250   2001-11-09 07:10:46   \n",
       "19254   2001-11-08 11:55:18   \n",
       "19264   2001-11-06 11:56:22   \n",
       "19281   2001-11-05 07:57:11   \n",
       "19286   2001-11-02 11:44:43   \n",
       "...                     ...   \n",
       "394431  2001-11-29 13:58:51   \n",
       "397831  2002-01-07 16:09:43   \n",
       "397835  2002-01-08 09:08:00   \n",
       "397887  2002-01-14 07:03:15   \n",
       "397982  2002-01-24 08:00:39   \n",
       "398080  2002-01-30 11:22:14   \n",
       "398120  2002-01-31 13:59:35   \n",
       "398129  2002-02-01 09:49:18   \n",
       "398136  2002-02-01 12:00:41   \n",
       "398182  2002-02-05 15:03:00   \n",
       "398254  2001-11-02 07:57:50   \n",
       "401709  2002-01-14 21:09:40   \n",
       "401854  2001-11-07 19:30:54   \n",
       "401900  2001-12-13 15:15:07   \n",
       "402047  2002-01-10 19:40:56   \n",
       "402061  2002-02-06 14:51:43   \n",
       "402135  2001-11-19 13:49:51   \n",
       "402233  2001-11-08 19:13:45   \n",
       "402288  2001-12-13 13:16:02   \n",
       "402317  2002-01-03 20:32:04   \n",
       "402393  2002-02-05 20:52:05   \n",
       "402417  2002-01-14 18:51:06   \n",
       "402419  2002-01-16 13:23:45   \n",
       "402427  2002-01-18 18:40:17   \n",
       "402848  2002-01-04 18:49:03   \n",
       "402855  2001-12-17 15:26:18   \n",
       "402856  2001-12-19 20:58:18   \n",
       "402857  2001-12-28 17:03:22   \n",
       "404890  2001-11-12 11:30:49   \n",
       "404929  2002-02-06 20:09:37   \n",
       "\n",
       "                                                     body  \\\n",
       "mid                                                         \n",
       "1577    Note:  Stocks of heating oil are very high for...   \n",
       "1750    Kevin Hyatt and I are going for \"sghetti\" at S...   \n",
       "1916    This was forwarded to me and it is funny. - Wi...   \n",
       "2094    I will be in to and happy to assist too.  I ma...   \n",
       "2205                  Thanks. I needed a morning chuckle.   \n",
       "2297    Note:  Westpath Expansion plans filed at NEBTr...   \n",
       "5300    Here are Peggy s slides. -----Original Message...   \n",
       "5333    Here s the information. -----Original Message-...   \n",
       "6583    I would like to know where and how this is goi...   \n",
       "7460    Richard: Per Elliot s e-mail below, do you hav...   \n",
       "7491    Note also that NARUC s annual conference is in...   \n",
       "18171   Brent is moving a gas line in his house this m...   \n",
       "18173   Good Morning!I just received a call from Chery...   \n",
       "18363                                                 QE2   \n",
       "18847   ATTORNEY CLIENT COMMUNICATIONATTORNEY WORK PRO...   \n",
       "18851   Rick Hammett has confirmed that there were no ...   \n",
       "18854   To All -Below is a lined version of the ICE co...   \n",
       "18866   Brent -FYIMark -----Original Message-----From:...   \n",
       "18870   Mark\\tAll work on the application for a power ...   \n",
       "19218   I think there is a real possibility here.  It ...   \n",
       "19220   There have been some ongoing disputes with AEP...   \n",
       "19222   Yet another idea:A flashlight that has a magne...   \n",
       "19228         No gifts, thank you -- just a social hour.    \n",
       "19237   Sorry about that.  I have been a bit preoccupi...   \n",
       "19245   Net Works is not a marketing affiliate.  We ca...   \n",
       "19250   Thanks for the offer.  At this moment, looks l...   \n",
       "19254   Thanks David -- I appreciate that.  I m thinki...   \n",
       "19264   You can confirm that it is not regulated and s...   \n",
       "19281    -----Original Message-----From: \\tTaylor, Mar...   \n",
       "19286    -----Original Message-----From: \\tVan Hooser,...   \n",
       "...                                                   ...   \n",
       "394431  The following expense report is ready for appr...   \n",
       "397831  X-FileName: kam keiser 7-11-02.PSTHi Kam,Per y...   \n",
       "397835  X-FileName: kam keiser 7-11-02.PSTHi Kam,The a...   \n",
       "397887  X-FileName: kam keiser 7-11-02.PSTIt looks lik...   \n",
       "397982  X-FileName: kam keiser 7-11-02.PSTWhen: Thursd...   \n",
       "398080  X-FileName: kam keiser 7-11-02.PSTLooks like w...   \n",
       "398120  X-FileName: kam keiser 7-11-02.PSTHere is an u...   \n",
       "398129  X-FileName: kam keiser 7-11-02.PSTHere is the ...   \n",
       "398136  X-FileName: kam keiser 7-11-02.PSTPlease plan ...   \n",
       "398182  X-FileName: kam keiser 7-11-02.PSTHere is the ...   \n",
       "398254  ------------From:\\t\"Gina Pelham\" <g.pelham@wor...   \n",
       "401709  X-FileName: RTO West is working on a March 1, ...   \n",
       "401854  X-FileName: I would like to get it to someone ...   \n",
       "401900  X-FileName: I am told that ISO disbursed to pa...   \n",
       "402047  X-FileName: Hi Ryan,Julie filled me in on your...   \n",
       "402061  X-FileName: IMPORTANT - THE IDS BELOW WILL BE ...   \n",
       "402135  X-FileName: We currently have $21.4 million in...   \n",
       "402233  X-FileName:  Dynegy-Enron Deal Faces Significa...   \n",
       "402288  X-FileName: In addition to the summary below, ...   \n",
       "402317  X-FileName: Funny, but it won t get picked up ...   \n",
       "402393  X-FileName: The new meeting Louise Kitchen ref...   \n",
       "402417  X-FileName: Attached is the Termination List f...   \n",
       "402419  X-FileName: fyi from the bankruptcy attorney.-...   \n",
       "402427  X-FileName: Attached is the Daily Termination ...   \n",
       "402848  X-FileName: The following name overlays were c...   \n",
       "402855  X-FileName: My old cell phone has been retired...   \n",
       "402856  X-FileName: Confidential:  For Internal Distri...   \n",
       "402857  X-FileName: Please plan on attending a meeting...   \n",
       "404890  X-FileName: Chris Calger and I will be holding...   \n",
       "404929  X-FileName:      There will be two presentatio...   \n",
       "\n",
       "                                               recipients  \\\n",
       "mid                                                         \n",
       "1577    kevin.hyatt@enron.com lindy.donoho@enron.com m...   \n",
       "1750    no.address@enron.com michelle.lokay@enron.com ...   \n",
       "1916    no.address@enron.com michelle.lokay@enron.com ...   \n",
       "2094    no.address@enron.com louise.kitchen@enron.com ...   \n",
       "2205    no.address@enron.com danny.mccarty@enron.com t...   \n",
       "2297    kevin.hyatt@enron.com lorraine.lindberg@enron....   \n",
       "5300    peggy.fowler@enron.com aaron.brown@enron.com m...   \n",
       "5333    rod.hayslett@enron.com tracy.geaccone@enron.co...   \n",
       "6583    rich.jolly@enron.com controllers.dl-ets@enron....   \n",
       "7460    jeff.dasovich@enron.com richard.ring@enron.com...   \n",
       "7491    jeff.dasovich@enron.com james.d.steffes@enron....   \n",
       "18171   tana.jones@enron.com sara.shackleton@enron.com...   \n",
       "18173   cheryl.nelson@enron.com mary.cook@enron.com st...   \n",
       "18363   holly.keiser@enron.com sara.shackleton@enron.c...   \n",
       "18847   tana.jones@enron.com taylor@enron.com bob.shul...   \n",
       "18851   james.d.steffes@enron.com james.derrick@enron....   \n",
       "18854   tana.jones@enron.com taylor@enron.com stephani...   \n",
       "18866   tana.jones@enron.com taylor@enron.com brent.he...   \n",
       "18870   elizabeth.sager@enron.com tana.jones@enron.com...   \n",
       "19218   marie.heard@enron.com n..gray@enron.com sara.s...   \n",
       "19220   holly.keiser@enron.com c..koehler@enron.com sa...   \n",
       "19222   chris.long@enron.com holly.keiser@enron.com ca...   \n",
       "19228   holly.keiser@enron.com sara.shackleton@enron.c...   \n",
       "19237   sara.shackleton@enron.com holly.keiser@enron.c...   \n",
       "19245   holly.keiser@enron.com sara.shackleton@enron.c...   \n",
       "19250   holly.keiser@enron.com sara.shackleton@enron.c...   \n",
       "19254   holly.keiser@enron.com sara.shackleton@enron.c...   \n",
       "19264   holly.keiser@enron.com sara.shackleton@enron.c...   \n",
       "19281   holly.keiser@enron.com chris.long@enron.com ca...   \n",
       "19286   marie.heard@enron.com holly.keiser@enron.com s...   \n",
       "...                                                   ...   \n",
       "394431  richard.shapiro@enron.com jeff.skilling@enron....   \n",
       "397831  tana.jones@enron.com stacey.richardson@enron.c...   \n",
       "397835  stacey.richardson@enron.com bernice.rodriguez@...   \n",
       "397887  sally.beck@enron.com patti.thompson@enron.com ...   \n",
       "397982  sally.beck@enron.com james.new@enron.com mike....   \n",
       "398080  bruce.mills@enron.com sladana-anna.kulic@enron...   \n",
       "398120  sally.beck@enron.com mike.jordan@enron.com cas...   \n",
       "398129  sally.beck@enron.com stacey.w.white@enron.com ...   \n",
       "398136  sally.beck@enron.com no.address@enron.com blan...   \n",
       "398182  sally.beck@enron.com stacey.w.white@enron.com ...   \n",
       "398254  greg.whalley@enron.com kenneth.lay@enron.com s...   \n",
       "401709  jeff.dasovich@enron.com susan.mara@enron.com t...   \n",
       "401854  jeff.dasovich@enron.com tim.belden@enron.com s...   \n",
       "401900  jeff.dasovich@enron.com susan.mara@enron.com t...   \n",
       "402047  portland.desk@enron.com desk.portland@enron.co...   \n",
       "402061  tana.jones@enron.com casey.evans@enron.com tom...   \n",
       "402135  jeff.richter@enron.com louise.kitchen@enron.co...   \n",
       "402233  susan.mara@enron.com jeff.dasovich@enron.com t...   \n",
       "402288  jeff.dasovich@enron.com susan.mara@enron.com t...   \n",
       "402317  jeff.dasovich@enron.com tim.belden@enron.com s...   \n",
       "402393  tammie.schoppe@enron.com lauren.urquhart@enron...   \n",
       "402417  sara.shackleton@enron.com mary.cook@enron.com ...   \n",
       "402419  james.d.steffes@enron.com sarah.novosel@enron....   \n",
       "402427  sandforchuckie@aol.com twise@gasbiz.com sara.s...   \n",
       "402848  don.baughman@enron.com m..forney@enron.com gen...   \n",
       "402855  center.dl-portland@enron.com louise.kitchen@en...   \n",
       "402856  jeff.richter@enron.com sean.crandall@enron.com...   \n",
       "402857  jeff.richter@enron.com holden.salisbury@enron....   \n",
       "404890  jeff.richter@enron.com tom.alonso@enron.com ma...   \n",
       "404929  bnimocks@zeusdevelopment.com connie.blackwood@...   \n",
       "\n",
       "                                               clean_body  \n",
       "mid                                                        \n",
       "1577    not stock heat oil high wint affect northeast ...  \n",
       "1750    kevin hyat going sghetti spaghett wareh today ...  \n",
       "1916        forward funny witc enron voic mail system htm  \n",
       "2094       happy assist may gon febru th trip confirm yet  \n",
       "2205                                thank nee morn chuckl  \n",
       "2297    not westpa expand plan fil nebtranscanad plan ...  \n",
       "5300    peggy slid origin mess peggy fowl peggy fowl p...  \n",
       "5333    inform origin mess tayl liz sent monday novemb...  \n",
       "6583    would lik know going affect us paramet kim kno...  \n",
       "7460    richard per elliot e mail access list ex ee cu...  \n",
       "7491    not also naruc an conf philadelph begin week n...  \n",
       "18171                    brent mov gas lin hous morn soon  \n",
       "18173   good morn receiv cal cheryl abl get flight tra...  \n",
       "18363                                                  qe  \n",
       "18847   attorney cli communicationattorney work produc...  \n",
       "18851     rick hammet confirm respons email ask list sent  \n",
       "18854   lin vert ic contract mark reflect gen com subm...  \n",
       "18866   brent fyimark origin mess harrison sus sent tu...  \n",
       "18870   mark work apply pow market cert stop ask chang...  \n",
       "19218   think real poss would extrem challeng commerc ...  \n",
       "19220   ongo disput aep think look coop ful check eliz...  \n",
       "19222   yet anoth ide flashlight magnet sid kind clamp...  \n",
       "19228                                 gift thank soc hour  \n",
       "19237   sorry bit preoccupy put car would rememb tak c...  \n",
       "19245              net work market affy mak chang want us  \n",
       "19250   thank off mom look lik going mak much less ton...  \n",
       "19254   thank david apprecy think calm tak coupl day c...  \n",
       "19264     confirm reg send cop cert incorp deb korkma tan  \n",
       "19281   origin mess tayl mark e leg sent monday novemb...  \n",
       "19286   origin mess van hoos stev sent friday novemb a...  \n",
       "...                                                   ...  \n",
       "394431  follow expens report ready approv employ nam m...  \n",
       "397831  x filenam kam keis psthi kam per request book ...  \n",
       "397835  x filenam kam keis psthi kam addit book cre pe...  \n",
       "397887  x filenam kam keis pstit look lik quit gas boo...  \n",
       "397982  x filenam kam keis pstwhen thursday janu pm pm...  \n",
       "398080  x filenam kam keis pstlooks lik also nee mod o...  \n",
       "398120  x filenam kam keis psthere upd vert templ easy...  \n",
       "398129  x filenam kam keis psthere stat form stil miss...  \n",
       "398136  x filenam kam keis pstplease plan attend best ...  \n",
       "398182  x filenam kam keis psthere stat form without i...  \n",
       "398254  gin pelham g pelham worldnet at net enrons wed...  \n",
       "401709  x filenam rto west work march stag ferc fil re...  \n",
       "401854       x filenam would lik get someon ferc thursday  \n",
       "401900  x filenam told iso disburs particip cer mony r...  \n",
       "402047  x filenam hi ryan july fil quest regard bal sp...  \n",
       "402061  x filenam import id perm access productionyo p...  \n",
       "402135  x filenam cur mil reserv pot northwest refund ...  \n",
       "402233  x filenam dynegy enron deal fac sign reg revie...  \n",
       "402288  x filenam addit sum agend west wid cap cas age...  \n",
       "402317                  x filenam funny get pick jay leno  \n",
       "402393  x filenam new meet lou kitch ref email com thu...  \n",
       "402417  x filenam attach termin list janu wel mast ter...  \n",
       "402419  x filenam fyi bankruptcy attorney origin mess ...  \n",
       "402427  x filenam attach dai termin list janu mast ter...  \n",
       "402848  x filenam follow nam overlay complet gcp today...  \n",
       "402855              x filenam old cel phon retir new numb  \n",
       "402856  x filenam confid intern distribut onlyth purpo...  \n",
       "402857  x filenam pleas plan attend meet wednesday jan...  \n",
       "404890  x filenam chris calg hold sery meet employ tod...  \n",
       "404929  x filenam two pres tomorrow ub com p cst held ...  \n",
       "\n",
       "[2362 rows x 4 columns]"
      ]
     },
     "execution_count": 20,
     "metadata": {},
     "output_type": "execute_result"
    }
   ],
   "source": [
    "df_submission"
   ]
  },
  {
   "cell_type": "code",
   "execution_count": null,
   "metadata": {
    "collapsed": true,
    "deletable": true,
    "editable": true
   },
   "outputs": [],
   "source": []
  }
 ],
 "metadata": {
  "kernelspec": {
   "display_name": "Python 3",
   "language": "python",
   "name": "python3"
  },
  "language_info": {
   "codemirror_mode": {
    "name": "ipython",
    "version": 3
   },
   "file_extension": ".py",
   "mimetype": "text/x-python",
   "name": "python",
   "nbconvert_exporter": "python",
   "pygments_lexer": "ipython3",
   "version": "3.5.2"
  },
  "widgets": {
   "state": {
    "1f68f512334f40cfbe9e72afde3a6d38": {
     "views": [
      {
       "cell_index": 35
      }
     ]
    },
    "4498ec7707814051bd3566e92d4f3a93": {
     "views": [
      {
       "cell_index": 23
      }
     ]
    },
    "8316917a14d040f08b4f7a88e53a0918": {
     "views": [
      {
       "cell_index": 29
      }
     ]
    },
    "8fd618a895c74d658b899a3cb7d75309": {
     "views": [
      {
       "cell_index": 33
      }
     ]
    },
    "9ec7bb7890ab45abbd211b9c58178522": {
     "views": [
      {
       "cell_index": 14
      }
     ]
    }
   },
   "version": "1.2.0"
  }
 },
 "nbformat": 4,
 "nbformat_minor": 2
}
