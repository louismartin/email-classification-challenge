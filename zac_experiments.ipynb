{
 "cells": [
  {
   "cell_type": "code",
   "execution_count": 21,
   "metadata": {
    "collapsed": false,
    "deletable": true,
    "editable": true
   },
   "outputs": [],
   "source": [
    "%matplotlib inline\n",
    "import matplotlib.pyplot as plt\n",
    "import numpy as np\n",
    "\n",
    "from tools.data_cleansing import remove_numbers_and_ponctuation, remove_stopwords, remove_non_english_words\n",
    "from tools.data_exploration import print_email_by_id, emails_sent_distribution, emails_received_distribution,\\\n",
    "body_length_distribution, number_of_recipients_distribution\n",
    "from tools.data_handling import enrich_emails, load_email_senders, unique_recipients, address_book\n",
    "from tools.evaluation import precision\n",
    "from tools.features import bag_of_words, bag_of_emails"
   ]
  },
  {
   "cell_type": "markdown",
   "metadata": {},
   "source": [
    "# Data loading and first look"
   ]
  },
  {
   "cell_type": "code",
   "execution_count": 2,
   "metadata": {
    "collapsed": false,
    "deletable": true,
    "editable": true
   },
   "outputs": [
    {
     "data": {
      "text/html": [
       "<div>\n",
       "<table border=\"1\" class=\"dataframe\">\n",
       "  <thead>\n",
       "    <tr style=\"text-align: right;\">\n",
       "      <th></th>\n",
       "      <th>date</th>\n",
       "      <th>body</th>\n",
       "      <th>recipients</th>\n",
       "      <th>sender</th>\n",
       "    </tr>\n",
       "    <tr>\n",
       "      <th>mid</th>\n",
       "      <th></th>\n",
       "      <th></th>\n",
       "      <th></th>\n",
       "      <th></th>\n",
       "    </tr>\n",
       "  </thead>\n",
       "  <tbody>\n",
       "    <tr>\n",
       "      <th>60</th>\n",
       "      <td>2000-07-25 08:14:00</td>\n",
       "      <td>Legal has been assessing the risks of doing bl...</td>\n",
       "      <td>robert.badeer@enron.com murray.o neil@enron.co...</td>\n",
       "      <td>christian.yoder@enron.com</td>\n",
       "    </tr>\n",
       "    <tr>\n",
       "      <th>66</th>\n",
       "      <td>2000-08-03 02:56:00</td>\n",
       "      <td>Attached is a spreadsheet to estimate export f...</td>\n",
       "      <td>kim.ward@enron.com robert.badeer@enron.com mur...</td>\n",
       "      <td>heather.dunton@enron.com</td>\n",
       "    </tr>\n",
       "    <tr>\n",
       "      <th>74</th>\n",
       "      <td>2000-08-15 05:37:00</td>\n",
       "      <td>Kevin/Bob: Here is a quick rundown on the cons...</td>\n",
       "      <td>robert.badeer@enron.com john.massey@enron.com ...</td>\n",
       "      <td>janel.guerrero@enron.com</td>\n",
       "    </tr>\n",
       "    <tr>\n",
       "      <th>80</th>\n",
       "      <td>2000-08-20 14:12:00</td>\n",
       "      <td>check this out and let everyone know what s up...</td>\n",
       "      <td>robert.badeer@enron.com jeff.richter@enron.com</td>\n",
       "      <td>tim.belden@enron.com</td>\n",
       "    </tr>\n",
       "    <tr>\n",
       "      <th>83</th>\n",
       "      <td>2000-08-22 08:17:00</td>\n",
       "      <td>Further to your letter to us (addressed to Mr....</td>\n",
       "      <td>pgillman@schiffhardin.com kamarlantes@calpx.co...</td>\n",
       "      <td>christian.yoder@enron.com</td>\n",
       "    </tr>\n",
       "  </tbody>\n",
       "</table>\n",
       "</div>"
      ],
      "text/plain": [
       "                    date                                               body  \\\n",
       "mid                                                                           \n",
       "60   2000-07-25 08:14:00  Legal has been assessing the risks of doing bl...   \n",
       "66   2000-08-03 02:56:00  Attached is a spreadsheet to estimate export f...   \n",
       "74   2000-08-15 05:37:00  Kevin/Bob: Here is a quick rundown on the cons...   \n",
       "80   2000-08-20 14:12:00  check this out and let everyone know what s up...   \n",
       "83   2000-08-22 08:17:00  Further to your letter to us (addressed to Mr....   \n",
       "\n",
       "                                            recipients  \\\n",
       "mid                                                      \n",
       "60   robert.badeer@enron.com murray.o neil@enron.co...   \n",
       "66   kim.ward@enron.com robert.badeer@enron.com mur...   \n",
       "74   robert.badeer@enron.com john.massey@enron.com ...   \n",
       "80      robert.badeer@enron.com jeff.richter@enron.com   \n",
       "83   pgillman@schiffhardin.com kamarlantes@calpx.co...   \n",
       "\n",
       "                        sender  \n",
       "mid                             \n",
       "60   christian.yoder@enron.com  \n",
       "66    heather.dunton@enron.com  \n",
       "74    janel.guerrero@enron.com  \n",
       "80        tim.belden@enron.com  \n",
       "83   christian.yoder@enron.com  "
      ]
     },
     "execution_count": 2,
     "metadata": {},
     "output_type": "execute_result"
    }
   ],
   "source": [
    "df_emails = enrich_emails()\n",
    "df_emails.head()"
   ]
  },
  {
   "cell_type": "code",
   "execution_count": 3,
   "metadata": {
    "collapsed": false,
    "deletable": true,
    "editable": true,
    "scrolled": false
   },
   "outputs": [
    {
     "name": "stdout",
     "output_type": "stream",
     "text": [
      "From: lynn.blair@enron.com \n",
      "To: john.buchanan@enron.com lynn.blair@enron.com\n",
      "On: 2001-07-26 08:02:34 \n",
      "Body:\n",
      " \t\tJohn, would you please work with Brad Holmes and Jerry Medeles to capture all of\tthe system enhancements we have made on NNG since last years meeting.\tThanks. Lynn\n"
     ]
    }
   ],
   "source": [
    "print_email_by_id(df_emails, 41311)"
   ]
  },
  {
   "cell_type": "markdown",
   "metadata": {},
   "source": [
    "# Data exploration"
   ]
  },
  {
   "cell_type": "code",
   "execution_count": 4,
   "metadata": {
    "collapsed": true,
    "deletable": true,
    "editable": true
   },
   "outputs": [],
   "source": [
    "df_email_senders = load_email_senders()"
   ]
  },
  {
   "cell_type": "code",
   "execution_count": 5,
   "metadata": {
    "collapsed": false,
    "deletable": true,
    "editable": true
   },
   "outputs": [
    {
     "data": {
      "image/png": "[encoded data removed]",
      "text/plain": [
       "<matplotlib.figure.Figure at 0x7f86ded6fac8>"
      ]
     },
     "metadata": {},
     "output_type": "display_data"
    }
   ],
   "source": [
    "emails_sent_distribution(df_email_senders, max_value=300)"
   ]
  },
  {
   "cell_type": "code",
   "execution_count": 6,
   "metadata": {
    "collapsed": false,
    "deletable": true,
    "editable": true
   },
   "outputs": [
    {
     "data": {
      "image/png": "[encoded data removed]",
      "text/plain": [
       "<matplotlib.figure.Figure at 0x7f86dbacf4a8>"
      ]
     },
     "metadata": {},
     "output_type": "display_data"
    }
   ],
   "source": [
    "emails_received_distribution(df_emails, max_value=200)"
   ]
  },
  {
   "cell_type": "code",
   "execution_count": 7,
   "metadata": {
    "collapsed": false,
    "deletable": true,
    "editable": true
   },
   "outputs": [
    {
     "data": {
      "image/png": "[encoded data removed]",
      "text/plain": [
       "<matplotlib.figure.Figure at 0x7f86df9f59b0>"
      ]
     },
     "metadata": {},
     "output_type": "display_data"
    }
   ],
   "source": [
    "body_length_distribution(df_emails, max_value=10000)"
   ]
  },
  {
   "cell_type": "code",
   "execution_count": 8,
   "metadata": {
    "collapsed": false,
    "deletable": true,
    "editable": true
   },
   "outputs": [
    {
     "data": {
      "text/plain": [
       "<matplotlib.figure.Figure at 0x7f86db9c09e8>"
      ]
     },
     "metadata": {},
     "output_type": "display_data"
    },
    {
     "data": {
      "image/png": "[encoded data removed]",
      "text/plain": [
       "<matplotlib.figure.Figure at 0x7f86db9c0668>"
      ]
     },
     "metadata": {},
     "output_type": "display_data"
    }
   ],
   "source": [
    "number_of_recipients_distribution(df_emails, bins=20, max_value=100)"
   ]
  },
  {
   "cell_type": "code",
   "execution_count": 9,
   "metadata": {
    "collapsed": false,
    "deletable": true,
    "editable": true
   },
   "outputs": [
    {
     "name": "stdout",
     "output_type": "stream",
     "text": [
      "Number of unique recipients: 9779\n"
     ]
    }
   ],
   "source": [
    "unique_rec = unique_recipients(df_emails)\n",
    "print(\"Number of unique recipients: {}\".format(len(unique_rec)))"
   ]
  },
  {
   "cell_type": "markdown",
   "metadata": {
    "deletable": true,
    "editable": true
   },
   "source": [
    "# Dataset separation"
   ]
  },
  {
   "cell_type": "code",
   "execution_count": 10,
   "metadata": {
    "collapsed": false,
    "deletable": true,
    "editable": true
   },
   "outputs": [],
   "source": [
    "df_train = df_emails.sample(n=1000,random_state=42)\n",
    "train_ids = list(df_train.index.values)\n",
    "train_mask = df_emails.index.isin(train_ids)\n",
    "df_test = df_emails[train_mask].sample(n=1000,random_state=42)"
   ]
  },
  {
   "cell_type": "markdown",
   "metadata": {
    "deletable": true,
    "editable": true
   },
   "source": [
    "# Feature engineering"
   ]
  },
  {
   "cell_type": "markdown",
   "metadata": {
    "deletable": true,
    "editable": true
   },
   "source": [
    "## Input variables"
   ]
  },
  {
   "cell_type": "markdown",
   "metadata": {
    "deletable": true,
    "editable": true
   },
   "source": [
    "### Data cleansing"
   ]
  },
  {
   "cell_type": "code",
   "execution_count": 11,
   "metadata": {
    "collapsed": false,
    "deletable": true,
    "editable": true
   },
   "outputs": [],
   "source": [
    "s_text_train = df_train[\"body\"]\n",
    "unique_rec_train = unique_recipients(df_train)\n",
    "address_book = address_book(unique_rec_train)\n",
    "s_text_n_ponct_train = remove_numbers_and_ponctuation(s_text_train)\n",
    "s_text_n_stop_train = remove_stopwords(s_text_n_ponct_train)\n",
    "s_text_english_train = remove_non_english_words(s_text_n_stop_train, address_book=address_book)"
   ]
  },
  {
   "cell_type": "code",
   "execution_count": 12,
   "metadata": {
    "collapsed": true,
    "deletable": true,
    "editable": true
   },
   "outputs": [],
   "source": [
    "s_text_test = df_test[\"body\"]\n",
    "s_text_n_ponct_test = remove_numbers_and_ponctuation(s_text_test)\n",
    "s_text_n_stop_test = remove_stopwords(s_text_n_ponct_test)\n",
    "s_text_english_test = remove_non_english_words(s_text_n_stop_test, address_book=address_book)"
   ]
  },
  {
   "cell_type": "markdown",
   "metadata": {
    "deletable": true,
    "editable": true
   },
   "source": [
    "### BoW computation"
   ]
  },
  {
   "cell_type": "code",
   "execution_count": 13,
   "metadata": {
    "collapsed": false,
    "deletable": true,
    "editable": true
   },
   "outputs": [],
   "source": [
    "X_train, input_bow = bag_of_words(s_text_english_train)"
   ]
  },
  {
   "cell_type": "code",
   "execution_count": 14,
   "metadata": {
    "collapsed": true,
    "deletable": true,
    "editable": true
   },
   "outputs": [],
   "source": [
    "X_test = input_bow.transform(s_text_english_test)"
   ]
  },
  {
   "cell_type": "markdown",
   "metadata": {
    "deletable": true,
    "editable": true
   },
   "source": [
    "## Output variables"
   ]
  },
  {
   "cell_type": "code",
   "execution_count": 15,
   "metadata": {
    "collapsed": false,
    "deletable": true,
    "editable": true
   },
   "outputs": [],
   "source": [
    "s_recipient = df_train[\"recipients\"]\n",
    "Y_train, output_bow = bag_of_emails(s_recipient, unique_rec_train)"
   ]
  },
  {
   "cell_type": "markdown",
   "metadata": {
    "deletable": true,
    "editable": true
   },
   "source": [
    "# Classification"
   ]
  },
  {
   "cell_type": "code",
   "execution_count": 16,
   "metadata": {
    "collapsed": true,
    "deletable": true,
    "editable": true
   },
   "outputs": [],
   "source": [
    "from sklearn.ensemble import RandomForestClassifier"
   ]
  },
  {
   "cell_type": "code",
   "execution_count": 17,
   "metadata": {
    "collapsed": true,
    "deletable": true,
    "editable": true
   },
   "outputs": [],
   "source": [
    "rf = RandomForestClassifier(n_estimators=10, max_depth=500)"
   ]
  },
  {
   "cell_type": "code",
   "execution_count": 18,
   "metadata": {
    "collapsed": false,
    "deletable": true,
    "editable": true
   },
   "outputs": [
    {
     "data": {
      "text/plain": [
       "RandomForestClassifier(bootstrap=True, class_weight=None, criterion='gini',\n",
       "            max_depth=500, max_features='auto', max_leaf_nodes=None,\n",
       "            min_impurity_split=1e-07, min_samples_leaf=1,\n",
       "            min_samples_split=2, min_weight_fraction_leaf=0.0,\n",
       "            n_estimators=10, n_jobs=1, oob_score=False, random_state=None,\n",
       "            verbose=0, warm_start=False)"
      ]
     },
     "execution_count": 18,
     "metadata": {},
     "output_type": "execute_result"
    }
   ],
   "source": [
    "rf.fit(X_train, Y_train.toarray())"
   ]
  },
  {
   "cell_type": "code",
   "execution_count": 19,
   "metadata": {
    "collapsed": true,
    "deletable": true,
    "editable": true
   },
   "outputs": [],
   "source": [
    "Y_test = rf.predict(X_test)"
   ]
  },
  {
   "cell_type": "markdown",
   "metadata": {
    "deletable": true,
    "editable": true
   },
   "source": [
    "## Decoding"
   ]
  },
  {
   "cell_type": "code",
   "execution_count": 22,
   "metadata": {
    "collapsed": false,
    "deletable": true,
    "editable": true
   },
   "outputs": [],
   "source": [
    "top = 10\n",
    "best_pred_idx = np.argpartition(-Y_test, top, axis=1)[:,:top]\n",
    "sorted_ids = np.argsort(Y_test[np.arange(Y_test.shape[0])[:, None], best_pred_idx])[:,::-1]\n",
    "sorted_idx = best_pred_idx[np.arange(best_pred_idx.shape[0])[:, None], sorted_ids]"
   ]
  },
  {
   "cell_type": "code",
   "execution_count": 23,
   "metadata": {
    "collapsed": true,
    "deletable": true,
    "editable": true
   },
   "outputs": [],
   "source": [
    "recipients_map = output_bow.get_feature_names()"
   ]
  },
  {
   "cell_type": "code",
   "execution_count": 24,
   "metadata": {
    "collapsed": true,
    "deletable": true,
    "editable": true
   },
   "outputs": [],
   "source": [
    "df_test[\"predictions\"] = \"\""
   ]
  },
  {
   "cell_type": "code",
   "execution_count": 25,
   "metadata": {
    "collapsed": false,
    "deletable": true,
    "editable": true
   },
   "outputs": [],
   "source": [
    "for index, row in df_test.iterrows():\n",
    "    i = df_test.index.get_loc(index)\n",
    "    rec_ids = sorted_idx[i, :]\n",
    "    rec_pred = \" \".join([recipients_map[rec_id] for rec_id in rec_ids])\n",
    "    df_test.set_value(index, \"predictions\", rec_pred)"
   ]
  },
  {
   "cell_type": "markdown",
   "metadata": {
    "deletable": true,
    "editable": true
   },
   "source": [
    "# Evaluation"
   ]
  },
  {
   "cell_type": "code",
   "execution_count": 26,
   "metadata": {
    "collapsed": false,
    "deletable": true,
    "editable": true,
    "scrolled": true
   },
   "outputs": [
    {
     "data": {
      "text/html": [
       "<div>\n",
       "<table border=\"1\" class=\"dataframe\">\n",
       "  <thead>\n",
       "    <tr style=\"text-align: right;\">\n",
       "      <th></th>\n",
       "      <th>date</th>\n",
       "      <th>body</th>\n",
       "      <th>recipients</th>\n",
       "      <th>sender</th>\n",
       "      <th>predictions</th>\n",
       "    </tr>\n",
       "    <tr>\n",
       "      <th>mid</th>\n",
       "      <th></th>\n",
       "      <th></th>\n",
       "      <th></th>\n",
       "      <th></th>\n",
       "      <th></th>\n",
       "    </tr>\n",
       "  </thead>\n",
       "  <tbody>\n",
       "    <tr>\n",
       "      <th>190995</th>\n",
       "      <td>2001-10-22 06:58:39</td>\n",
       "      <td>23.51</td>\n",
       "      <td>richard.shapiro@enron.com</td>\n",
       "      <td>james.d.steffes@enron.com</td>\n",
       "      <td>michael.robison@enron.com michael.roan@enron.c...</td>\n",
       "    </tr>\n",
       "    <tr>\n",
       "      <th>288499</th>\n",
       "      <td>2001-01-25 02:59:00</td>\n",
       "      <td>For future months, please add Bruce Mills to t...</td>\n",
       "      <td>tiffany.miller@enron.com</td>\n",
       "      <td>phillip.m.love@enron.com</td>\n",
       "      <td>michael.robison@enron.com michael.roan@enron.c...</td>\n",
       "    </tr>\n",
       "    <tr>\n",
       "      <th>288570</th>\n",
       "      <td>2001-02-02 10:23:00</td>\n",
       "      <td>FYI---------------------- Forwarded by Phillip...</td>\n",
       "      <td>b.palmer@enron.com victor.guggenheim@enron.com...</td>\n",
       "      <td>phillip.m.love@enron.com</td>\n",
       "      <td>andres.balmaceda@enron.com victor.guggenheim@e...</td>\n",
       "    </tr>\n",
       "    <tr>\n",
       "      <th>265398</th>\n",
       "      <td>2001-04-17 11:49:00</td>\n",
       "      <td>Attached is a Conversion/Name Change for GATX ...</td>\n",
       "      <td>colette.weinreich@enron.com samuel.schott@enro...</td>\n",
       "      <td>cheryl.johnson@enron.com</td>\n",
       "      <td>robert.cotten@enron.com sylvia.pollan@enron.co...</td>\n",
       "    </tr>\n",
       "    <tr>\n",
       "      <th>175880</th>\n",
       "      <td>2001-04-24 00:31:00</td>\n",
       "      <td>Great idea!John Long04/24/2001 06:04 AMTo: Sta...</td>\n",
       "      <td>john.long@enron.com</td>\n",
       "      <td>stanley.horton@enron.com</td>\n",
       "      <td>john.long@enron.com michael.roan@enron.com mic...</td>\n",
       "    </tr>\n",
       "    <tr>\n",
       "      <th>268191</th>\n",
       "      <td>2001-04-13 18:45:00</td>\n",
       "      <td>X-FileName: holden salisbury 6-26-02.PSTSorry ...</td>\n",
       "      <td>amy.fitzpatrick@enron.com portland.desk@enron.com</td>\n",
       "      <td>grace.rodriguez@enron.com</td>\n",
       "      <td>michael.robison@enron.com michael.roan@enron.c...</td>\n",
       "    </tr>\n",
       "    <tr>\n",
       "      <th>238221</th>\n",
       "      <td>2001-01-09 00:23:00</td>\n",
       "      <td>Eric - Gerald is forwarding the Calpine contra...</td>\n",
       "      <td>barry.tycholiz@enron.com eric.ledain@enron.com...</td>\n",
       "      <td>stephanie.miller@enron.com</td>\n",
       "      <td>eric.ledain@enron.com kevin.heal@enron.com bar...</td>\n",
       "    </tr>\n",
       "    <tr>\n",
       "      <th>186537</th>\n",
       "      <td>2000-04-12 07:39:00</td>\n",
       "      <td>Sara,Have you been able to locate a copy?Thank...</td>\n",
       "      <td>susan.flynn@enron.com sara.shackleton@enron.com</td>\n",
       "      <td>sheila.glover@enron.com</td>\n",
       "      <td>sara.shackleton@enron.com susan.flynn@enron.co...</td>\n",
       "    </tr>\n",
       "    <tr>\n",
       "      <th>362985</th>\n",
       "      <td>2000-08-08 03:57:00</td>\n",
       "      <td>That was very nice. Where do you get this stuf...</td>\n",
       "      <td>mmolloy@oebi.com</td>\n",
       "      <td>chris.dorland@enron.com</td>\n",
       "      <td>mmolloy@oebi.com michael.roan@enron.com michae...</td>\n",
       "    </tr>\n",
       "    <tr>\n",
       "      <th>49437</th>\n",
       "      <td>2001-08-27 12:28:18</td>\n",
       "      <td>Donna &amp; Becky --Do you have any good points of...</td>\n",
       "      <td>carrie.robert@enron.com donna.fulton@enron.com...</td>\n",
       "      <td>james.d.steffes@enron.com</td>\n",
       "      <td>michael.robison@enron.com michael.roan@enron.c...</td>\n",
       "    </tr>\n",
       "    <tr>\n",
       "      <th>337282</th>\n",
       "      <td>2001-04-05 07:59:00</td>\n",
       "      <td>Please bookout the following deals that I ente...</td>\n",
       "      <td>joann.collins@enron.com alvin.thompson@enron.com</td>\n",
       "      <td>chris.germany@enron.com</td>\n",
       "      <td>alvin.thompson@enron.com joann.collins@enron.c...</td>\n",
       "    </tr>\n",
       "    <tr>\n",
       "      <th>35921</th>\n",
       "      <td>2000-05-01 10:17:00</td>\n",
       "      <td>TWanda, please print for me.  Thanks.  Michell...</td>\n",
       "      <td>twanda.sweet@enron.com</td>\n",
       "      <td>michelle.cash@enron.com</td>\n",
       "      <td>twanda.sweet@enron.com michael.ratner@enron.co...</td>\n",
       "    </tr>\n",
       "    <tr>\n",
       "      <th>252240</th>\n",
       "      <td>2001-07-03 11:37:37</td>\n",
       "      <td>X-FileName: john zufferli 6-26-02.PST -----Ori...</td>\n",
       "      <td>derek.davies@enron.com</td>\n",
       "      <td>john.zufferli@enron.com</td>\n",
       "      <td>derek.davies@enron.com michael.roan@enron.com ...</td>\n",
       "    </tr>\n",
       "    <tr>\n",
       "      <th>384392</th>\n",
       "      <td>2000-10-03 05:18:00</td>\n",
       "      <td>Hi Mom - I got your e-mail yesterday.  Shanna ...</td>\n",
       "      <td>daphneco64@bigplanet.com</td>\n",
       "      <td>eric.bass@enron.com</td>\n",
       "      <td>daphneco64@bigplanet.com michael.robison@enron...</td>\n",
       "    </tr>\n",
       "    <tr>\n",
       "      <th>379844</th>\n",
       "      <td>2001-09-05 06:59:06</td>\n",
       "      <td>WandaI believe this will give us a good sense ...</td>\n",
       "      <td>ted.murphy@enron.com s..bradford@enron.com bet...</td>\n",
       "      <td>david.port@enron.com</td>\n",
       "      <td>ted.murphy@enron.com beth.apollo@enron.com tom...</td>\n",
       "    </tr>\n",
       "    <tr>\n",
       "      <th>368956</th>\n",
       "      <td>2000-08-24 05:50:00</td>\n",
       "      <td>No manager is listed below on this request and...</td>\n",
       "      <td>information.management@enron.com</td>\n",
       "      <td>sally.beck@enron.com</td>\n",
       "      <td>information.management@enron.com michael.roan@...</td>\n",
       "    </tr>\n",
       "    <tr>\n",
       "      <th>112198</th>\n",
       "      <td>2001-09-05 10:19:13</td>\n",
       "      <td>Ina,Could you send in a request for Unify and ...</td>\n",
       "      <td>ina.rangel@enron.com</td>\n",
       "      <td>susan.scott@enron.com</td>\n",
       "      <td>ina.rangel@enron.com michael.roan@enron.com mi...</td>\n",
       "    </tr>\n",
       "    <tr>\n",
       "      <th>368185</th>\n",
       "      <td>2000-12-29 10:02:00</td>\n",
       "      <td>I have completed internal feedback forms throu...</td>\n",
       "      <td>richard.causey@enron.com andrea.yowman@enron.com</td>\n",
       "      <td>sally.beck@enron.com</td>\n",
       "      <td>michael.robison@enron.com michael.roan@enron.c...</td>\n",
       "    </tr>\n",
       "    <tr>\n",
       "      <th>296820</th>\n",
       "      <td>2001-10-05 11:36:17</td>\n",
       "      <td>Note highlighted sentence....perhaps DeFazio i...</td>\n",
       "      <td>james.d.steffes@enron.com tim.belden@enron.com...</td>\n",
       "      <td>richard.shapiro@enron.com</td>\n",
       "      <td>mark.frevert@enron.com tim.belden@enron.com st...</td>\n",
       "    </tr>\n",
       "    <tr>\n",
       "      <th>114966</th>\n",
       "      <td>2000-09-15 06:38:00</td>\n",
       "      <td>Please see the attached and let me know if you...</td>\n",
       "      <td>lorraine.lindberg@enron.com</td>\n",
       "      <td>susan.scott@enron.com</td>\n",
       "      <td>lorraine.lindberg@enron.com michael.ratner@enr...</td>\n",
       "    </tr>\n",
       "    <tr>\n",
       "      <th>205179</th>\n",
       "      <td>2001-10-23 15:24:34</td>\n",
       "      <td>-----Original Message-----From: Dan Douglass ...</td>\n",
       "      <td>jdasovic@enron.com james_d_steffes@enron.com s...</td>\n",
       "      <td>jbennett@gmssr.com</td>\n",
       "      <td>jdasovic@enron.com james_d_steffes@enron.com s...</td>\n",
       "    </tr>\n",
       "    <tr>\n",
       "      <th>60684</th>\n",
       "      <td>2001-09-10 07:58:21</td>\n",
       "      <td>9/10 - Meeting set up because Steve was not he...</td>\n",
       "      <td>no.address@enron.com</td>\n",
       "      <td>julie.armstrong@enron.com</td>\n",
       "      <td>no.address@enron.com michael.ratner@enron.com ...</td>\n",
       "    </tr>\n",
       "    <tr>\n",
       "      <th>154095</th>\n",
       "      <td>2000-11-25 12:15:00</td>\n",
       "      <td>BillyWhat has this recent rally done to our ex...</td>\n",
       "      <td>william.bradford@enron.com</td>\n",
       "      <td>john.lavorato@enron.com</td>\n",
       "      <td>michael.robison@enron.com michael.roan@enron.c...</td>\n",
       "    </tr>\n",
       "    <tr>\n",
       "      <th>192009</th>\n",
       "      <td>2001-09-24 08:50:15</td>\n",
       "      <td>I am sorry to inform the group that Aleck has ...</td>\n",
       "      <td>susan.mara@enron.com carolyn.cooney@enron.com ...</td>\n",
       "      <td>richard.shapiro@enron.com</td>\n",
       "      <td>bill.moore@enron.com stephen.burns@enron.com g...</td>\n",
       "    </tr>\n",
       "    <tr>\n",
       "      <th>82360</th>\n",
       "      <td>2001-11-01 06:50:37</td>\n",
       "      <td>Jay, what is status on credit worksheet for MG...</td>\n",
       "      <td>stephanie.miller@enron.com jason.williams@enro...</td>\n",
       "      <td>barry.tycholiz@enron.com</td>\n",
       "      <td>michael.robison@enron.com michael.roan@enron.c...</td>\n",
       "    </tr>\n",
       "    <tr>\n",
       "      <th>89253</th>\n",
       "      <td>2000-08-02 09:19:00</td>\n",
       "      <td>HAVE 2100 FOR JULY.713.853.9351</td>\n",
       "      <td>sperry@statoilenergy.com mblaser@infiniteenerg...</td>\n",
       "      <td>larry.f.campbell@enron.com</td>\n",
       "      <td>michael.robison@enron.com michael.roan@enron.c...</td>\n",
       "    </tr>\n",
       "    <tr>\n",
       "      <th>39104</th>\n",
       "      <td>2001-01-18 02:02:00</td>\n",
       "      <td>Thank you for the email.  It has been a long r...</td>\n",
       "      <td>jean.mrha@enron.com</td>\n",
       "      <td>mike.grigsby@enron.com</td>\n",
       "      <td>michael.robison@enron.com michael.roan@enron.c...</td>\n",
       "    </tr>\n",
       "    <tr>\n",
       "      <th>390735</th>\n",
       "      <td>2000-08-04 02:29:00</td>\n",
       "      <td>ConfidentialI will send you updates-----------...</td>\n",
       "      <td>jonathan.mckay@enron.com</td>\n",
       "      <td>hunter.s.shively@enron.com</td>\n",
       "      <td>jonathan.mckay@enron.com michael.ratner@enron....</td>\n",
       "    </tr>\n",
       "    <tr>\n",
       "      <th>369024</th>\n",
       "      <td>2000-09-26 11:30:00</td>\n",
       "      <td>Fernley:  I think that you are right about eas...</td>\n",
       "      <td>fernley.dyson@enron.com mike.jordan@enron.com</td>\n",
       "      <td>sally.beck@enron.com</td>\n",
       "      <td>michael.robison@enron.com michael.roan@enron.c...</td>\n",
       "    </tr>\n",
       "    <tr>\n",
       "      <th>383508</th>\n",
       "      <td>2001-02-21 00:16:00</td>\n",
       "      <td>---------------------- Forwarded by Eric Bass/...</td>\n",
       "      <td>shanna.husser@enron.com</td>\n",
       "      <td>eric.bass@enron.com</td>\n",
       "      <td>michael.robison@enron.com michael.roan@enron.c...</td>\n",
       "    </tr>\n",
       "    <tr>\n",
       "      <th>...</th>\n",
       "      <td>...</td>\n",
       "      <td>...</td>\n",
       "      <td>...</td>\n",
       "      <td>...</td>\n",
       "      <td>...</td>\n",
       "    </tr>\n",
       "    <tr>\n",
       "      <th>383832</th>\n",
       "      <td>2000-03-22 02:38:00</td>\n",
       "      <td>i m getting really freaking tired of being las...</td>\n",
       "      <td>shanna.husser@enron.com</td>\n",
       "      <td>eric.bass@enron.com</td>\n",
       "      <td>shanna.husser@enron.com michael.robison@enron....</td>\n",
       "    </tr>\n",
       "    <tr>\n",
       "      <th>76596</th>\n",
       "      <td>2001-08-01 10:54:51</td>\n",
       "      <td>We have received an executed EEI Master Power ...</td>\n",
       "      <td>john.llodra@enron.com dana.davis@enron.com a.....</td>\n",
       "      <td>l..denton@enron.com</td>\n",
       "      <td>mark.symms@enron.com chris.lenartowicz@enron.c...</td>\n",
       "    </tr>\n",
       "    <tr>\n",
       "      <th>154657</th>\n",
       "      <td>2001-01-23 04:42:00</td>\n",
       "      <td>George Sladoje 626-537-3136Tim Belden 503-464-...</td>\n",
       "      <td>greg.whalley@enron.com no.address@enron.com li...</td>\n",
       "      <td>tim.belden@enron.com</td>\n",
       "      <td>greg.whalley@enron.com liz.taylor@enron.com no...</td>\n",
       "    </tr>\n",
       "    <tr>\n",
       "      <th>337059</th>\n",
       "      <td>2001-01-26 09:05:00</td>\n",
       "      <td>Scott Goodell is the expert on this pipeline a...</td>\n",
       "      <td>victor.lamadrid@enron.com scott.goodell@enron....</td>\n",
       "      <td>chris.germany@enron.com</td>\n",
       "      <td>marlene.hilliard@enron.com victor.lamadrid@enr...</td>\n",
       "    </tr>\n",
       "    <tr>\n",
       "      <th>176031</th>\n",
       "      <td>2000-11-14 01:45:00</td>\n",
       "      <td>I understand.  Thanks for the update.</td>\n",
       "      <td>mmcgrath@eei.org</td>\n",
       "      <td>stanley.horton@enron.com</td>\n",
       "      <td>mmcgrath@eei.org michael.roan@enron.com michae...</td>\n",
       "    </tr>\n",
       "    <tr>\n",
       "      <th>182896</th>\n",
       "      <td>1999-07-12 08:05:00</td>\n",
       "      <td>Per my voice mail, please contact me regarding...</td>\n",
       "      <td>andre.cangucu@enron.com brent.hendry@enron.com</td>\n",
       "      <td>sara.shackleton@enron.com</td>\n",
       "      <td>michael.robison@enron.com michael.roan@enron.c...</td>\n",
       "    </tr>\n",
       "    <tr>\n",
       "      <th>128999</th>\n",
       "      <td>2001-09-08 11:39:13</td>\n",
       "      <td>FYI, EPMI responded to the CPA s RFP for new g...</td>\n",
       "      <td>susan.mara@enron.com eric.thode@enron.com jame...</td>\n",
       "      <td>karen.denne@enron.com</td>\n",
       "      <td>jeff.dasovich@enron.com james.d.steffes@enron....</td>\n",
       "    </tr>\n",
       "    <tr>\n",
       "      <th>298118</th>\n",
       "      <td>2001-03-15 19:23:00</td>\n",
       "      <td>You are cordially invited to attend cocktails ...</td>\n",
       "      <td>thomas.a.martin@enron.com russell.ballato@enro...</td>\n",
       "      <td>john.lavorato@enron.com</td>\n",
       "      <td>michael.robison@enron.com michael.roan@enron.c...</td>\n",
       "    </tr>\n",
       "    <tr>\n",
       "      <th>114563</th>\n",
       "      <td>2000-08-28 02:03:00</td>\n",
       "      <td>Agustin,You are right, the correct deal number...</td>\n",
       "      <td>dutch.quigley@enron.com</td>\n",
       "      <td>susan.scott@enron.com</td>\n",
       "      <td>dutch.quigley@enron.com michael.robison@enron....</td>\n",
       "    </tr>\n",
       "    <tr>\n",
       "      <th>265950</th>\n",
       "      <td>2001-01-24 10:10:00</td>\n",
       "      <td>what does this mean?Fletch</td>\n",
       "      <td>kevin.radous@enron.com</td>\n",
       "      <td>fletcher.j.sturm@enron.com</td>\n",
       "      <td>kevin.radous@enron.com michael.robison@enron.c...</td>\n",
       "    </tr>\n",
       "    <tr>\n",
       "      <th>48362</th>\n",
       "      <td>2001-07-19 17:17:00</td>\n",
       "      <td>\\tTASK ASSIGNMENTStatus:\\t\\tcompletedTask Prio...</td>\n",
       "      <td>no.address@enron.com</td>\n",
       "      <td>james.d.steffes@enron.com</td>\n",
       "      <td>no.address@enron.com michael.ratner@enron.com ...</td>\n",
       "    </tr>\n",
       "    <tr>\n",
       "      <th>265960</th>\n",
       "      <td>2001-03-20 23:48:00</td>\n",
       "      <td>---------------------- Forwarded by Fletcher J...</td>\n",
       "      <td>rogers.herndon@enron.com</td>\n",
       "      <td>fletcher.j.sturm@enron.com</td>\n",
       "      <td>michael.robison@enron.com michael.roan@enron.c...</td>\n",
       "    </tr>\n",
       "    <tr>\n",
       "      <th>364370</th>\n",
       "      <td>2001-10-30 12:38:20</td>\n",
       "      <td>X-FileName: chris dorland 6-26-02.PSTDid you u...</td>\n",
       "      <td>dan.dorland@enron.com</td>\n",
       "      <td>chris.dorland@enron.com</td>\n",
       "      <td>dan.dorland@enron.com michael.robison@enron.co...</td>\n",
       "    </tr>\n",
       "    <tr>\n",
       "      <th>39049</th>\n",
       "      <td>2000-10-03 15:14:00</td>\n",
       "      <td>Please read the following email from EOL.  I h...</td>\n",
       "      <td>frank.ermis@enron.com phillip.k.ellen@enron.co...</td>\n",
       "      <td>mike.grigsby@enron.com</td>\n",
       "      <td>michael.robison@enron.com michael.roan@enron.c...</td>\n",
       "    </tr>\n",
       "    <tr>\n",
       "      <th>154189</th>\n",
       "      <td>2000-09-29 05:42:00</td>\n",
       "      <td>KimHave you called Nigel and told him about th...</td>\n",
       "      <td>kimberly.hillis@enron.com</td>\n",
       "      <td>john.lavorato@enron.com</td>\n",
       "      <td>michael.robison@enron.com michael.roan@enron.c...</td>\n",
       "    </tr>\n",
       "    <tr>\n",
       "      <th>36276</th>\n",
       "      <td>2000-03-09 08:44:00</td>\n",
       "      <td>Twanda, would you please make this change to a...</td>\n",
       "      <td>twanda.sweet@enron.com</td>\n",
       "      <td>michelle.cash@enron.com</td>\n",
       "      <td>twanda.sweet@enron.com michael.ratner@enron.co...</td>\n",
       "    </tr>\n",
       "    <tr>\n",
       "      <th>181547</th>\n",
       "      <td>2000-06-01 11:00:00</td>\n",
       "      <td>Rod:  I spoke with Merrill legal and the bigge...</td>\n",
       "      <td>clint.freeland@enron.com rod.nelson@enron.com</td>\n",
       "      <td>sara.shackleton@enron.com</td>\n",
       "      <td>rod.nelson@enron.com clint.freeland@enron.com ...</td>\n",
       "    </tr>\n",
       "    <tr>\n",
       "      <th>120786</th>\n",
       "      <td>2000-02-29 07:24:00</td>\n",
       "      <td>Attached is the Management Report for Feb. 28,...</td>\n",
       "      <td>jeffrey.a.shankman@enron.com bob.shults@enron....</td>\n",
       "      <td>david.forster@enron.com</td>\n",
       "      <td>rick.buy@enron.com bob.shults@enron.com john.s...</td>\n",
       "    </tr>\n",
       "    <tr>\n",
       "      <th>82496</th>\n",
       "      <td>2001-10-11 07:00:15</td>\n",
       "      <td>I should no longer be on this circulation. Can...</td>\n",
       "      <td>circulation@smenergy.com</td>\n",
       "      <td>barry.tycholiz@enron.com</td>\n",
       "      <td>circulation@smenergy.com michael.robison@enron...</td>\n",
       "    </tr>\n",
       "    <tr>\n",
       "      <th>181915</th>\n",
       "      <td>2000-03-24 09:19:00</td>\n",
       "      <td>Mike:  I have not heard from since my prior me...</td>\n",
       "      <td>mtierney@sempra.com</td>\n",
       "      <td>sara.shackleton@enron.com</td>\n",
       "      <td>mtierney@sempra.com michael.roan@enron.com mic...</td>\n",
       "    </tr>\n",
       "    <tr>\n",
       "      <th>41650</th>\n",
       "      <td>2001-10-09 14:00:05</td>\n",
       "      <td>\\tTerry, please review and let me know if this...</td>\n",
       "      <td>lynn.blair@enron.com terry.kowalke@enron.com</td>\n",
       "      <td>lynn.blair@enron.com</td>\n",
       "      <td>michael.robison@enron.com michael.roan@enron.c...</td>\n",
       "    </tr>\n",
       "    <tr>\n",
       "      <th>233334</th>\n",
       "      <td>2001-06-08 17:27:32</td>\n",
       "      <td>Jim, thanks for the update.  Have a safe and g...</td>\n",
       "      <td>jw1000mac@yahoo.com</td>\n",
       "      <td>james.derrick@enron.com</td>\n",
       "      <td>jw1000mac@yahoo.com michael.robison@enron.com ...</td>\n",
       "    </tr>\n",
       "    <tr>\n",
       "      <th>19410</th>\n",
       "      <td>2001-07-25 18:07:55</td>\n",
       "      <td>Do I assume correctly that dinner is at home i...</td>\n",
       "      <td>halbromm@hotmail.com</td>\n",
       "      <td>taylor@enron.com</td>\n",
       "      <td>michael.robison@enron.com michael.roan@enron.c...</td>\n",
       "    </tr>\n",
       "    <tr>\n",
       "      <th>273583</th>\n",
       "      <td>2001-07-02 12:20:13</td>\n",
       "      <td>Agreed.   Actually, I think you are being too ...</td>\n",
       "      <td>rogers.herndon@enron.com</td>\n",
       "      <td>kevin.m.presto@enron.com</td>\n",
       "      <td>rogers.herndon@enron.com michael.roan@enron.co...</td>\n",
       "    </tr>\n",
       "    <tr>\n",
       "      <th>35316</th>\n",
       "      <td>2001-06-14 13:26:50</td>\n",
       "      <td>just received from Duke - lets get together at...</td>\n",
       "      <td>eric.boyt@enron.com richard.b.sanders@enron.co...</td>\n",
       "      <td>brian.redmond@enron.com</td>\n",
       "      <td>eric.boyt@enron.com neal.gerstandt@enron.com e...</td>\n",
       "    </tr>\n",
       "    <tr>\n",
       "      <th>40403</th>\n",
       "      <td>2001-10-17 05:40:36</td>\n",
       "      <td>Hunter asked me to fill in for him yesterday b...</td>\n",
       "      <td>karen.buckley@enron.com</td>\n",
       "      <td>mike.grigsby@enron.com</td>\n",
       "      <td>michael.robison@enron.com michael.roan@enron.c...</td>\n",
       "    </tr>\n",
       "    <tr>\n",
       "      <th>110269</th>\n",
       "      <td>2000-08-07 10:00:00</td>\n",
       "      <td>Tana,Do you know if this dispute has been reso...</td>\n",
       "      <td>tana.jones@enron.com</td>\n",
       "      <td>stephanie.sever@enron.com</td>\n",
       "      <td>tana.jones@enron.com michael.roan@enron.com mi...</td>\n",
       "    </tr>\n",
       "    <tr>\n",
       "      <th>362989</th>\n",
       "      <td>2000-08-09 04:41:00</td>\n",
       "      <td>I got rewarded for hard work.</td>\n",
       "      <td>kdorland@titanelectric.com</td>\n",
       "      <td>chris.dorland@enron.com</td>\n",
       "      <td>kdorland@titanelectric.com michael.roan@enron....</td>\n",
       "    </tr>\n",
       "    <tr>\n",
       "      <th>180226</th>\n",
       "      <td>2001-01-24 02:52:00</td>\n",
       "      <td>Kim:I hope Portland was successful.I d like to...</td>\n",
       "      <td>brent.hendry@enron.com kim.theriot@enron.com</td>\n",
       "      <td>sara.shackleton@enron.com</td>\n",
       "      <td>brent.hendry@enron.com kim.theriot@enron.com m...</td>\n",
       "    </tr>\n",
       "    <tr>\n",
       "      <th>39173</th>\n",
       "      <td>2001-03-08 12:55:00</td>\n",
       "      <td>Dear John,I had a meeting with Phillip after o...</td>\n",
       "      <td>john.lavorato@enron.com</td>\n",
       "      <td>mike.grigsby@enron.com</td>\n",
       "      <td>michael.robison@enron.com michael.roan@enron.c...</td>\n",
       "    </tr>\n",
       "  </tbody>\n",
       "</table>\n",
       "<p>1000 rows × 5 columns</p>\n",
       "</div>"
      ],
      "text/plain": [
       "                       date  \\\n",
       "mid                           \n",
       "190995  2001-10-22 06:58:39   \n",
       "288499  2001-01-25 02:59:00   \n",
       "288570  2001-02-02 10:23:00   \n",
       "265398  2001-04-17 11:49:00   \n",
       "175880  2001-04-24 00:31:00   \n",
       "268191  2001-04-13 18:45:00   \n",
       "238221  2001-01-09 00:23:00   \n",
       "186537  2000-04-12 07:39:00   \n",
       "362985  2000-08-08 03:57:00   \n",
       "49437   2001-08-27 12:28:18   \n",
       "337282  2001-04-05 07:59:00   \n",
       "35921   2000-05-01 10:17:00   \n",
       "252240  2001-07-03 11:37:37   \n",
       "384392  2000-10-03 05:18:00   \n",
       "379844  2001-09-05 06:59:06   \n",
       "368956  2000-08-24 05:50:00   \n",
       "112198  2001-09-05 10:19:13   \n",
       "368185  2000-12-29 10:02:00   \n",
       "296820  2001-10-05 11:36:17   \n",
       "114966  2000-09-15 06:38:00   \n",
       "205179  2001-10-23 15:24:34   \n",
       "60684   2001-09-10 07:58:21   \n",
       "154095  2000-11-25 12:15:00   \n",
       "192009  2001-09-24 08:50:15   \n",
       "82360   2001-11-01 06:50:37   \n",
       "89253   2000-08-02 09:19:00   \n",
       "39104   2001-01-18 02:02:00   \n",
       "390735  2000-08-04 02:29:00   \n",
       "369024  2000-09-26 11:30:00   \n",
       "383508  2001-02-21 00:16:00   \n",
       "...                     ...   \n",
       "383832  2000-03-22 02:38:00   \n",
       "76596   2001-08-01 10:54:51   \n",
       "154657  2001-01-23 04:42:00   \n",
       "337059  2001-01-26 09:05:00   \n",
       "176031  2000-11-14 01:45:00   \n",
       "182896  1999-07-12 08:05:00   \n",
       "128999  2001-09-08 11:39:13   \n",
       "298118  2001-03-15 19:23:00   \n",
       "114563  2000-08-28 02:03:00   \n",
       "265950  2001-01-24 10:10:00   \n",
       "48362   2001-07-19 17:17:00   \n",
       "265960  2001-03-20 23:48:00   \n",
       "364370  2001-10-30 12:38:20   \n",
       "39049   2000-10-03 15:14:00   \n",
       "154189  2000-09-29 05:42:00   \n",
       "36276   2000-03-09 08:44:00   \n",
       "181547  2000-06-01 11:00:00   \n",
       "120786  2000-02-29 07:24:00   \n",
       "82496   2001-10-11 07:00:15   \n",
       "181915  2000-03-24 09:19:00   \n",
       "41650   2001-10-09 14:00:05   \n",
       "233334  2001-06-08 17:27:32   \n",
       "19410   2001-07-25 18:07:55   \n",
       "273583  2001-07-02 12:20:13   \n",
       "35316   2001-06-14 13:26:50   \n",
       "40403   2001-10-17 05:40:36   \n",
       "110269  2000-08-07 10:00:00   \n",
       "362989  2000-08-09 04:41:00   \n",
       "180226  2001-01-24 02:52:00   \n",
       "39173   2001-03-08 12:55:00   \n",
       "\n",
       "                                                     body  \\\n",
       "mid                                                         \n",
       "190995                                              23.51   \n",
       "288499  For future months, please add Bruce Mills to t...   \n",
       "288570  FYI---------------------- Forwarded by Phillip...   \n",
       "265398  Attached is a Conversion/Name Change for GATX ...   \n",
       "175880  Great idea!John Long04/24/2001 06:04 AMTo: Sta...   \n",
       "268191  X-FileName: holden salisbury 6-26-02.PSTSorry ...   \n",
       "238221  Eric - Gerald is forwarding the Calpine contra...   \n",
       "186537  Sara,Have you been able to locate a copy?Thank...   \n",
       "362985  That was very nice. Where do you get this stuf...   \n",
       "49437   Donna & Becky --Do you have any good points of...   \n",
       "337282  Please bookout the following deals that I ente...   \n",
       "35921   TWanda, please print for me.  Thanks.  Michell...   \n",
       "252240  X-FileName: john zufferli 6-26-02.PST -----Ori...   \n",
       "384392  Hi Mom - I got your e-mail yesterday.  Shanna ...   \n",
       "379844  WandaI believe this will give us a good sense ...   \n",
       "368956  No manager is listed below on this request and...   \n",
       "112198  Ina,Could you send in a request for Unify and ...   \n",
       "368185  I have completed internal feedback forms throu...   \n",
       "296820  Note highlighted sentence....perhaps DeFazio i...   \n",
       "114966  Please see the attached and let me know if you...   \n",
       "205179   -----Original Message-----From: Dan Douglass ...   \n",
       "60684   9/10 - Meeting set up because Steve was not he...   \n",
       "154095  BillyWhat has this recent rally done to our ex...   \n",
       "192009  I am sorry to inform the group that Aleck has ...   \n",
       "82360   Jay, what is status on credit worksheet for MG...   \n",
       "89253                     HAVE 2100 FOR JULY.713.853.9351   \n",
       "39104   Thank you for the email.  It has been a long r...   \n",
       "390735  ConfidentialI will send you updates-----------...   \n",
       "369024  Fernley:  I think that you are right about eas...   \n",
       "383508  ---------------------- Forwarded by Eric Bass/...   \n",
       "...                                                   ...   \n",
       "383832  i m getting really freaking tired of being las...   \n",
       "76596   We have received an executed EEI Master Power ...   \n",
       "154657  George Sladoje 626-537-3136Tim Belden 503-464-...   \n",
       "337059  Scott Goodell is the expert on this pipeline a...   \n",
       "176031              I understand.  Thanks for the update.   \n",
       "182896  Per my voice mail, please contact me regarding...   \n",
       "128999  FYI, EPMI responded to the CPA s RFP for new g...   \n",
       "298118  You are cordially invited to attend cocktails ...   \n",
       "114563  Agustin,You are right, the correct deal number...   \n",
       "265950                         what does this mean?Fletch   \n",
       "48362   \\tTASK ASSIGNMENTStatus:\\t\\tcompletedTask Prio...   \n",
       "265960  ---------------------- Forwarded by Fletcher J...   \n",
       "364370  X-FileName: chris dorland 6-26-02.PSTDid you u...   \n",
       "39049   Please read the following email from EOL.  I h...   \n",
       "154189  KimHave you called Nigel and told him about th...   \n",
       "36276   Twanda, would you please make this change to a...   \n",
       "181547  Rod:  I spoke with Merrill legal and the bigge...   \n",
       "120786  Attached is the Management Report for Feb. 28,...   \n",
       "82496   I should no longer be on this circulation. Can...   \n",
       "181915  Mike:  I have not heard from since my prior me...   \n",
       "41650   \\tTerry, please review and let me know if this...   \n",
       "233334  Jim, thanks for the update.  Have a safe and g...   \n",
       "19410   Do I assume correctly that dinner is at home i...   \n",
       "273583  Agreed.   Actually, I think you are being too ...   \n",
       "35316   just received from Duke - lets get together at...   \n",
       "40403   Hunter asked me to fill in for him yesterday b...   \n",
       "110269  Tana,Do you know if this dispute has been reso...   \n",
       "362989                      I got rewarded for hard work.   \n",
       "180226  Kim:I hope Portland was successful.I d like to...   \n",
       "39173   Dear John,I had a meeting with Phillip after o...   \n",
       "\n",
       "                                               recipients  \\\n",
       "mid                                                         \n",
       "190995                          richard.shapiro@enron.com   \n",
       "288499                           tiffany.miller@enron.com   \n",
       "288570  b.palmer@enron.com victor.guggenheim@enron.com...   \n",
       "265398  colette.weinreich@enron.com samuel.schott@enro...   \n",
       "175880                                john.long@enron.com   \n",
       "268191  amy.fitzpatrick@enron.com portland.desk@enron.com   \n",
       "238221  barry.tycholiz@enron.com eric.ledain@enron.com...   \n",
       "186537    susan.flynn@enron.com sara.shackleton@enron.com   \n",
       "362985                                   mmolloy@oebi.com   \n",
       "49437   carrie.robert@enron.com donna.fulton@enron.com...   \n",
       "337282   joann.collins@enron.com alvin.thompson@enron.com   \n",
       "35921                              twanda.sweet@enron.com   \n",
       "252240                             derek.davies@enron.com   \n",
       "384392                           daphneco64@bigplanet.com   \n",
       "379844  ted.murphy@enron.com s..bradford@enron.com bet...   \n",
       "368956                   information.management@enron.com   \n",
       "112198                               ina.rangel@enron.com   \n",
       "368185   richard.causey@enron.com andrea.yowman@enron.com   \n",
       "296820  james.d.steffes@enron.com tim.belden@enron.com...   \n",
       "114966                        lorraine.lindberg@enron.com   \n",
       "205179  jdasovic@enron.com james_d_steffes@enron.com s...   \n",
       "60684                                no.address@enron.com   \n",
       "154095                         william.bradford@enron.com   \n",
       "192009  susan.mara@enron.com carolyn.cooney@enron.com ...   \n",
       "82360   stephanie.miller@enron.com jason.williams@enro...   \n",
       "89253   sperry@statoilenergy.com mblaser@infiniteenerg...   \n",
       "39104                                 jean.mrha@enron.com   \n",
       "390735                           jonathan.mckay@enron.com   \n",
       "369024      fernley.dyson@enron.com mike.jordan@enron.com   \n",
       "383508                            shanna.husser@enron.com   \n",
       "...                                                   ...   \n",
       "383832                            shanna.husser@enron.com   \n",
       "76596   john.llodra@enron.com dana.davis@enron.com a.....   \n",
       "154657  greg.whalley@enron.com no.address@enron.com li...   \n",
       "337059  victor.lamadrid@enron.com scott.goodell@enron....   \n",
       "176031                                   mmcgrath@eei.org   \n",
       "182896     andre.cangucu@enron.com brent.hendry@enron.com   \n",
       "128999  susan.mara@enron.com eric.thode@enron.com jame...   \n",
       "298118  thomas.a.martin@enron.com russell.ballato@enro...   \n",
       "114563                            dutch.quigley@enron.com   \n",
       "265950                             kevin.radous@enron.com   \n",
       "48362                                no.address@enron.com   \n",
       "265960                           rogers.herndon@enron.com   \n",
       "364370                              dan.dorland@enron.com   \n",
       "39049   frank.ermis@enron.com phillip.k.ellen@enron.co...   \n",
       "154189                          kimberly.hillis@enron.com   \n",
       "36276                              twanda.sweet@enron.com   \n",
       "181547      clint.freeland@enron.com rod.nelson@enron.com   \n",
       "120786  jeffrey.a.shankman@enron.com bob.shults@enron....   \n",
       "82496                            circulation@smenergy.com   \n",
       "181915                                mtierney@sempra.com   \n",
       "41650        lynn.blair@enron.com terry.kowalke@enron.com   \n",
       "233334                                jw1000mac@yahoo.com   \n",
       "19410                                halbromm@hotmail.com   \n",
       "273583                           rogers.herndon@enron.com   \n",
       "35316   eric.boyt@enron.com richard.b.sanders@enron.co...   \n",
       "40403                             karen.buckley@enron.com   \n",
       "110269                               tana.jones@enron.com   \n",
       "362989                         kdorland@titanelectric.com   \n",
       "180226       brent.hendry@enron.com kim.theriot@enron.com   \n",
       "39173                             john.lavorato@enron.com   \n",
       "\n",
       "                            sender  \\\n",
       "mid                                  \n",
       "190995   james.d.steffes@enron.com   \n",
       "288499    phillip.m.love@enron.com   \n",
       "288570    phillip.m.love@enron.com   \n",
       "265398    cheryl.johnson@enron.com   \n",
       "175880    stanley.horton@enron.com   \n",
       "268191   grace.rodriguez@enron.com   \n",
       "238221  stephanie.miller@enron.com   \n",
       "186537     sheila.glover@enron.com   \n",
       "362985     chris.dorland@enron.com   \n",
       "49437    james.d.steffes@enron.com   \n",
       "337282     chris.germany@enron.com   \n",
       "35921      michelle.cash@enron.com   \n",
       "252240     john.zufferli@enron.com   \n",
       "384392         eric.bass@enron.com   \n",
       "379844        david.port@enron.com   \n",
       "368956        sally.beck@enron.com   \n",
       "112198       susan.scott@enron.com   \n",
       "368185        sally.beck@enron.com   \n",
       "296820   richard.shapiro@enron.com   \n",
       "114966       susan.scott@enron.com   \n",
       "205179          jbennett@gmssr.com   \n",
       "60684    julie.armstrong@enron.com   \n",
       "154095     john.lavorato@enron.com   \n",
       "192009   richard.shapiro@enron.com   \n",
       "82360     barry.tycholiz@enron.com   \n",
       "89253   larry.f.campbell@enron.com   \n",
       "39104       mike.grigsby@enron.com   \n",
       "390735  hunter.s.shively@enron.com   \n",
       "369024        sally.beck@enron.com   \n",
       "383508         eric.bass@enron.com   \n",
       "...                            ...   \n",
       "383832         eric.bass@enron.com   \n",
       "76596          l..denton@enron.com   \n",
       "154657        tim.belden@enron.com   \n",
       "337059     chris.germany@enron.com   \n",
       "176031    stanley.horton@enron.com   \n",
       "182896   sara.shackleton@enron.com   \n",
       "128999       karen.denne@enron.com   \n",
       "298118     john.lavorato@enron.com   \n",
       "114563       susan.scott@enron.com   \n",
       "265950  fletcher.j.sturm@enron.com   \n",
       "48362    james.d.steffes@enron.com   \n",
       "265960  fletcher.j.sturm@enron.com   \n",
       "364370     chris.dorland@enron.com   \n",
       "39049       mike.grigsby@enron.com   \n",
       "154189     john.lavorato@enron.com   \n",
       "36276      michelle.cash@enron.com   \n",
       "181547   sara.shackleton@enron.com   \n",
       "120786     david.forster@enron.com   \n",
       "82496     barry.tycholiz@enron.com   \n",
       "181915   sara.shackleton@enron.com   \n",
       "41650         lynn.blair@enron.com   \n",
       "233334     james.derrick@enron.com   \n",
       "19410             taylor@enron.com   \n",
       "273583    kevin.m.presto@enron.com   \n",
       "35316      brian.redmond@enron.com   \n",
       "40403       mike.grigsby@enron.com   \n",
       "110269   stephanie.sever@enron.com   \n",
       "362989     chris.dorland@enron.com   \n",
       "180226   sara.shackleton@enron.com   \n",
       "39173       mike.grigsby@enron.com   \n",
       "\n",
       "                                              predictions  \n",
       "mid                                                        \n",
       "190995  michael.robison@enron.com michael.roan@enron.c...  \n",
       "288499  michael.robison@enron.com michael.roan@enron.c...  \n",
       "288570  andres.balmaceda@enron.com victor.guggenheim@e...  \n",
       "265398  robert.cotten@enron.com sylvia.pollan@enron.co...  \n",
       "175880  john.long@enron.com michael.roan@enron.com mic...  \n",
       "268191  michael.robison@enron.com michael.roan@enron.c...  \n",
       "238221  eric.ledain@enron.com kevin.heal@enron.com bar...  \n",
       "186537  sara.shackleton@enron.com susan.flynn@enron.co...  \n",
       "362985  mmolloy@oebi.com michael.roan@enron.com michae...  \n",
       "49437   michael.robison@enron.com michael.roan@enron.c...  \n",
       "337282  alvin.thompson@enron.com joann.collins@enron.c...  \n",
       "35921   twanda.sweet@enron.com michael.ratner@enron.co...  \n",
       "252240  derek.davies@enron.com michael.roan@enron.com ...  \n",
       "384392  daphneco64@bigplanet.com michael.robison@enron...  \n",
       "379844  ted.murphy@enron.com beth.apollo@enron.com tom...  \n",
       "368956  information.management@enron.com michael.roan@...  \n",
       "112198  ina.rangel@enron.com michael.roan@enron.com mi...  \n",
       "368185  michael.robison@enron.com michael.roan@enron.c...  \n",
       "296820  mark.frevert@enron.com tim.belden@enron.com st...  \n",
       "114966  lorraine.lindberg@enron.com michael.ratner@enr...  \n",
       "205179  jdasovic@enron.com james_d_steffes@enron.com s...  \n",
       "60684   no.address@enron.com michael.ratner@enron.com ...  \n",
       "154095  michael.robison@enron.com michael.roan@enron.c...  \n",
       "192009  bill.moore@enron.com stephen.burns@enron.com g...  \n",
       "82360   michael.robison@enron.com michael.roan@enron.c...  \n",
       "89253   michael.robison@enron.com michael.roan@enron.c...  \n",
       "39104   michael.robison@enron.com michael.roan@enron.c...  \n",
       "390735  jonathan.mckay@enron.com michael.ratner@enron....  \n",
       "369024  michael.robison@enron.com michael.roan@enron.c...  \n",
       "383508  michael.robison@enron.com michael.roan@enron.c...  \n",
       "...                                                   ...  \n",
       "383832  shanna.husser@enron.com michael.robison@enron....  \n",
       "76596   mark.symms@enron.com chris.lenartowicz@enron.c...  \n",
       "154657  greg.whalley@enron.com liz.taylor@enron.com no...  \n",
       "337059  marlene.hilliard@enron.com victor.lamadrid@enr...  \n",
       "176031  mmcgrath@eei.org michael.roan@enron.com michae...  \n",
       "182896  michael.robison@enron.com michael.roan@enron.c...  \n",
       "128999  jeff.dasovich@enron.com james.d.steffes@enron....  \n",
       "298118  michael.robison@enron.com michael.roan@enron.c...  \n",
       "114563  dutch.quigley@enron.com michael.robison@enron....  \n",
       "265950  kevin.radous@enron.com michael.robison@enron.c...  \n",
       "48362   no.address@enron.com michael.ratner@enron.com ...  \n",
       "265960  michael.robison@enron.com michael.roan@enron.c...  \n",
       "364370  dan.dorland@enron.com michael.robison@enron.co...  \n",
       "39049   michael.robison@enron.com michael.roan@enron.c...  \n",
       "154189  michael.robison@enron.com michael.roan@enron.c...  \n",
       "36276   twanda.sweet@enron.com michael.ratner@enron.co...  \n",
       "181547  rod.nelson@enron.com clint.freeland@enron.com ...  \n",
       "120786  rick.buy@enron.com bob.shults@enron.com john.s...  \n",
       "82496   circulation@smenergy.com michael.robison@enron...  \n",
       "181915  mtierney@sempra.com michael.roan@enron.com mic...  \n",
       "41650   michael.robison@enron.com michael.roan@enron.c...  \n",
       "233334  jw1000mac@yahoo.com michael.robison@enron.com ...  \n",
       "19410   michael.robison@enron.com michael.roan@enron.c...  \n",
       "273583  rogers.herndon@enron.com michael.roan@enron.co...  \n",
       "35316   eric.boyt@enron.com neal.gerstandt@enron.com e...  \n",
       "40403   michael.robison@enron.com michael.roan@enron.c...  \n",
       "110269  tana.jones@enron.com michael.roan@enron.com mi...  \n",
       "362989  kdorland@titanelectric.com michael.roan@enron....  \n",
       "180226  brent.hendry@enron.com kim.theriot@enron.com m...  \n",
       "39173   michael.robison@enron.com michael.roan@enron.c...  \n",
       "\n",
       "[1000 rows x 5 columns]"
      ]
     },
     "execution_count": 26,
     "metadata": {},
     "output_type": "execute_result"
    }
   ],
   "source": [
    "df_test"
   ]
  },
  {
   "cell_type": "code",
   "execution_count": 28,
   "metadata": {
    "collapsed": false,
    "deletable": true,
    "editable": true
   },
   "outputs": [],
   "source": [
    "def prec(row):\n",
    "    return precision(row[\"predictions\"], row[\"recipients\"])\n",
    "df_test[\"precision\"] = df_test.apply(prec, axis=1)"
   ]
  },
  {
   "cell_type": "code",
   "execution_count": 29,
   "metadata": {
    "collapsed": false,
    "deletable": true,
    "editable": true
   },
   "outputs": [
    {
     "data": {
      "text/plain": [
       "0.7359888888888888"
      ]
     },
     "execution_count": 29,
     "metadata": {},
     "output_type": "execute_result"
    }
   ],
   "source": [
    "df_test[\"precision\"].mean(axis=0)"
   ]
  },
  {
   "cell_type": "code",
   "execution_count": null,
   "metadata": {
    "collapsed": true
   },
   "outputs": [],
   "source": []
  }
 ],
 "metadata": {
  "kernelspec": {
   "display_name": "Python 3",
   "language": "python",
   "name": "python3"
  },
  "language_info": {
   "codemirror_mode": {
    "name": "ipython",
    "version": 3
   },
   "file_extension": ".py",
   "mimetype": "text/x-python",
   "name": "python",
   "nbconvert_exporter": "python",
   "pygments_lexer": "ipython3",
   "version": "3.5.2"
  }
 },
 "nbformat": 4,
 "nbformat_minor": 2
}
