{
 "cells": [
  {
   "cell_type": "code",
   "execution_count": null,
   "metadata": {
    "collapsed": false,
    "deletable": true,
    "editable": true
   },
   "outputs": [],
   "source": [
    "%load_ext autoreload\n",
    "%autoreload 2\n",
    "%matplotlib inline\n",
    "import os.path as op\n",
    "\n",
    "import matplotlib.pyplot as plt\n",
    "import pandas as pd\n",
    "import numpy as np\n",
    "from sklearn.feature_extraction.text import CountVectorizer, TfidfVectorizer\n",
    "\n",
    "from tools.utils import save_and_reload_df\n",
    "from tools.data_handling import enrich_emails_train, enrich_emails_test, unique_recipients, address_book\n",
    "from tools.data_cleansing import clean, remove_non_emails\n",
    "from tools.features import split_tokenizer, stem_tokenizer, lemmatize_tokenizer, VectorizerManager, FastCountVectorizer, GoWVectorizer\n",
    "from tools.evaluation import top_emails, evaluate, get_precision\n",
    "from tools.training import data_generator, EvaluateAndSave\n",
    "from tools.submission import save_submission"
   ]
  },
  {
   "cell_type": "markdown",
   "metadata": {
    "deletable": true,
    "editable": true
   },
   "source": [
    "# Process data"
   ]
  },
  {
   "cell_type": "code",
   "execution_count": null,
   "metadata": {
    "collapsed": false,
    "deletable": true,
    "editable": true
   },
   "outputs": [],
   "source": [
    "overwrite = False\n",
    "df_emails = enrich_emails_train(overwrite=overwrite)\n",
    "df_emails = df_emails.head(int(df_emails.shape[0]*1))\n",
    "# Remove recipients that are not emails (don't contain @)\n",
    "df_emails[\"recipients\"] = df_emails[\"recipients\"].apply(lambda x: remove_non_emails(x))"
   ]
  },
  {
   "cell_type": "markdown",
   "metadata": {
    "deletable": true,
    "editable": true
   },
   "source": [
    "## Train / Test split"
   ]
  },
  {
   "cell_type": "code",
   "execution_count": null,
   "metadata": {
    "collapsed": false,
    "deletable": true,
    "editable": true
   },
   "outputs": [],
   "source": [
    "ratio = 0.9\n",
    "n_train = int(ratio * df_emails.shape[0])\n",
    "df_train = df_emails.sample(n=n_train, random_state=0)\n",
    "df_test = df_emails.drop(df_train.index)"
   ]
  },
  {
   "cell_type": "markdown",
   "metadata": {
    "deletable": true,
    "editable": true
   },
   "source": [
    "## Clean & Tokenize"
   ]
  },
  {
   "cell_type": "code",
   "execution_count": null,
   "metadata": {
    "collapsed": true,
    "deletable": true,
    "editable": true
   },
   "outputs": [],
   "source": [
    "recipients = unique_recipients(df_train)\n",
    "names = address_book(recipients)\n",
    "names.add(\"fyi\")\n",
    "excepted_words = names"
   ]
  },
  {
   "cell_type": "markdown",
   "metadata": {
    "deletable": true,
    "editable": true
   },
   "source": [
    "Clean"
   ]
  },
  {
   "cell_type": "code",
   "execution_count": null,
   "metadata": {
    "collapsed": false,
    "deletable": true,
    "editable": true
   },
   "outputs": [],
   "source": [
    "@save_and_reload_df\n",
    "def clean_df_train(df, excepted_words):\n",
    "    df[\"clean_body\"] = df[\"body\"].apply(lambda x: clean(x, excepted_words, only_english=False))\n",
    "    return df\n",
    "\n",
    "\n",
    "@save_and_reload_df\n",
    "def clean_df_test(df, excepted_words):\n",
    "    df[\"clean_body\"] = df[\"body\"].apply(lambda x: clean(x, excepted_words, only_english=False))\n",
    "    return df\n",
    "\n",
    "\n",
    "overwrite = False\n",
    "df_train = clean_df_train(df_train, excepted_words, overwrite=overwrite)\n",
    "df_test = clean_df_test(df_test, excepted_words, overwrite=overwrite)"
   ]
  },
  {
   "cell_type": "markdown",
   "metadata": {
    "deletable": true,
    "editable": true
   },
   "source": [
    "Tokenize"
   ]
  },
  {
   "cell_type": "code",
   "execution_count": null,
   "metadata": {
    "collapsed": true,
    "deletable": true,
    "editable": true
   },
   "outputs": [],
   "source": [
    "# TODO: Regarder à quels mots correspondent les poids les plus grands"
   ]
  },
  {
   "cell_type": "code",
   "execution_count": null,
   "metadata": {
    "collapsed": false,
    "deletable": true,
    "editable": true
   },
   "outputs": [],
   "source": [
    "sender_vectorizer = FastCountVectorizer()\n",
    "body_vectorizer = GoWVectorizer(min_df=15, max_features=1000000)\n",
    "recipients_vectorizer = FastCountVectorizer(vocabulary=recipients)\n",
    "vm = VectorizerManager(sender_vectorizer, body_vectorizer, recipients_vectorizer)\n",
    "vm.fit_sender(df_train[\"sender\"])\n",
    "vm.fit_body(df_train[\"clean_body\"])\n",
    "vm.fit_recipients(df_train[\"recipients\"])\n",
    "print(\"Features: {}, Outputs: {}\".format(vm.n_features, vm.n_outputs))\n",
    "print(\"Train samples: {}, Test samples: {}\".format(df_train.shape[0], df_test.shape[0]))"
   ]
  },
  {
   "cell_type": "markdown",
   "metadata": {
    "deletable": true,
    "editable": true
   },
   "source": [
    "# Prediction"
   ]
  },
  {
   "cell_type": "markdown",
   "metadata": {
    "deletable": true,
    "editable": true
   },
   "source": [
    "## Neural Network"
   ]
  },
  {
   "cell_type": "code",
   "execution_count": null,
   "metadata": {
    "collapsed": true,
    "deletable": true,
    "editable": true
   },
   "outputs": [],
   "source": [
    "from keras.layers import Input, Dense, Dropout, merge\n",
    "from keras.models import Model\n",
    "from keras.optimizers import RMSprop\n",
    "from keras.backend.tensorflow_backend import set_session, clear_session\n",
    "import tensorflow as tf\n",
    "clear_session()\n",
    "tf.reset_default_graph()"
   ]
  },
  {
   "cell_type": "code",
   "execution_count": null,
   "metadata": {
    "collapsed": false,
    "deletable": true,
    "editable": true
   },
   "outputs": [],
   "source": [
    "# Set GPU memory usage\n",
    "config = tf.ConfigProto()\n",
    "config.gpu_options.per_process_gpu_memory_fraction = 0.45\n",
    "set_session(tf.Session(config=config))"
   ]
  },
  {
   "cell_type": "code",
   "execution_count": null,
   "metadata": {
    "collapsed": false,
    "deletable": true,
    "editable": true
   },
   "outputs": [],
   "source": [
    "batch_size = 32\n",
    "samples_per_epoch = 2048 * batch_size\n",
    "nb_epoch = 100\n",
    "\n",
    "# Create callbacks\n",
    "X_test = vm.vectorize_x(df_test)\n",
    "ground_truth = df_test[\"recipients\"].str.split(expand=True).as_matrix()\n",
    "recipients_map = np.array(vm.recipients_vectorizer.get_feature_names())\n",
    "\n",
    "callbacks = []\n",
    "filepath = \"models/weights_{epoch:02d}.hdf5\"\n",
    "evaluate_and_save = EvaluateAndSave(X_test, recipients_map, ground_truth,\n",
    "                                    batch_size=batch_size)\n",
    "callbacks.append(evaluate_and_save)\n",
    "\n",
    "generator = data_generator(df_train, vm=vm, batch_size=batch_size)"
   ]
  },
  {
   "cell_type": "code",
   "execution_count": null,
   "metadata": {
    "collapsed": false,
    "deletable": true,
    "editable": true
   },
   "outputs": [],
   "source": [
    "inputs = Input(shape=(vm.n_features,))\n",
    "dense1 = Dense(vm.n_outputs//2, activation='relu')(inputs)\n",
    "dense1 = Dropout(0.2)(dense1)\n",
    "dense2 = Dense(vm.n_outputs//2, activation='relu')(dense1)\n",
    "dense2 = Dropout(0.2)(dense2)\n",
    "dense2 = merge([dense1, dense2], mode=\"sum\")\n",
    "predictions = Dense(vm.n_outputs, activation='sigmoid')(dense2)\n",
    "\n",
    "optimizer = RMSprop(lr=0.001, rho=0.9, epsilon=1e-08, decay=0.000001)\n",
    "model = Model(input=inputs, output=predictions)\n",
    "model.compile(optimizer=optimizer,\n",
    "              loss=\"mse\")\n",
    "model.load_weights(\"models/nnet_0.45.hdf5\")\n",
    "print(model.summary())"
   ]
  },
  {
   "cell_type": "code",
   "execution_count": null,
   "metadata": {
    "collapsed": false,
    "deletable": true,
    "editable": true
   },
   "outputs": [],
   "source": [
    "model.fit_generator(\n",
    "    generator,\n",
    "    samples_per_epoch=samples_per_epoch, nb_epoch=nb_epoch,\n",
    "    callbacks=callbacks)"
   ]
  },
  {
   "cell_type": "markdown",
   "metadata": {
    "deletable": true,
    "editable": true
   },
   "source": [
    "## Test"
   ]
  },
  {
   "cell_type": "code",
   "execution_count": null,
   "metadata": {
    "collapsed": false,
    "deletable": true,
    "editable": true
   },
   "outputs": [],
   "source": [
    "model.load_weights(\"models/nnet_1488906783/nnet_0.427.hdf5\")\n",
    "Y_test = model.predict(X_test)\n",
    "predictions = top_emails(Y_test, recipients_map)\n",
    "precision = evaluate(predictions, ground_truth)\n",
    "print(\"*** Precision: {prec:.3f} ***\".format(prec=precision))"
   ]
  },
  {
   "cell_type": "code",
   "execution_count": null,
   "metadata": {
    "collapsed": false,
    "deletable": true,
    "editable": true
   },
   "outputs": [],
   "source": [
    "def shuffle_last(predictions, k_last=1):\n",
    "    # Shuffle the elements in the k last columns\n",
    "    # column per column\n",
    "    predictions = predictions.copy()\n",
    "    for j in range(k_last):\n",
    "        np.random.shuffle(predictions[:, -(j+1)])\n",
    "    return predictions\n",
    "\n",
    "precision = evaluate(shuffle_last(predictions, 4), ground_truth)\n",
    "print(\"*** Precision: {prec:.3f} ***\".format(prec=precision))"
   ]
  },
  {
   "cell_type": "markdown",
   "metadata": {
    "deletable": true,
    "editable": true
   },
   "source": [
    "# Submission"
   ]
  },
  {
   "cell_type": "code",
   "execution_count": null,
   "metadata": {
    "collapsed": false,
    "deletable": true,
    "editable": true
   },
   "outputs": [],
   "source": [
    "@save_and_reload_df\n",
    "def clean_df_submission(df, excepted_words):\n",
    "    df[\"clean_body\"] = df[\"body\"].apply(lambda x: clean(x, excepted_words, only_english=False))\n",
    "    return df\n",
    "\n",
    "df_submission = enrich_emails_test()\n",
    "df_submission = clean_df_submission(df_submission, excepted_words, overwrite=overwrite)\n",
    "X_submission = vm.vectorize_x(df_submission)"
   ]
  },
  {
   "cell_type": "code",
   "execution_count": null,
   "metadata": {
    "collapsed": false,
    "deletable": true,
    "editable": true
   },
   "outputs": [],
   "source": [
    "Y_submission = model.predict(X_submission)\n",
    "predictions = top_emails(Y_submission, recipients_map)\n",
    "predictions = shuffle_last(predictions, 4)"
   ]
  },
  {
   "cell_type": "code",
   "execution_count": null,
   "metadata": {
    "collapsed": false,
    "deletable": true,
    "editable": true
   },
   "outputs": [],
   "source": [
    "df_submission[\"recipients\"] = list(predictions)\n",
    "# Convert arrays to strings\n",
    "df_submission[\"recipients\"] = df_submission[\"recipients\"].apply(lambda x: \" \".join(x))\n",
    "\n",
    "save_submission(df_submission,\n",
    "                algo=\"neural net s\",\n",
    "                member=\"loulou\")"
   ]
  },
  {
   "cell_type": "code",
   "execution_count": null,
   "metadata": {
    "collapsed": true,
    "deletable": true,
    "editable": true
   },
   "outputs": [],
   "source": []
  }
 ],
 "metadata": {
  "kernelspec": {
   "display_name": "Python 3",
   "language": "python",
   "name": "python3"
  },
  "language_info": {
   "codemirror_mode": {
    "name": "ipython",
    "version": 3
   },
   "file_extension": ".py",
   "mimetype": "text/x-python",
   "name": "python",
   "nbconvert_exporter": "python",
   "pygments_lexer": "ipython3",
   "version": "3.5.2"
  }
 },
 "nbformat": 4,
 "nbformat_minor": 2
}
