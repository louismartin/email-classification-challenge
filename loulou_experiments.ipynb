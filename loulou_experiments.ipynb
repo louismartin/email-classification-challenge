{
 "cells": [
  {
   "cell_type": "code",
   "execution_count": 1,
   "metadata": {
    "collapsed": false
   },
   "outputs": [],
   "source": [
    "%load_ext autoreload\n",
    "%autoreload 2\n",
    "%matplotlib inline\n",
    "import os.path as op\n",
    "\n",
    "import matplotlib.pyplot as plt\n",
    "from qgrid import show_grid\n",
    "import pandas as pd\n",
    "import numpy as np\n",
    "\n",
    "from tools.data_cleansing import remove_numbers_and_ponctuation, remove_stopwords, remove_non_english_words, get_clean_df_train, get_clean_df_test\n",
    "from tools.data_exploration import print_email_by_id, emails_sent_distribution, emails_received_distribution,\\\n",
    "body_length_distribution, number_of_recipients_distribution\n",
    "from tools.data_handling import enrich_emails, load_email_senders, unique_recipients, address_book\n",
    "from tools.features import bag_of_words, bag_of_emails\n",
    "from tools.evaluation import top_emails, evaluate"
   ]
  },
  {
   "cell_type": "markdown",
   "metadata": {},
   "source": [
    "# Training & Testing data"
   ]
  },
  {
   "cell_type": "markdown",
   "metadata": {},
   "source": [
    "Train / Test split"
   ]
  },
  {
   "cell_type": "code",
   "execution_count": 2,
   "metadata": {
    "collapsed": false
   },
   "outputs": [
    {
     "name": "stdout",
     "output_type": "stream",
     "text": [
      "Reading dataframe from data/enrich_emails.csv\n",
      "Removing numbers and punctuation\n",
      "Removing stopwords\n",
      "Removing non english words\n",
      "Reading dataframe from data/enrich_emails.csv\n",
      "Reading dataframe from data/get_clean_df_train.csv\n",
      "Removing numbers and punctuation\n",
      "Removing stopwords\n",
      "Removing non english words\n"
     ]
    }
   ],
   "source": [
    "overwrite = False\n",
    "df_emails = enrich_emails(overwrite=overwrite)\n",
    "df_train = get_clean_df_train(ratio=0.9, overwrite=overwrite)\n",
    "df_test = get_clean_df_test(overwrite=overwrite)\n",
    "df_train = df_train.fillna(\"\")\n",
    "df_test = df_test.fillna(\"\")"
   ]
  },
  {
   "cell_type": "markdown",
   "metadata": {},
   "source": [
    "Vectorize"
   ]
  },
  {
   "cell_type": "code",
   "execution_count": 9,
   "metadata": {
    "collapsed": true
   },
   "outputs": [],
   "source": [
    "X_train, bow_vectorizer = bag_of_words(df_train[\"body\"], max_features=None)\n",
    "X_test = bow_vectorizer.transform(df_test[\"body\"])\n",
    "\n",
    "Y_train, boe_vectorizer = bag_of_emails(df_train[\"recipients\"], unique_recipients(df_train), max_features=None)\n",
    "\n",
    "# Convert from sparse matrix to numpy array\n",
    "X_train = X_train.toarray()\n",
    "X_test = X_test.toarray()\n",
    "Y_train = Y_train.toarray()"
   ]
  },
  {
   "cell_type": "code",
   "execution_count": 10,
   "metadata": {
    "collapsed": false
   },
   "outputs": [
    {
     "name": "stdout",
     "output_type": "stream",
     "text": [
      "Train samples: 39251 - Test samples: 4362\n",
      "Features: 25591 - Outputs: 9530\n"
     ]
    }
   ],
   "source": [
    "n_train_samples, n_outputs = Y_train.shape\n",
    "n_test_samples, n_features = X_test.shape\n",
    "print(\"Train samples: {} - Test samples: {}\\nFeatures: {} - Outputs: {}\".format(n_train_samples, n_test_samples, n_features, n_outputs))"
   ]
  },
  {
   "cell_type": "markdown",
   "metadata": {},
   "source": [
    "# Prediction"
   ]
  },
  {
   "cell_type": "markdown",
   "metadata": {},
   "source": [
    "## Linear regression\n",
    "Takes too long on the whole dataset and all features"
   ]
  },
  {
   "cell_type": "code",
   "execution_count": 7,
   "metadata": {
    "collapsed": false
   },
   "outputs": [],
   "source": [
    "from sklearn.linear_model import LinearRegression\n",
    "\n",
    "model = LinearRegression()\n",
    "model.fit(X_train, Y_train)\n",
    "\n",
    "Y_pred = model.predict(X_test)"
   ]
  },
  {
   "cell_type": "code",
   "execution_count": null,
   "metadata": {
    "collapsed": false
   },
   "outputs": [],
   "source": [
    "recipients_map = np.array(boe_vectorizer.get_feature_names())\n",
    "predictions = top_emails(Y_pred, recipients_map)\n",
    "ground_truth = df_test[\"recipients\"].str.split(expand=True).as_matrix()\n",
    "evaluate(predictions, ground_truth)"
   ]
  }
 ],
 "metadata": {
  "kernelspec": {
   "display_name": "Python 3",
   "language": "python",
   "name": "python3"
  },
  "language_info": {
   "codemirror_mode": {
    "name": "ipython",
    "version": 3
   },
   "file_extension": ".py",
   "mimetype": "text/x-python",
   "name": "python",
   "nbconvert_exporter": "python",
   "pygments_lexer": "ipython3",
   "version": "3.5.2"
  }
 },
 "nbformat": 4,
 "nbformat_minor": 2
}
