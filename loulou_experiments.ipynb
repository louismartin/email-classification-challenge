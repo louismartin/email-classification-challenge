{
 "cells": [
  {
   "cell_type": "code",
   "execution_count": null,
   "metadata": {
    "collapsed": false
   },
   "outputs": [],
   "source": [
    "%load_ext autoreload\n",
    "%autoreload 2\n",
    "%matplotlib inline\n",
    "import os.path as op\n",
    "\n",
    "import matplotlib.pyplot as plt\n",
    "from qgrid import show_grid\n",
    "import pandas as pd\n",
    "import numpy as np\n",
    "from sklearn.feature_extraction.text import CountVectorizer, TfidfVectorizer\n",
    "\n",
    "from tools.data_handling import enrich_emails, unique_recipients, address_book\n",
    "from tools.data_cleansing import clean\n",
    "from tools.features import split_tokenizer, stem_tokenizer, lemmatize_tokenizer\n",
    "from tools.evaluation import top_emails, evaluate\n",
    "from tools.training import data_generator, EvaluateAndSave"
   ]
  },
  {
   "cell_type": "markdown",
   "metadata": {},
   "source": [
    "# Process data"
   ]
  },
  {
   "cell_type": "code",
   "execution_count": null,
   "metadata": {
    "collapsed": false
   },
   "outputs": [],
   "source": [
    "overwrite = False\n",
    "df_emails = enrich_emails(overwrite=overwrite)"
   ]
  },
  {
   "cell_type": "markdown",
   "metadata": {},
   "source": [
    "## Train / Test split"
   ]
  },
  {
   "cell_type": "code",
   "execution_count": null,
   "metadata": {
    "collapsed": false
   },
   "outputs": [],
   "source": [
    "ratio = 0.9\n",
    "n_train = int(ratio * df_emails.shape[0])\n",
    "df_train = df_emails.sample(n=n_train, random_state=0)\n",
    "df_test = df_emails.drop(df_train.index)"
   ]
  },
  {
   "cell_type": "markdown",
   "metadata": {},
   "source": [
    "## Clean & Tokenize"
   ]
  },
  {
   "cell_type": "code",
   "execution_count": null,
   "metadata": {
    "collapsed": true
   },
   "outputs": [],
   "source": [
    "recipients = unique_recipients(df_train)\n",
    "names = address_book(recipients)\n",
    "excepted_words = names.add(\"fyi\")"
   ]
  },
  {
   "cell_type": "markdown",
   "metadata": {},
   "source": [
    "Clean"
   ]
  },
  {
   "cell_type": "code",
   "execution_count": null,
   "metadata": {
    "collapsed": false
   },
   "outputs": [],
   "source": [
    "df_train[\"clean_body\"] = clean(df_train[\"body\"], excepted_words, only_english=True)\n",
    "df_test[\"clean_body\"] = clean(df_test[\"body\"], excepted_words, only_english=True)"
   ]
  },
  {
   "cell_type": "markdown",
   "metadata": {},
   "source": [
    "Tokenize"
   ]
  },
  {
   "cell_type": "code",
   "execution_count": null,
   "metadata": {
    "collapsed": false
   },
   "outputs": [],
   "source": [
    "input_bow = TfidfVectorizer(norm=\"l2\", tokenizer=stem_tokenizer, min_df=5)\n",
    "output_bow = CountVectorizer(tokenizer=split_tokenizer, vocabulary=recipients)\n",
    "\n",
    "input_bow.fit(df_train[\"clean_body\"])\n",
    "output_bow.fit(df_train[\"recipients\"])\n",
    "\n",
    "n_features = len(input_bow.vocabulary_)\n",
    "n_outputs = len(output_bow.vocabulary_)\n",
    "print(\"Features: {} - Outputs: {}\".format(n_features, n_outputs))"
   ]
  },
  {
   "cell_type": "markdown",
   "metadata": {},
   "source": [
    "# Prediction"
   ]
  },
  {
   "cell_type": "markdown",
   "metadata": {},
   "source": [
    "## Neural Network"
   ]
  },
  {
   "cell_type": "code",
   "execution_count": null,
   "metadata": {
    "collapsed": true
   },
   "outputs": [],
   "source": [
    "from keras.layers import Input, Dense\n",
    "from keras.models import Model"
   ]
  },
  {
   "cell_type": "code",
   "execution_count": null,
   "metadata": {
    "collapsed": false
   },
   "outputs": [],
   "source": [
    "batch_size = 32\n",
    "samples_per_epoch = 32 * batch_size\n",
    "nb_epoch = 20\n",
    "\n",
    "inputs = Input(shape=(n_features,))\n",
    "x = inputs\n",
    "#x = Dense(n_features//2, activation='relu')(x)\n",
    "predictions = Dense(n_outputs, activation='softmax')(x)\n",
    "\n",
    "model = Model(input=inputs, output=predictions)\n",
    "model.compile(optimizer='rmsprop',\n",
    "              loss='categorical_crossentropy')"
   ]
  },
  {
   "cell_type": "code",
   "execution_count": null,
   "metadata": {
    "collapsed": false
   },
   "outputs": [],
   "source": [
    "# Create callbacks\n",
    "X_test = input_bow.transform(df_test[\"clean_body\"]).toarray()\n",
    "ground_truth = df_test[\"recipients\"].str.split(expand=True).as_matrix()\n",
    "recipients_map = np.array(output_bow.get_feature_names())\n",
    "\n",
    "callbacks = []\n",
    "filepath = \"models/weights_{epoch:02d}.hdf5\"\n",
    "evaluate_and_save = EvaluateAndSave(X_test, recipients_map, ground_truth,\n",
    "                                    batch_size=batch_size)\n",
    "callbacks.append(evaluate_and_save)\n",
    "\n",
    "generator = data_generator(\n",
    "    df_train, input_bow, output_bow, batch_size=batch_size\n",
    "    )\n",
    "\n",
    "model.fit_generator(\n",
    "    generator,\n",
    "    samples_per_epoch=samples_per_epoch, nb_epoch=nb_epoch,\n",
    "    callbacks=callbacks, nb_worker=1)"
   ]
  }
 ],
 "metadata": {
  "kernelspec": {
   "display_name": "Python 3",
   "language": "python",
   "name": "python3"
  },
  "language_info": {
   "codemirror_mode": {
    "name": "ipython",
    "version": 3
   },
   "file_extension": ".py",
   "mimetype": "text/x-python",
   "name": "python",
   "nbconvert_exporter": "python",
   "pygments_lexer": "ipython3",
   "version": "3.5.2"
  }
 },
 "nbformat": 4,
 "nbformat_minor": 2
}
