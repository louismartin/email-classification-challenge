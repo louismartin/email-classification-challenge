{
 "cells": [
  {
   "cell_type": "code",
   "execution_count": 1,
   "metadata": {
    "collapsed": false
   },
   "outputs": [],
   "source": [
    "%load_ext autoreload\n",
    "%autoreload 2\n",
    "%matplotlib inline\n",
    "import os.path as op\n",
    "\n",
    "import matplotlib.pyplot as plt\n",
    "from qgrid import show_grid\n",
    "import pandas as pd\n",
    "import numpy as np\n",
    "\n",
    "from tools.data_cleansing import remove_numbers_and_ponctuation, remove_stopwords, remove_non_english_words\n",
    "from tools.data_exploration import print_email_by_id, emails_sent_distribution, emails_received_distribution,\\\n",
    "body_length_distribution, number_of_recipients_distribution\n",
    "from tools.data_handling import enrich_emails, load_email_senders, unique_recipients, address_book\n",
    "from tools.features import bag_of_words, bag_of_emails\n",
    "from tools.evaluation import top_emails, evaluate"
   ]
  },
  {
   "cell_type": "markdown",
   "metadata": {},
   "source": [
    "# Training & Testing data"
   ]
  },
  {
   "cell_type": "markdown",
   "metadata": {},
   "source": [
    "Load csv"
   ]
  },
  {
   "cell_type": "code",
   "execution_count": 2,
   "metadata": {
    "collapsed": false
   },
   "outputs": [
    {
     "name": "stdout",
     "output_type": "stream",
     "text": [
      "Reading dataframe from data/enrich_emails.csv\n"
     ]
    }
   ],
   "source": [
    "df_emails = enrich_emails()"
   ]
  },
  {
   "cell_type": "markdown",
   "metadata": {},
   "source": [
    "Train / Test split"
   ]
  },
  {
   "cell_type": "code",
   "execution_count": 3,
   "metadata": {
    "collapsed": false
   },
   "outputs": [],
   "source": [
    "ratio = 0.9\n",
    "n_train = int(ratio * df_emails.shape[0])\n",
    "df_train = df_emails.sample(n=n_train, random_state=0).head(n=1000)\n",
    "df_test = df_emails.drop(df_train.index).head(n=100)"
   ]
  },
  {
   "cell_type": "markdown",
   "metadata": {},
   "source": [
    "Clean data"
   ]
  },
  {
   "cell_type": "code",
   "execution_count": 4,
   "metadata": {
    "collapsed": false
   },
   "outputs": [
    {
     "name": "stdout",
     "output_type": "stream",
     "text": [
      "Removing numbers and punctuation\n",
      "Removing stopwords\n",
      "Removing non english words\n",
      "Removing numbers and punctuation\n",
      "Removing stopwords\n",
      "Removing non english words\n"
     ]
    }
   ],
   "source": [
    "recipients = unique_recipients(df_train)\n",
    "names = address_book(recipients)\n",
    "for df in [df_train, df_test]:\n",
    "    print(\"Removing numbers and punctuation\")\n",
    "    df[\"body\"] = remove_numbers_and_ponctuation(df[\"body\"])\n",
    "    print(\"Removing stopwords\")\n",
    "    df[\"body\"] = remove_stopwords(df[\"body\"])\n",
    "    print(\"Removing non english words\")\n",
    "    df[\"body\"] = remove_non_english_words(df[\"body\"], address_book=names)"
   ]
  },
  {
   "cell_type": "markdown",
   "metadata": {},
   "source": [
    "Vectorize"
   ]
  },
  {
   "cell_type": "code",
   "execution_count": 5,
   "metadata": {
    "collapsed": true
   },
   "outputs": [],
   "source": [
    "X_train, bow_vectorizer = bag_of_words(df_train[\"body\"], max_features=1000)\n",
    "X_test = bow_vectorizer.transform(df_test[\"body\"])"
   ]
  },
  {
   "cell_type": "code",
   "execution_count": 9,
   "metadata": {
    "collapsed": false
   },
   "outputs": [],
   "source": [
    "Y_train, boe_vectorizer = bag_of_emails(df_train[\"recipients\"], recipients, max_features=20)"
   ]
  },
  {
   "cell_type": "markdown",
   "metadata": {},
   "source": [
    "# Prediction"
   ]
  },
  {
   "cell_type": "code",
   "execution_count": 7,
   "metadata": {
    "collapsed": false
   },
   "outputs": [],
   "source": [
    "from sklearn.linear_model import LinearRegression\n",
    "\n",
    "model = LinearRegression()\n",
    "model.fit(X_train, Y_train.toarray())\n",
    "\n",
    "Y_pred = model.predict(X_test)"
   ]
  },
  {
   "cell_type": "code",
   "execution_count": 11,
   "metadata": {
    "collapsed": false
   },
   "outputs": [
    {
     "data": {
      "text/plain": [
       "0.035637301587301586"
      ]
     },
     "execution_count": 11,
     "metadata": {},
     "output_type": "execute_result"
    }
   ],
   "source": [
    "recipients_map = np.array(boe_vectorizer.get_feature_names())\n",
    "predictions = top_emails(Y_pred, recipients_map)\n",
    "ground_truth = df_test[\"recipients\"].str.split(expand=True).as_matrix()\n",
    "evaluate(predictions, ground_truth)"
   ]
  }
 ],
 "metadata": {
  "kernelspec": {
   "display_name": "Python 3",
   "language": "python",
   "name": "python3"
  },
  "language_info": {
   "codemirror_mode": {
    "name": "ipython",
    "version": 3
   },
   "file_extension": ".py",
   "mimetype": "text/x-python",
   "name": "python",
   "nbconvert_exporter": "python",
   "pygments_lexer": "ipython3",
   "version": "3.5.2"
  }
 },
 "nbformat": 4,
 "nbformat_minor": 2
}
