{
 "cells": [
  {
   "cell_type": "code",
   "execution_count": null,
   "metadata": {
    "collapsed": false,
    "deletable": true,
    "editable": true
   },
   "outputs": [],
   "source": [
    "%load_ext autoreload\n",
    "%autoreload 2\n",
    "%matplotlib inline\n",
    "import os.path as op\n",
    "\n",
    "import matplotlib.pyplot as plt\n",
    "import pandas as pd\n",
    "import numpy as np\n",
    "from sklearn.feature_extraction.text import CountVectorizer, TfidfVectorizer\n",
    "\n",
    "from tools.data_handling import enrich_emails, unique_recipients, address_book\n",
    "from tools.data_cleansing import clean\n",
    "from tools.features import split_tokenizer, stem_tokenizer, lemmatize_tokenizer, VectorizerManager, FastCountVectorizer, GoWVectorizer\n",
    "from tools.evaluation import top_emails, evaluate\n",
    "from tools.training import data_generator, EvaluateAndSave"
   ]
  },
  {
   "cell_type": "markdown",
   "metadata": {
    "deletable": true,
    "editable": true
   },
   "source": [
    "# Process data"
   ]
  },
  {
   "cell_type": "code",
   "execution_count": null,
   "metadata": {
    "collapsed": false,
    "deletable": true,
    "editable": true
   },
   "outputs": [],
   "source": [
    "overwrite = False\n",
    "df_emails = enrich_emails(overwrite=overwrite)\n",
    "df_emails = df_emails.head(int(df_emails.shape[0]*0.2))"
   ]
  },
  {
   "cell_type": "markdown",
   "metadata": {
    "deletable": true,
    "editable": true
   },
   "source": [
    "## Train / Test split"
   ]
  },
  {
   "cell_type": "code",
   "execution_count": null,
   "metadata": {
    "collapsed": false,
    "deletable": true,
    "editable": true
   },
   "outputs": [],
   "source": [
    "ratio = 0.9\n",
    "n_train = int(ratio * df_emails.shape[0])\n",
    "df_train = df_emails.sample(n=n_train, random_state=0)\n",
    "df_test = df_emails.drop(df_train.index)"
   ]
  },
  {
   "cell_type": "markdown",
   "metadata": {
    "deletable": true,
    "editable": true
   },
   "source": [
    "## Clean & Tokenize"
   ]
  },
  {
   "cell_type": "code",
   "execution_count": null,
   "metadata": {
    "collapsed": true,
    "deletable": true,
    "editable": true
   },
   "outputs": [],
   "source": [
    "recipients = unique_recipients(df_train)\n",
    "names = address_book(recipients)\n",
    "names.add(\"fyi\")\n",
    "excepted_words = names"
   ]
  },
  {
   "cell_type": "markdown",
   "metadata": {
    "deletable": true,
    "editable": true
   },
   "source": [
    "Clean"
   ]
  },
  {
   "cell_type": "code",
   "execution_count": null,
   "metadata": {
    "collapsed": true,
    "deletable": true,
    "editable": true
   },
   "outputs": [],
   "source": [
    "# TODO: all_recipients += df_emails[\"sender\"].str.cat(sep=\" \").split()"
   ]
  },
  {
   "cell_type": "code",
   "execution_count": null,
   "metadata": {
    "collapsed": false,
    "deletable": true,
    "editable": true
   },
   "outputs": [],
   "source": [
    "@save_and_reload_df\n",
    "def clean_df_train(df, excepted_words):\n",
    "    df[\"clean_body\"] = df[\"body\"].apply(lambda x: clean(x, excepted_words, only_english=False))\n",
    "    return df\n",
    "\n",
    "\n",
    "@save_and_reload_df\n",
    "def clean_df_test(df, excepted_words):\n",
    "    df[\"clean_body\"] = df[\"body\"].apply(lambda x: clean(x, excepted_words, only_english=False))\n",
    "    return df\n",
    "\n",
    "overwrite = True\n",
    "df_train = clean_df_train(df_train, excepted_words, overwrite=overwrite)\n",
    "df_test = clean_df_test(df_test, excepted_words, overwrite=overwrite)"
   ]
  },
  {
   "cell_type": "markdown",
   "metadata": {
    "deletable": true,
    "editable": true
   },
   "source": [
    "Tokenize"
   ]
  },
  {
   "cell_type": "code",
   "execution_count": null,
   "metadata": {
    "collapsed": true,
    "deletable": true,
    "editable": true
   },
   "outputs": [],
   "source": [
    "# TODO: Tester en input uniquement les noms de l'address book\n",
    "# TODO: Rajouter en input le sender\n",
    "# TODO: Regarder à quels mots correspondent les poids les plus grands"
   ]
  },
  {
   "cell_type": "code",
   "execution_count": null,
   "metadata": {
    "collapsed": false,
    "deletable": true,
    "editable": true
   },
   "outputs": [],
   "source": [
    "sender_vectorizer = FastCountVectorizer()\n",
    "body_vectorizer = FastCountVectorizer()\n",
    "recipients_vectorizer = CountVectorizer(vocabulary=recipients)\n",
    "vm = VectorizerManager(sender_vectorizer, body_vectorizer, recipients_vectorizer)\n",
    "vm.fit_sender(df_train[\"sender\"])\n",
    "vm.fit_body(df_train[\"clean_body\"])\n",
    "vm.fit_recipients(df_train[\"recipients\"])\n",
    "print(\"Features: {}, Outputs: {}\".format(vm.n_features, vm.n_outputs))"
   ]
  },
  {
   "cell_type": "markdown",
   "metadata": {
    "deletable": true,
    "editable": true
   },
   "source": [
    "# Prediction"
   ]
  },
  {
   "cell_type": "markdown",
   "metadata": {
    "deletable": true,
    "editable": true
   },
   "source": [
    "## Neural Network"
   ]
  },
  {
   "cell_type": "code",
   "execution_count": null,
   "metadata": {
    "collapsed": true,
    "deletable": true,
    "editable": true
   },
   "outputs": [],
   "source": [
    "from keras.layers import Input, Dense\n",
    "from keras.models import Model\n",
    "from keras.backend.tensorflow_backend import set_session, clear_session\n",
    "import tensorflow as tf\n",
    "clear_session()\n",
    "tf.reset_default_graph()"
   ]
  },
  {
   "cell_type": "code",
   "execution_count": null,
   "metadata": {
    "collapsed": true
   },
   "outputs": [],
   "source": [
    "# Set GPU memory usage\n",
    "#config = tf.ConfigProto()\n",
    "#config.gpu_options.per_process_gpu_memory_fraction = 1\n",
    "#set_session(tf.Session(config=config))"
   ]
  },
  {
   "cell_type": "code",
   "execution_count": null,
   "metadata": {
    "collapsed": false,
    "deletable": true,
    "editable": true
   },
   "outputs": [],
   "source": [
    "batch_size = 8\n",
    "samples_per_epoch = 8 * batch_size\n",
    "nb_epoch = 20\n",
    "\n",
    "# Create callbacks\n",
    "X_test_body = vm.vectorize_body(df_test[\"clean_body\"])\n",
    "X_test_sender = vm.vectorize_sender(df_test[\"sender\"])\n",
    "X_test = np.concatenate((X_test_body, X_test_sender), axis=1)\n",
    "ground_truth = df_test[\"recipients\"].str.split(expand=True).as_matrix()\n",
    "recipients_map = np.array(vm.recipients_vectorizer.get_feature_names())\n",
    "\n",
    "callbacks = []\n",
    "filepath = \"models/weights_{epoch:02d}.hdf5\"\n",
    "evaluate_and_save = EvaluateAndSave(X_test, recipients_map, ground_truth,\n",
    "                                    batch_size=batch_size)\n",
    "callbacks.append(evaluate_and_save)\n",
    "\n",
    "generator = data_generator(df_train, vm=vm, batch_size=batch_size)"
   ]
  },
  {
   "cell_type": "code",
   "execution_count": null,
   "metadata": {
    "collapsed": false,
    "deletable": true,
    "editable": true
   },
   "outputs": [],
   "source": [
    "inputs = Input(shape=(vm.n_features,))\n",
    "x = inputs\n",
    "x = Dense(vm.n_outputs//8, activation='relu')(x)\n",
    "x = Dense(vm.n_outputs//4, activation='relu')(x)\n",
    "# TODO: Changer softmax\n",
    "predictions = Dense(vm.n_outputs, activation='softmax')(x)\n",
    "\n",
    "model = Model(input=inputs, output=predictions)\n",
    "model.compile(optimizer='rmsprop',\n",
    "              loss='categorical_crossentropy')\n",
    "\n",
    "\n",
    "model.fit_generator(\n",
    "    generator,\n",
    "    samples_per_epoch=samples_per_epoch, nb_epoch=nb_epoch,\n",
    "    callbacks=callbacks)"
   ]
  }
 ],
 "metadata": {
  "kernelspec": {
   "display_name": "Python 3",
   "language": "python",
   "name": "python3"
  },
  "language_info": {
   "codemirror_mode": {
    "name": "ipython",
    "version": 3
   },
   "file_extension": ".py",
   "mimetype": "text/x-python",
   "name": "python",
   "nbconvert_exporter": "python",
   "pygments_lexer": "ipython3",
   "version": "3.6.0"
  }
 },
 "nbformat": 4,
 "nbformat_minor": 2
}
